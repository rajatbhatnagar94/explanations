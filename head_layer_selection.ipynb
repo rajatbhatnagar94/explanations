{
 "cells": [
  {
   "cell_type": "code",
   "execution_count": 1,
   "metadata": {},
   "outputs": [],
   "source": [
    "from transformers import BertModel, BertTokenizer, BertConfig, BertForSequenceClassification\n",
    "import os\n",
    "import pandas as pd\n",
    "import torch\n",
    "import transformers\n",
    "import time\n",
    "import datetime\n",
    "import numpy as np\n",
    "import random\n",
    "import os\n",
    "from IPython.core.display import display, HTML"
   ]
  },
  {
   "cell_type": "code",
   "execution_count": 2,
   "metadata": {},
   "outputs": [],
   "source": [
    "device = torch.device(\"cuda:0\" if torch.cuda.is_available() else \"cpu\")\n",
    "datasets = [\n",
    "    {\n",
    "        \"name\": \"Stanford treebank\",\n",
    "        \"prefix\": \"stanford_treebank\",\n",
    "        \"train_path\": \"/data/sam/stanford_treebank/sst_train.csv\",\n",
    "        \"dev_path\": \"/data/sam/stanford_treebank/sst_dev.csv\",\n",
    "        \"test_path\": \"/data/sam/stanford_treebank/sst_test.csv\",\n",
    "        'classes': ['neg', 'pos']\n",
    "    }\n",
    "]"
   ]
  },
  {
   "cell_type": "code",
   "execution_count": 3,
   "metadata": {},
   "outputs": [
    {
     "data": {
      "text/plain": [
       "BertForSequenceClassification(\n",
       "  (bert): BertModel(\n",
       "    (embeddings): BertEmbeddings(\n",
       "      (word_embeddings): Embedding(30522, 768, padding_idx=0)\n",
       "      (position_embeddings): Embedding(512, 768)\n",
       "      (token_type_embeddings): Embedding(2, 768)\n",
       "      (LayerNorm): LayerNorm((768,), eps=1e-12, elementwise_affine=True)\n",
       "      (dropout): Dropout(p=0.1, inplace=False)\n",
       "    )\n",
       "    (encoder): BertEncoder(\n",
       "      (layer): ModuleList(\n",
       "        (0): BertLayer(\n",
       "          (attention): BertAttention(\n",
       "            (self): BertSelfAttention(\n",
       "              (query): Linear(in_features=768, out_features=768, bias=True)\n",
       "              (key): Linear(in_features=768, out_features=768, bias=True)\n",
       "              (value): Linear(in_features=768, out_features=768, bias=True)\n",
       "              (dropout): Dropout(p=0.1, inplace=False)\n",
       "            )\n",
       "            (output): BertSelfOutput(\n",
       "              (dense): Linear(in_features=768, out_features=768, bias=True)\n",
       "              (LayerNorm): LayerNorm((768,), eps=1e-12, elementwise_affine=True)\n",
       "              (dropout): Dropout(p=0.1, inplace=False)\n",
       "            )\n",
       "          )\n",
       "          (intermediate): BertIntermediate(\n",
       "            (dense): Linear(in_features=768, out_features=3072, bias=True)\n",
       "          )\n",
       "          (output): BertOutput(\n",
       "            (dense): Linear(in_features=3072, out_features=768, bias=True)\n",
       "            (LayerNorm): LayerNorm((768,), eps=1e-12, elementwise_affine=True)\n",
       "            (dropout): Dropout(p=0.1, inplace=False)\n",
       "          )\n",
       "        )\n",
       "        (1): BertLayer(\n",
       "          (attention): BertAttention(\n",
       "            (self): BertSelfAttention(\n",
       "              (query): Linear(in_features=768, out_features=768, bias=True)\n",
       "              (key): Linear(in_features=768, out_features=768, bias=True)\n",
       "              (value): Linear(in_features=768, out_features=768, bias=True)\n",
       "              (dropout): Dropout(p=0.1, inplace=False)\n",
       "            )\n",
       "            (output): BertSelfOutput(\n",
       "              (dense): Linear(in_features=768, out_features=768, bias=True)\n",
       "              (LayerNorm): LayerNorm((768,), eps=1e-12, elementwise_affine=True)\n",
       "              (dropout): Dropout(p=0.1, inplace=False)\n",
       "            )\n",
       "          )\n",
       "          (intermediate): BertIntermediate(\n",
       "            (dense): Linear(in_features=768, out_features=3072, bias=True)\n",
       "          )\n",
       "          (output): BertOutput(\n",
       "            (dense): Linear(in_features=3072, out_features=768, bias=True)\n",
       "            (LayerNorm): LayerNorm((768,), eps=1e-12, elementwise_affine=True)\n",
       "            (dropout): Dropout(p=0.1, inplace=False)\n",
       "          )\n",
       "        )\n",
       "        (2): BertLayer(\n",
       "          (attention): BertAttention(\n",
       "            (self): BertSelfAttention(\n",
       "              (query): Linear(in_features=768, out_features=768, bias=True)\n",
       "              (key): Linear(in_features=768, out_features=768, bias=True)\n",
       "              (value): Linear(in_features=768, out_features=768, bias=True)\n",
       "              (dropout): Dropout(p=0.1, inplace=False)\n",
       "            )\n",
       "            (output): BertSelfOutput(\n",
       "              (dense): Linear(in_features=768, out_features=768, bias=True)\n",
       "              (LayerNorm): LayerNorm((768,), eps=1e-12, elementwise_affine=True)\n",
       "              (dropout): Dropout(p=0.1, inplace=False)\n",
       "            )\n",
       "          )\n",
       "          (intermediate): BertIntermediate(\n",
       "            (dense): Linear(in_features=768, out_features=3072, bias=True)\n",
       "          )\n",
       "          (output): BertOutput(\n",
       "            (dense): Linear(in_features=3072, out_features=768, bias=True)\n",
       "            (LayerNorm): LayerNorm((768,), eps=1e-12, elementwise_affine=True)\n",
       "            (dropout): Dropout(p=0.1, inplace=False)\n",
       "          )\n",
       "        )\n",
       "        (3): BertLayer(\n",
       "          (attention): BertAttention(\n",
       "            (self): BertSelfAttention(\n",
       "              (query): Linear(in_features=768, out_features=768, bias=True)\n",
       "              (key): Linear(in_features=768, out_features=768, bias=True)\n",
       "              (value): Linear(in_features=768, out_features=768, bias=True)\n",
       "              (dropout): Dropout(p=0.1, inplace=False)\n",
       "            )\n",
       "            (output): BertSelfOutput(\n",
       "              (dense): Linear(in_features=768, out_features=768, bias=True)\n",
       "              (LayerNorm): LayerNorm((768,), eps=1e-12, elementwise_affine=True)\n",
       "              (dropout): Dropout(p=0.1, inplace=False)\n",
       "            )\n",
       "          )\n",
       "          (intermediate): BertIntermediate(\n",
       "            (dense): Linear(in_features=768, out_features=3072, bias=True)\n",
       "          )\n",
       "          (output): BertOutput(\n",
       "            (dense): Linear(in_features=3072, out_features=768, bias=True)\n",
       "            (LayerNorm): LayerNorm((768,), eps=1e-12, elementwise_affine=True)\n",
       "            (dropout): Dropout(p=0.1, inplace=False)\n",
       "          )\n",
       "        )\n",
       "        (4): BertLayer(\n",
       "          (attention): BertAttention(\n",
       "            (self): BertSelfAttention(\n",
       "              (query): Linear(in_features=768, out_features=768, bias=True)\n",
       "              (key): Linear(in_features=768, out_features=768, bias=True)\n",
       "              (value): Linear(in_features=768, out_features=768, bias=True)\n",
       "              (dropout): Dropout(p=0.1, inplace=False)\n",
       "            )\n",
       "            (output): BertSelfOutput(\n",
       "              (dense): Linear(in_features=768, out_features=768, bias=True)\n",
       "              (LayerNorm): LayerNorm((768,), eps=1e-12, elementwise_affine=True)\n",
       "              (dropout): Dropout(p=0.1, inplace=False)\n",
       "            )\n",
       "          )\n",
       "          (intermediate): BertIntermediate(\n",
       "            (dense): Linear(in_features=768, out_features=3072, bias=True)\n",
       "          )\n",
       "          (output): BertOutput(\n",
       "            (dense): Linear(in_features=3072, out_features=768, bias=True)\n",
       "            (LayerNorm): LayerNorm((768,), eps=1e-12, elementwise_affine=True)\n",
       "            (dropout): Dropout(p=0.1, inplace=False)\n",
       "          )\n",
       "        )\n",
       "        (5): BertLayer(\n",
       "          (attention): BertAttention(\n",
       "            (self): BertSelfAttention(\n",
       "              (query): Linear(in_features=768, out_features=768, bias=True)\n",
       "              (key): Linear(in_features=768, out_features=768, bias=True)\n",
       "              (value): Linear(in_features=768, out_features=768, bias=True)\n",
       "              (dropout): Dropout(p=0.1, inplace=False)\n",
       "            )\n",
       "            (output): BertSelfOutput(\n",
       "              (dense): Linear(in_features=768, out_features=768, bias=True)\n",
       "              (LayerNorm): LayerNorm((768,), eps=1e-12, elementwise_affine=True)\n",
       "              (dropout): Dropout(p=0.1, inplace=False)\n",
       "            )\n",
       "          )\n",
       "          (intermediate): BertIntermediate(\n",
       "            (dense): Linear(in_features=768, out_features=3072, bias=True)\n",
       "          )\n",
       "          (output): BertOutput(\n",
       "            (dense): Linear(in_features=3072, out_features=768, bias=True)\n",
       "            (LayerNorm): LayerNorm((768,), eps=1e-12, elementwise_affine=True)\n",
       "            (dropout): Dropout(p=0.1, inplace=False)\n",
       "          )\n",
       "        )\n",
       "        (6): BertLayer(\n",
       "          (attention): BertAttention(\n",
       "            (self): BertSelfAttention(\n",
       "              (query): Linear(in_features=768, out_features=768, bias=True)\n",
       "              (key): Linear(in_features=768, out_features=768, bias=True)\n",
       "              (value): Linear(in_features=768, out_features=768, bias=True)\n",
       "              (dropout): Dropout(p=0.1, inplace=False)\n",
       "            )\n",
       "            (output): BertSelfOutput(\n",
       "              (dense): Linear(in_features=768, out_features=768, bias=True)\n",
       "              (LayerNorm): LayerNorm((768,), eps=1e-12, elementwise_affine=True)\n",
       "              (dropout): Dropout(p=0.1, inplace=False)\n",
       "            )\n",
       "          )\n",
       "          (intermediate): BertIntermediate(\n",
       "            (dense): Linear(in_features=768, out_features=3072, bias=True)\n",
       "          )\n",
       "          (output): BertOutput(\n",
       "            (dense): Linear(in_features=3072, out_features=768, bias=True)\n",
       "            (LayerNorm): LayerNorm((768,), eps=1e-12, elementwise_affine=True)\n",
       "            (dropout): Dropout(p=0.1, inplace=False)\n",
       "          )\n",
       "        )\n",
       "        (7): BertLayer(\n",
       "          (attention): BertAttention(\n",
       "            (self): BertSelfAttention(\n",
       "              (query): Linear(in_features=768, out_features=768, bias=True)\n",
       "              (key): Linear(in_features=768, out_features=768, bias=True)\n",
       "              (value): Linear(in_features=768, out_features=768, bias=True)\n",
       "              (dropout): Dropout(p=0.1, inplace=False)\n",
       "            )\n",
       "            (output): BertSelfOutput(\n",
       "              (dense): Linear(in_features=768, out_features=768, bias=True)\n",
       "              (LayerNorm): LayerNorm((768,), eps=1e-12, elementwise_affine=True)\n",
       "              (dropout): Dropout(p=0.1, inplace=False)\n",
       "            )\n",
       "          )\n",
       "          (intermediate): BertIntermediate(\n",
       "            (dense): Linear(in_features=768, out_features=3072, bias=True)\n",
       "          )\n",
       "          (output): BertOutput(\n",
       "            (dense): Linear(in_features=3072, out_features=768, bias=True)\n",
       "            (LayerNorm): LayerNorm((768,), eps=1e-12, elementwise_affine=True)\n",
       "            (dropout): Dropout(p=0.1, inplace=False)\n",
       "          )\n",
       "        )\n",
       "        (8): BertLayer(\n",
       "          (attention): BertAttention(\n",
       "            (self): BertSelfAttention(\n",
       "              (query): Linear(in_features=768, out_features=768, bias=True)\n",
       "              (key): Linear(in_features=768, out_features=768, bias=True)\n",
       "              (value): Linear(in_features=768, out_features=768, bias=True)\n",
       "              (dropout): Dropout(p=0.1, inplace=False)\n",
       "            )\n",
       "            (output): BertSelfOutput(\n",
       "              (dense): Linear(in_features=768, out_features=768, bias=True)\n",
       "              (LayerNorm): LayerNorm((768,), eps=1e-12, elementwise_affine=True)\n",
       "              (dropout): Dropout(p=0.1, inplace=False)\n",
       "            )\n",
       "          )\n",
       "          (intermediate): BertIntermediate(\n",
       "            (dense): Linear(in_features=768, out_features=3072, bias=True)\n",
       "          )\n",
       "          (output): BertOutput(\n",
       "            (dense): Linear(in_features=3072, out_features=768, bias=True)\n",
       "            (LayerNorm): LayerNorm((768,), eps=1e-12, elementwise_affine=True)\n",
       "            (dropout): Dropout(p=0.1, inplace=False)\n",
       "          )\n",
       "        )\n",
       "        (9): BertLayer(\n",
       "          (attention): BertAttention(\n",
       "            (self): BertSelfAttention(\n",
       "              (query): Linear(in_features=768, out_features=768, bias=True)\n",
       "              (key): Linear(in_features=768, out_features=768, bias=True)\n",
       "              (value): Linear(in_features=768, out_features=768, bias=True)\n",
       "              (dropout): Dropout(p=0.1, inplace=False)\n",
       "            )\n",
       "            (output): BertSelfOutput(\n",
       "              (dense): Linear(in_features=768, out_features=768, bias=True)\n",
       "              (LayerNorm): LayerNorm((768,), eps=1e-12, elementwise_affine=True)\n",
       "              (dropout): Dropout(p=0.1, inplace=False)\n",
       "            )\n",
       "          )\n",
       "          (intermediate): BertIntermediate(\n",
       "            (dense): Linear(in_features=768, out_features=3072, bias=True)\n",
       "          )\n",
       "          (output): BertOutput(\n",
       "            (dense): Linear(in_features=3072, out_features=768, bias=True)\n",
       "            (LayerNorm): LayerNorm((768,), eps=1e-12, elementwise_affine=True)\n",
       "            (dropout): Dropout(p=0.1, inplace=False)\n",
       "          )\n",
       "        )\n",
       "        (10): BertLayer(\n",
       "          (attention): BertAttention(\n",
       "            (self): BertSelfAttention(\n",
       "              (query): Linear(in_features=768, out_features=768, bias=True)\n",
       "              (key): Linear(in_features=768, out_features=768, bias=True)\n",
       "              (value): Linear(in_features=768, out_features=768, bias=True)\n",
       "              (dropout): Dropout(p=0.1, inplace=False)\n",
       "            )\n",
       "            (output): BertSelfOutput(\n",
       "              (dense): Linear(in_features=768, out_features=768, bias=True)\n",
       "              (LayerNorm): LayerNorm((768,), eps=1e-12, elementwise_affine=True)\n",
       "              (dropout): Dropout(p=0.1, inplace=False)\n",
       "            )\n",
       "          )\n",
       "          (intermediate): BertIntermediate(\n",
       "            (dense): Linear(in_features=768, out_features=3072, bias=True)\n",
       "          )\n",
       "          (output): BertOutput(\n",
       "            (dense): Linear(in_features=3072, out_features=768, bias=True)\n",
       "            (LayerNorm): LayerNorm((768,), eps=1e-12, elementwise_affine=True)\n",
       "            (dropout): Dropout(p=0.1, inplace=False)\n",
       "          )\n",
       "        )\n",
       "        (11): BertLayer(\n",
       "          (attention): BertAttention(\n",
       "            (self): BertSelfAttention(\n",
       "              (query): Linear(in_features=768, out_features=768, bias=True)\n",
       "              (key): Linear(in_features=768, out_features=768, bias=True)\n",
       "              (value): Linear(in_features=768, out_features=768, bias=True)\n",
       "              (dropout): Dropout(p=0.1, inplace=False)\n",
       "            )\n",
       "            (output): BertSelfOutput(\n",
       "              (dense): Linear(in_features=768, out_features=768, bias=True)\n",
       "              (LayerNorm): LayerNorm((768,), eps=1e-12, elementwise_affine=True)\n",
       "              (dropout): Dropout(p=0.1, inplace=False)\n",
       "            )\n",
       "          )\n",
       "          (intermediate): BertIntermediate(\n",
       "            (dense): Linear(in_features=768, out_features=3072, bias=True)\n",
       "          )\n",
       "          (output): BertOutput(\n",
       "            (dense): Linear(in_features=3072, out_features=768, bias=True)\n",
       "            (LayerNorm): LayerNorm((768,), eps=1e-12, elementwise_affine=True)\n",
       "            (dropout): Dropout(p=0.1, inplace=False)\n",
       "          )\n",
       "        )\n",
       "      )\n",
       "    )\n",
       "    (pooler): BertPooler(\n",
       "      (dense): Linear(in_features=768, out_features=768, bias=True)\n",
       "      (activation): Tanh()\n",
       "    )\n",
       "  )\n",
       "  (dropout): Dropout(p=0.1, inplace=False)\n",
       "  (classifier): Linear(in_features=768, out_features=2, bias=True)\n",
       ")"
      ]
     },
     "execution_count": 3,
     "metadata": {},
     "output_type": "execute_result"
    }
   ],
   "source": [
    "tokenizer = BertTokenizer.from_pretrained('/home/rajat/repos/practice/outputs_stanford_treebank_lr=2e-05_epochs=2')\n",
    "model = BertForSequenceClassification.from_pretrained('/home/rajat/repos/practice/outputs_stanford_treebank_lr=2e-05_epochs=2')\n",
    "model.to(device)"
   ]
  },
  {
   "cell_type": "code",
   "execution_count": 4,
   "metadata": {},
   "outputs": [],
   "source": [
    "def encode(data, tokenizer=BertTokenizer.from_pretrained('bert-base-uncased'), **kwargs):\n",
    "    input_ids = []\n",
    "    token_type_ids = []\n",
    "    attention_mask = []\n",
    "    for x in data:\n",
    "        tokenized_x = tokenizer.encode_plus(x,\n",
    "                                            max_length=128,\n",
    "                                            add_special_tokens = True,\n",
    "                                            pad_to_max_length=True,\n",
    "                                            padding_side='right',\n",
    "                                            return_token_type_ids=True,\n",
    "                                            return_attention_mask=True)\n",
    "        input_ids.append(tokenized_x['input_ids'])\n",
    "        token_type_ids.append(tokenized_x['token_type_ids'])\n",
    "        attention_mask.append(tokenized_x['attention_mask'])\n",
    "    return torch.tensor(input_ids, dtype=torch.long), torch.tensor(token_type_ids, dtype=torch.long), torch.tensor(attention_mask, dtype=torch.long)\n",
    "\n",
    "def read_data():\n",
    "    train = pd.read_csv(datasets[0]['train_path'],index_col=0)\n",
    "    dev = pd.read_csv(datasets[0]['dev_path'],index_col=0)[0:100]\n",
    "    test = pd.read_csv(datasets[0]['test_path'],index_col=0)[0:100]\n",
    "    return train, dev, test\n",
    "\n",
    "def get_batches(df, batch_size=4, **kwargs):\n",
    "    x, y = list(df['original_text'].values), torch.tensor(list(df['classification'].apply(lambda y: 1 if y == 'pos' else 0).values), dtype=torch.long)\n",
    "    input_ids, token_type_ids, attention_mask = encode(x, **kwargs)\n",
    "    tensor_dataset = torch.utils.data.TensorDataset(input_ids, token_type_ids, attention_mask, y)\n",
    "    tensor_randomsampler = torch.utils.data.RandomSampler(tensor_dataset)\n",
    "    tensor_dataloader = torch.utils.data.DataLoader(tensor_dataset, sampler=tensor_randomsampler, batch_size=batch_size)\n",
    "    return tensor_dataloader\n",
    "\n",
    "train_data, dev, test = read_data()\n",
    "batch_dev = get_batches(dev, batch_size=2, tokenizer=tokenizer)\n",
    "batch_test = get_batches(test, batch_size=2, tokenizer=tokenizer)"
   ]
  },
  {
   "cell_type": "code",
   "execution_count": 5,
   "metadata": {},
   "outputs": [],
   "source": [
    "def get_new_sentence_tuple(sentence, top_idx, max_length, ys):\n",
    "    token_ids = sentence\n",
    "    new_token_ids = []\n",
    "    new_attention_masks = []\n",
    "    new_token_type_ids = []\n",
    "    new_y = ys \n",
    "    for token_idx, token_id in enumerate(token_ids):\n",
    "        if token_id == 0:\n",
    "            break\n",
    "        elif token_idx not in top_idx:\n",
    "            new_token_ids.append(token_id.item())\n",
    "            new_attention_masks.append(1)\n",
    "            new_token_type_ids.append(1)\n",
    "    \n",
    "    padding_tokens = max_length - len(new_token_ids)\n",
    "    new_token_ids += padding_tokens * [0]\n",
    "    new_attention_masks += padding_tokens * [0]\n",
    "    new_token_type_ids += padding_tokens * [0]\n",
    "    return (new_token_ids, new_token_type_ids, new_attention_masks, new_y)\n",
    "\n",
    "def get_score(model, batch):\n",
    "    model.eval()\n",
    "    with torch.no_grad():\n",
    "        batch_gpu = (t.to(device) for t in batch)\n",
    "        input_ids, token_type_ids, attention_mask, labels = batch_gpu\n",
    "        outputs = model(input_ids=input_ids, token_type_ids=token_type_ids, attention_mask=attention_mask)\n",
    "        pred = outputs[0]\n",
    "        softmax = torch.nn.Softmax(dim=-1)(pred)\n",
    "    return softmax\n",
    "\n",
    "def get_length_without_special_tokens(sentence):\n",
    "    length = 0\n",
    "    for i in sentence:\n",
    "        if i == 0:\n",
    "            break\n",
    "        else:\n",
    "            length += 1\n",
    "    return length \n",
    "\n",
    "def get_result_per_batch(batch_cpu, attention_cpu, tokenizer, threshold, ys, lmbd=0.25):\n",
    "    \"\"\"\n",
    "    batch_cpu: batch_size * max_len\n",
    "    attention_cpu(list): n_layers * batch_size, heads, max_len, max_len\n",
    "    \"\"\"\n",
    "    scores = np.zeros((12, 12, 1))\n",
    "    for layer_idx, layer in enumerate(attention_cpu):\n",
    "        for head_idx in range(len(layer[0])):\n",
    "            token_ids, token_type_ids, attention_masks = [], [], []\n",
    "            for sent_idx, sentence in enumerate(batch_cpu):\n",
    "                sent_len = get_length_without_special_tokens(sentence) # token_ids\n",
    "                _, top_idx = layer[sent_idx][head_idx][0].topk(int(sent_len * threshold))\n",
    "                new_token_ids, new_token_type_ids, new_attention_masks, new_y = get_new_sentence_tuple(sentence, top_idx, 128, ys) # max_length\n",
    "                token_ids.append(new_token_ids)\n",
    "                token_type_ids.append(new_token_type_ids)\n",
    "                attention_masks.append(new_attention_masks)\n",
    "            tensor_dataset = torch.utils.data.TensorDataset(torch.tensor(token_ids), torch.tensor(token_type_ids), torch.tensor(attention_masks), ys)\n",
    "            new_batch = next(iter(torch.utils.data.DataLoader(tensor_dataset, batch_size=2)))\n",
    "            pred = get_score(model, new_batch)\n",
    "            score = np.mean([(min(x[0].item(), x[1].item())+lmbd)/(max(x[0].item(), x[1].item())+lmbd) for x in pred.cpu()])\n",
    "            scores[layer_idx][head_idx] = score\n",
    "        #print(\"processing layer: {0}\".format(layer_idx))\n",
    "    return scores\n",
    "\n",
    "def get_results(model, batch):\n",
    "    attn_lt = None\n",
    "    model.eval()\n",
    "    results = np.zeros((12, 12, len(batch))) # layers, head, sentence_score\n",
    "    for batch_idx, batch_cpu in enumerate(batch):\n",
    "        with torch.no_grad():\n",
    "            batch_gpu = (t.to(device) for t in batch_cpu)\n",
    "            input_ids, token_type_ids, attention_mask, labels = batch_gpu\n",
    "            outputs = model(input_ids=input_ids, token_type_ids=token_type_ids, attention_mask=attention_mask)\n",
    "        attention = outputs[-1]  # 12 * (batch_size,12,128,128)\n",
    "        attention_cpu = list(t.to(\"cpu\") for t in attention)\n",
    "        result_per_batch = get_result_per_batch(batch_cpu[0], attention_cpu, tokenizer, 0.25, batch_cpu[3].cpu()) # layer, head, sentences\n",
    "        for layer in range(12):\n",
    "            for head in range(12):\n",
    "                results[layer][head][batch_idx] = result_per_batch[layer][head][0]\n",
    "        if batch_idx % 5 == 0:\n",
    "            print(\"processing batch: {0}\".format(batch_idx))\n",
    "    return torch.tensor(results) \n",
    "\n",
    "def get_average_results_per_layer_head(results):\n",
    "    return torch.mean(results, dim=-1)\n",
    "\n",
    "def get_best_layer_head_pair(layer_head_mean):\n",
    "    head_value, head_indices = torch.max(layer_head_mean, dim=1)   \n",
    "    layer, layer_index = torch.max(head_value, dim=0)\n",
    "    layer_index = layer_index.item()\n",
    "    head_index = head_indices[layer_index].item()\n",
    "    return layer_index, head_index\n",
    "\n",
    "def get_label_string(label_softmax):\n",
    "    pred = torch.argmax(label_softmax, dim=0).item()\n",
    "    if pred == 1:\n",
    "        return 'positive'\n",
    "    else:\n",
    "        return 'negative'\n",
    "\n",
    "def get_label_string_2(label):\n",
    "    if label == 1:\n",
    "        return 'positive'\n",
    "    else:\n",
    "        return 'negative'\n",
    "\n",
    "def print_attention(attention_batch, input_ids_batch, labels_batch, pred_labels_batch, threshold=0.1):\n",
    "    html_batch = []\n",
    "    for input_ids, attention, true_label, pred_label in zip(input_ids_batch, attention_batch, labels_batch, pred_labels_batch):\n",
    "        html = []\n",
    "        len_input_ids = get_length_without_special_tokens(input_ids)\n",
    "        input_ids = input_ids[:len_input_ids]\n",
    "        attention = attention[:len_input_ids]\n",
    "        pred_label_string = get_label_string(pred_label)\n",
    "        true_label_string = get_label_string_2(true_label)\n",
    "        for input_id, attention_value in zip(input_ids, attention):\n",
    "            token = tokenizer.convert_ids_to_tokens(input_id.item())\n",
    "            attention_value = attention_value.item()\n",
    "            html.append('<span style=\"background-color: rgb(255,255,0,{0})\">{1}</span>'.format(10 * attention_value, token))\n",
    "        if pred_label_string != true_label_string:\n",
    "            html.append('<span><b>(pred - {0}, true - {1})</b></span>'.format(pred_label_string, true_label_string))\n",
    "        html_string = \" \".join(html)\n",
    "        display(HTML(html_string))\n",
    "        html_batch.append(html_string)\n",
    "    return html_batch\n",
    "\n",
    "def print_attention_for_layer_head(model, batch, layer_idx, head_idx):\n",
    "    model.eval()\n",
    "    for batch_cpu in batch:\n",
    "        with torch.no_grad():\n",
    "            batch_gpu = (t.to(device) for t in batch_cpu)\n",
    "            input_ids, token_type_ids, attention_mask, labels = batch_gpu\n",
    "            outputs = model(input_ids=input_ids, token_type_ids=token_type_ids, attention_mask=attention_mask)\n",
    "            pred = outputs[0].cpu()\n",
    "            softmax = torch.nn.Softmax(dim=-1)(pred)\n",
    "            attention_batch = outputs[-1][layer_idx][:, head_idx, 0] # cls attention of the layer, head\n",
    "            print_attention(attention_batch.cpu(), input_ids.cpu(), labels.cpu(), softmax.cpu())\n"
   ]
  },
  {
   "cell_type": "code",
   "execution_count": 6,
   "metadata": {},
   "outputs": [
    {
     "name": "stdout",
     "output_type": "stream",
     "text": [
      "processing batch: 0\n",
      "processing batch: 5\n",
      "processing batch: 10\n",
      "processing batch: 15\n",
      "processing batch: 20\n",
      "processing batch: 25\n",
      "processing batch: 30\n",
      "processing batch: 35\n",
      "processing batch: 40\n",
      "processing batch: 45\n"
     ]
    }
   ],
   "source": [
    "res = get_results(model, batch_dev)"
   ]
  },
  {
   "cell_type": "code",
   "execution_count": 7,
   "metadata": {},
   "outputs": [],
   "source": [
    "layer_head_mean = get_average_results_per_layer_head(res)"
   ]
  },
  {
   "cell_type": "code",
   "execution_count": 8,
   "metadata": {},
   "outputs": [],
   "source": [
    "layer_idx, head_idx = get_best_layer_head_pair(layer_head_mean)"
   ]
  },
  {
   "cell_type": "code",
   "execution_count": 9,
   "metadata": {},
   "outputs": [
    {
     "data": {
      "text/html": [
       "<span style=\"background-color: rgb(255,255,0,0.03958068788051605)\">[CLS]</span> <span style=\"background-color: rgb(255,255,0,0.2487844042479992)\">sandra</span> <span style=\"background-color: rgb(255,255,0,0.09087124839425087)\">net</span> <span style=\"background-color: rgb(255,255,0,0.0953289121389389)\">##tel</span> <span style=\"background-color: rgb(255,255,0,0.21438082680106163)\">##beck</span> <span style=\"background-color: rgb(255,255,0,2.3324497044086456)\">beautifully</span> <span style=\"background-color: rgb(255,255,0,1.1141060292720795)\">orchestra</span> <span style=\"background-color: rgb(255,255,0,1.367662101984024)\">##tes</span> <span style=\"background-color: rgb(255,255,0,0.5818141624331474)\">the</span> <span style=\"background-color: rgb(255,255,0,0.7807064801454544)\">transformation</span> <span style=\"background-color: rgb(255,255,0,0.2026846632361412)\">of</span> <span style=\"background-color: rgb(255,255,0,0.10655660182237625)\">the</span> <span style=\"background-color: rgb(255,255,0,0.013058502227067947)\">chilly</span> <span style=\"background-color: rgb(255,255,0,0.02337537705898285)\">,</span> <span style=\"background-color: rgb(255,255,0,0.0012008654448436573)\">ne</span> <span style=\"background-color: rgb(255,255,0,0.006891039083711803)\">##uro</span> <span style=\"background-color: rgb(255,255,0,0.003244540421292186)\">##tic</span> <span style=\"background-color: rgb(255,255,0,0.00977853313088417)\">,</span> <span style=\"background-color: rgb(255,255,0,0.01418592524714768)\">and</span> <span style=\"background-color: rgb(255,255,0,0.003006422775797546)\">self</span> <span style=\"background-color: rgb(255,255,0,0.004573919286485761)\">-</span> <span style=\"background-color: rgb(255,255,0,0.008160123252309859)\">absorbed</span> <span style=\"background-color: rgb(255,255,0,0.09007041342556477)\">martha</span> <span style=\"background-color: rgb(255,255,0,0.4356495663523674)\">as</span> <span style=\"background-color: rgb(255,255,0,0.2349916659295559)\">her</span> <span style=\"background-color: rgb(255,255,0,1.1654932796955109)\">heart</span> <span style=\"background-color: rgb(255,255,0,0.1658114604651928)\">begins</span> <span style=\"background-color: rgb(255,255,0,0.3679654374718666)\">to</span> <span style=\"background-color: rgb(255,255,0,0.2574177645146847)\">open</span> <span style=\"background-color: rgb(255,255,0,0.010164448758587241)\">.</span> <span style=\"background-color: rgb(255,255,0,0.010035090381279588)\">[SEP]</span>"
      ],
      "text/plain": [
       "<IPython.core.display.HTML object>"
      ]
     },
     "metadata": {},
     "output_type": "display_data"
    },
    {
     "data": {
      "text/html": [
       "<span style=\"background-color: rgb(255,255,0,0.028312306385487318)\">[CLS]</span> <span style=\"background-color: rgb(255,255,0,1.239752322435379)\">a</span> <span style=\"background-color: rgb(255,255,0,2.557920813560486)\">thoughtful</span> <span style=\"background-color: rgb(255,255,0,0.532437302172184)\">,</span> <span style=\"background-color: rgb(255,255,0,1.4146266877651215)\">provocative</span> <span style=\"background-color: rgb(255,255,0,0.35863522440195084)\">,</span> <span style=\"background-color: rgb(255,255,0,0.5612195655703545)\">insistent</span> <span style=\"background-color: rgb(255,255,0,0.708065927028656)\">##ly</span> <span style=\"background-color: rgb(255,255,0,0.47726117074489594)\">human</span> <span style=\"background-color: rgb(255,255,0,1.0777699202299118)\">##izing</span> <span style=\"background-color: rgb(255,255,0,1.0226591676473618)\">film</span> <span style=\"background-color: rgb(255,255,0,0.010687897447496653)\">.</span> <span style=\"background-color: rgb(255,255,0,0.010651714401319623)\">[SEP]</span>"
      ],
      "text/plain": [
       "<IPython.core.display.HTML object>"
      ]
     },
     "metadata": {},
     "output_type": "display_data"
    },
    {
     "data": {
      "text/html": [
       "<span style=\"background-color: rgb(255,255,0,0.013397765578702092)\">[CLS]</span> <span style=\"background-color: rgb(255,255,0,1.4996518194675446)\">a</span> <span style=\"background-color: rgb(255,255,0,1.7730191349983215)\">gentle</span> <span style=\"background-color: rgb(255,255,0,0.4591621086001396)\">,</span> <span style=\"background-color: rgb(255,255,0,2.8349322080612183)\">compassionate</span> <span style=\"background-color: rgb(255,255,0,1.7480140924453735)\">drama</span> <span style=\"background-color: rgb(255,255,0,0.5198676884174347)\">about</span> <span style=\"background-color: rgb(255,255,0,0.3127480670809746)\">grief</span> <span style=\"background-color: rgb(255,255,0,0.31766869127750397)\">and</span> <span style=\"background-color: rgb(255,255,0,0.5096917599439621)\">healing</span> <span style=\"background-color: rgb(255,255,0,0.0060138379922136664)\">.</span> <span style=\"background-color: rgb(255,255,0,0.005832236493006349)\">[SEP]</span>"
      ],
      "text/plain": [
       "<IPython.core.display.HTML object>"
      ]
     },
     "metadata": {},
     "output_type": "display_data"
    },
    {
     "data": {
      "text/html": [
       "<span style=\"background-color: rgb(255,255,0,0.03434689715504646)\">[CLS]</span> <span style=\"background-color: rgb(255,255,0,1.4944639801979065)\">a</span> <span style=\"background-color: rgb(255,255,0,2.126082181930542)\">taut</span> <span style=\"background-color: rgb(255,255,0,0.6684717535972595)\">,</span> <span style=\"background-color: rgb(255,255,0,3.0931392312049866)\">intelligent</span> <span style=\"background-color: rgb(255,255,0,0.7840772718191147)\">psychological</span> <span style=\"background-color: rgb(255,255,0,1.3872723281383514)\">drama</span> <span style=\"background-color: rgb(255,255,0,0.39871949702501297)\">.</span> <span style=\"background-color: rgb(255,255,0,0.013426441000774503)\">[SEP]</span>"
      ],
      "text/plain": [
       "<IPython.core.display.HTML object>"
      ]
     },
     "metadata": {},
     "output_type": "display_data"
    },
    {
     "data": {
      "text/html": [
       "<span style=\"background-color: rgb(255,255,0,0.7793077826499939)\">[CLS]</span> <span style=\"background-color: rgb(255,255,0,1.9148783385753632)\">.</span> <span style=\"background-color: rgb(255,255,0,1.7220942676067352)\">.</span> <span style=\"background-color: rgb(255,255,0,1.0847023874521255)\">.</span> <span style=\"background-color: rgb(255,255,0,1.3517047464847565)\">a</span> <span style=\"background-color: rgb(255,255,0,0.15303781256079674)\">roller</span> <span style=\"background-color: rgb(255,255,0,0.4705328866839409)\">-</span> <span style=\"background-color: rgb(255,255,0,0.16133498400449753)\">coaster</span> <span style=\"background-color: rgb(255,255,0,0.4248526319861412)\">ride</span> <span style=\"background-color: rgb(255,255,0,0.6360126286745071)\">of</span> <span style=\"background-color: rgb(255,255,0,1.05351984500885)\">a</span> <span style=\"background-color: rgb(255,255,0,0.20133724436163902)\">movie</span> <span style=\"background-color: rgb(255,255,0,0.04668435547500849)\">[SEP]</span> <span><b>(pred - negative, true - positive)</b></span>"
      ],
      "text/plain": [
       "<IPython.core.display.HTML object>"
      ]
     },
     "metadata": {},
     "output_type": "display_data"
    },
    {
     "data": {
      "text/html": [
       "<span style=\"background-color: rgb(255,255,0,0.10303929448127747)\">[CLS]</span> <span style=\"background-color: rgb(255,255,0,0.23535504937171936)\">if</span> <span style=\"background-color: rgb(255,255,0,0.19854143261909485)\">you</span> <span style=\"background-color: rgb(255,255,0,0.19829558208584785)\">sometimes</span> <span style=\"background-color: rgb(255,255,0,0.07560747675597668)\">like</span> <span style=\"background-color: rgb(255,255,0,0.0716311251744628)\">to</span> <span style=\"background-color: rgb(255,255,0,0.05620298441499472)\">go</span> <span style=\"background-color: rgb(255,255,0,0.03309186780825257)\">to</span> <span style=\"background-color: rgb(255,255,0,0.09704515337944031)\">the</span> <span style=\"background-color: rgb(255,255,0,0.0607493007555604)\">movies</span> <span style=\"background-color: rgb(255,255,0,0.14417650178074837)\">to</span> <span style=\"background-color: rgb(255,255,0,0.05616127513349056)\">have</span> <span style=\"background-color: rgb(255,255,0,0.16605118289589882)\">fun</span> <span style=\"background-color: rgb(255,255,0,0.3077375330030918)\">,</span> <span style=\"background-color: rgb(255,255,0,0.16595309600234032)\">was</span> <span style=\"background-color: rgb(255,255,0,0.6463674455881119)\">##abi</span> <span style=\"background-color: rgb(255,255,0,2.112075537443161)\">is</span> <span style=\"background-color: rgb(255,255,0,1.8113471567630768)\">a</span> <span style=\"background-color: rgb(255,255,0,1.3865940272808075)\">good</span> <span style=\"background-color: rgb(255,255,0,0.7231754809617996)\">place</span> <span style=\"background-color: rgb(255,255,0,0.7872714847326279)\">to</span> <span style=\"background-color: rgb(255,255,0,0.5447067320346832)\">start</span> <span style=\"background-color: rgb(255,255,0,0.00925875036045909)\">.</span> <span style=\"background-color: rgb(255,255,0,0.009564213687554002)\">[SEP]</span>"
      ],
      "text/plain": [
       "<IPython.core.display.HTML object>"
      ]
     },
     "metadata": {},
     "output_type": "display_data"
    },
    {
     "data": {
      "text/html": [
       "<span style=\"background-color: rgb(255,255,0,0.060388240963220596)\">[CLS]</span> <span style=\"background-color: rgb(255,255,0,2.201915830373764)\">tender</span> <span style=\"background-color: rgb(255,255,0,0.2937496080994606)\">yet</span> <span style=\"background-color: rgb(255,255,0,0.02966834232211113)\">lace</span> <span style=\"background-color: rgb(255,255,0,1.289469301700592)\">##rating</span> <span style=\"background-color: rgb(255,255,0,0.8408026397228241)\">and</span> <span style=\"background-color: rgb(255,255,0,1.0421905666589737)\">darkly</span> <span style=\"background-color: rgb(255,255,0,2.5879114866256714)\">funny</span> <span style=\"background-color: rgb(255,255,0,1.0921432822942734)\">fable</span> <span style=\"background-color: rgb(255,255,0,0.5508091300725937)\">.</span> <span style=\"background-color: rgb(255,255,0,0.010951559524983168)\">[SEP]</span>"
      ],
      "text/plain": [
       "<IPython.core.display.HTML object>"
      ]
     },
     "metadata": {},
     "output_type": "display_data"
    },
    {
     "data": {
      "text/html": [
       "<span style=\"background-color: rgb(255,255,0,0.06414134055376053)\">[CLS]</span> <span style=\"background-color: rgb(255,255,0,0.031300236005336046)\">if</span> <span style=\"background-color: rgb(255,255,0,0.028337128460407257)\">nothing</span> <span style=\"background-color: rgb(255,255,0,0.017418171046301723)\">else</span> <span style=\"background-color: rgb(255,255,0,0.011555906385183334)\">,</span> <span style=\"background-color: rgb(255,255,0,1.3664981722831726)\">this</span> <span style=\"background-color: rgb(255,255,0,1.1814641952514648)\">movie</span> <span style=\"background-color: rgb(255,255,0,0.44059112668037415)\">introduces</span> <span style=\"background-color: rgb(255,255,0,1.0818521678447723)\">a</span> <span style=\"background-color: rgb(255,255,0,0.7061044126749039)\">promising</span> <span style=\"background-color: rgb(255,255,0,0.9380412846803665)\">,</span> <span style=\"background-color: rgb(255,255,0,1.0506997257471085)\">unusual</span> <span style=\"background-color: rgb(255,255,0,0.4570676386356354)\">kind</span> <span style=\"background-color: rgb(255,255,0,1.1388599872589111)\">of</span> <span style=\"background-color: rgb(255,255,0,0.9435651451349258)\">psychological</span> <span style=\"background-color: rgb(255,255,0,0.5192046239972115)\">horror</span> <span style=\"background-color: rgb(255,255,0,0.011475840583443642)\">.</span> <span style=\"background-color: rgb(255,255,0,0.011822457890957594)\">[SEP]</span>"
      ],
      "text/plain": [
       "<IPython.core.display.HTML object>"
      ]
     },
     "metadata": {},
     "output_type": "display_data"
    },
    {
     "data": {
      "text/html": [
       "<span style=\"background-color: rgb(255,255,0,1.524670571088791)\">[CLS]</span> <span style=\"background-color: rgb(255,255,0,1.2758769094944)\">however</span> <span style=\"background-color: rgb(255,255,0,0.05720901768654585)\">,</span> <span style=\"background-color: rgb(255,255,0,1.21904656291008)\">it</span> <span style=\"background-color: rgb(255,255,0,2.802712917327881)\">lacks</span> <span style=\"background-color: rgb(255,255,0,0.09433024562895298)\">grande</span> <span style=\"background-color: rgb(255,255,0,0.04072786774486303)\">##ur</span> <span style=\"background-color: rgb(255,255,0,0.6291484832763672)\">and</span> <span style=\"background-color: rgb(255,255,0,0.8032308518886566)\">that</span> <span style=\"background-color: rgb(255,255,0,0.027680320199579)\">epic</span> <span style=\"background-color: rgb(255,255,0,0.08962875232100487)\">quality</span> <span style=\"background-color: rgb(255,255,0,0.1929675042629242)\">often</span> <span style=\"background-color: rgb(255,255,0,0.08312618359923363)\">associated</span> <span style=\"background-color: rgb(255,255,0,0.17417145892977715)\">with</span> <span style=\"background-color: rgb(255,255,0,0.05156750325113535)\">stevenson</span> <span style=\"background-color: rgb(255,255,0,0.07450185250490904)\">'</span> <span style=\"background-color: rgb(255,255,0,0.07790352683514357)\">s</span> <span style=\"background-color: rgb(255,255,0,0.032779204193502665)\">tale</span> <span style=\"background-color: rgb(255,255,0,0.20318148657679558)\">as</span> <span style=\"background-color: rgb(255,255,0,0.03887502010911703)\">well</span> <span style=\"background-color: rgb(255,255,0,0.030890055932104588)\">as</span> <span style=\"background-color: rgb(255,255,0,0.16557401046156883)\">with</span> <span style=\"background-color: rgb(255,255,0,0.06180474068969488)\">earlier</span> <span style=\"background-color: rgb(255,255,0,0.09935034438967705)\">disney</span> <span style=\"background-color: rgb(255,255,0,0.03420766443014145)\">efforts</span> <span style=\"background-color: rgb(255,255,0,0.05700651090592146)\">.</span> <span style=\"background-color: rgb(255,255,0,0.05783046130090952)\">[SEP]</span>"
      ],
      "text/plain": [
       "<IPython.core.display.HTML object>"
      ]
     },
     "metadata": {},
     "output_type": "display_data"
    },
    {
     "data": {
      "text/html": [
       "<span style=\"background-color: rgb(255,255,0,0.1349462941288948)\">[CLS]</span> <span style=\"background-color: rgb(255,255,0,1.0139906406402588)\">every</span> <span style=\"background-color: rgb(255,255,0,0.5989346280694008)\">##time</span> <span style=\"background-color: rgb(255,255,0,0.2734963409602642)\">you</span> <span style=\"background-color: rgb(255,255,0,0.1556925941258669)\">think</span> <span style=\"background-color: rgb(255,255,0,0.12374215759336948)\">undercover</span> <span style=\"background-color: rgb(255,255,0,0.09833251126110554)\">brother</span> <span style=\"background-color: rgb(255,255,0,0.15616510063409805)\">has</span> <span style=\"background-color: rgb(255,255,0,0.028529895935207605)\">run</span> <span style=\"background-color: rgb(255,255,0,0.0490799592807889)\">out</span> <span style=\"background-color: rgb(255,255,0,0.14452550560235977)\">of</span> <span style=\"background-color: rgb(255,255,0,0.210785660892725)\">steam</span> <span style=\"background-color: rgb(255,255,0,0.02762169810011983)\">,</span> <span style=\"background-color: rgb(255,255,0,1.0086749494075775)\">it</span> <span style=\"background-color: rgb(255,255,0,0.5774054303765297)\">finds</span> <span style=\"background-color: rgb(255,255,0,1.2255271524190903)\">a</span> <span style=\"background-color: rgb(255,255,0,0.7017505913972855)\">new</span> <span style=\"background-color: rgb(255,255,0,0.6252920627593994)\">way</span> <span style=\"background-color: rgb(255,255,0,0.8730977028608322)\">to</span> <span style=\"background-color: rgb(255,255,0,0.3619102016091347)\">surprise</span> <span style=\"background-color: rgb(255,255,0,0.6746280938386917)\">and</span> <span style=\"background-color: rgb(255,255,0,0.166262686252594)\">am</span> <span style=\"background-color: rgb(255,255,0,0.713474228978157)\">##use</span> <span style=\"background-color: rgb(255,255,0,0.02804897027090192)\">.</span> <span style=\"background-color: rgb(255,255,0,0.02808536635711789)\">[SEP]</span>"
      ],
      "text/plain": [
       "<IPython.core.display.HTML object>"
      ]
     },
     "metadata": {},
     "output_type": "display_data"
    },
    {
     "data": {
      "text/html": [
       "<span style=\"background-color: rgb(255,255,0,0.025794561952352524)\">[CLS]</span> <span style=\"background-color: rgb(255,255,0,0.8853639662265778)\">this</span> <span style=\"background-color: rgb(255,255,0,1.6629494726657867)\">is</span> <span style=\"background-color: rgb(255,255,0,1.718720942735672)\">a</span> <span style=\"background-color: rgb(255,255,0,1.1956939846277237)\">startling</span> <span style=\"background-color: rgb(255,255,0,1.0406114161014557)\">film</span> <span style=\"background-color: rgb(255,255,0,1.1839020997285843)\">that</span> <span style=\"background-color: rgb(255,255,0,0.5820407718420029)\">gives</span> <span style=\"background-color: rgb(255,255,0,0.06365935783833265)\">you</span> <span style=\"background-color: rgb(255,255,0,0.34828536212444305)\">a</span> <span style=\"background-color: rgb(255,255,0,0.45278269797563553)\">fascinating</span> <span style=\"background-color: rgb(255,255,0,0.1355361845344305)\">,</span> <span style=\"background-color: rgb(255,255,0,0.025998333003371954)\">albeit</span> <span style=\"background-color: rgb(255,255,0,0.001704641617834568)\">de</span> <span style=\"background-color: rgb(255,255,0,0.009590469999238849)\">##pressing</span> <span style=\"background-color: rgb(255,255,0,0.21868247538805008)\">view</span> <span style=\"background-color: rgb(255,255,0,0.15180135145783424)\">of</span> <span style=\"background-color: rgb(255,255,0,0.046550240367650986)\">iranian</span> <span style=\"background-color: rgb(255,255,0,0.05938389338552952)\">rural</span> <span style=\"background-color: rgb(255,255,0,0.09556105360388756)\">life</span> <span style=\"background-color: rgb(255,255,0,0.04334987606853247)\">close</span> <span style=\"background-color: rgb(255,255,0,0.005748089752160013)\">to</span> <span style=\"background-color: rgb(255,255,0,0.010590477613732219)\">the</span> <span style=\"background-color: rgb(255,255,0,0.015040519647300243)\">iraqi</span> <span style=\"background-color: rgb(255,255,0,0.013676570961251855)\">border</span> <span style=\"background-color: rgb(255,255,0,0.0034675764618441463)\">.</span> <span style=\"background-color: rgb(255,255,0,0.0035134988138452172)\">[SEP]</span>"
      ],
      "text/plain": [
       "<IPython.core.display.HTML object>"
      ]
     },
     "metadata": {},
     "output_type": "display_data"
    },
    {
     "data": {
      "text/html": [
       "<span style=\"background-color: rgb(255,255,0,0.06668927613645792)\">[CLS]</span> <span style=\"background-color: rgb(255,255,0,0.0060118630062788725)\">may</span> <span style=\"background-color: rgb(255,255,0,0.005913333734497428)\">be</span> <span style=\"background-color: rgb(255,255,0,0.0016800551384221762)\">sp</span> <span style=\"background-color: rgb(255,255,0,0.003669454890768975)\">##oof</span> <span style=\"background-color: rgb(255,255,0,0.011184974573552608)\">##ing</span> <span style=\"background-color: rgb(255,255,0,0.00866612303070724)\">an</span> <span style=\"background-color: rgb(255,255,0,0.016442619962617755)\">easy</span> <span style=\"background-color: rgb(255,255,0,0.007730571669526398)\">target</span> <span style=\"background-color: rgb(255,255,0,0.0006072889300412498)\">-</span> <span style=\"background-color: rgb(255,255,0,0.000832913865451701)\">-</span> <span style=\"background-color: rgb(255,255,0,0.055523766204714775)\">those</span> <span style=\"background-color: rgb(255,255,0,0.020967198070138693)\">old</span> <span style=\"background-color: rgb(255,255,0,0.003992770507466048)\">'</span> <span style=\"background-color: rgb(255,255,0,0.0014047068543732166)\">50</span> <span style=\"background-color: rgb(255,255,0,0.0023295433493331075)\">'</span> <span style=\"background-color: rgb(255,255,0,0.005595227121375501)\">s</span> <span style=\"background-color: rgb(255,255,0,0.011178464628756046)\">giant</span> <span style=\"background-color: rgb(255,255,0,0.01889919745735824)\">creature</span> <span style=\"background-color: rgb(255,255,0,0.011251252144575119)\">features</span> <span style=\"background-color: rgb(255,255,0,0.0009157986642094329)\">-</span> <span style=\"background-color: rgb(255,255,0,0.0009323248377768323)\">-</span> <span style=\"background-color: rgb(255,255,0,0.010491735301911831)\">but</span> <span style=\"background-color: rgb(255,255,0,0.1919207163155079)\">.</span> <span style=\"background-color: rgb(255,255,0,0.10478680022060871)\">.</span> <span style=\"background-color: rgb(255,255,0,0.9972887486219406)\">.</span> <span style=\"background-color: rgb(255,255,0,2.727455198764801)\">it</span> <span style=\"background-color: rgb(255,255,0,1.156187579035759)\">acknowledges</span> <span style=\"background-color: rgb(255,255,0,0.7044316083192825)\">and</span> <span style=\"background-color: rgb(255,255,0,2.389383167028427)\">celebrates</span> <span style=\"background-color: rgb(255,255,0,0.20012415945529938)\">their</span> <span style=\"background-color: rgb(255,255,0,0.0032171112252399325)\">che</span> <span style=\"background-color: rgb(255,255,0,0.01313240616582334)\">##es</span> <span style=\"background-color: rgb(255,255,0,0.009623549995012581)\">##iness</span> <span style=\"background-color: rgb(255,255,0,0.1298969518393278)\">as</span> <span style=\"background-color: rgb(255,255,0,0.35310134291648865)\">the</span> <span style=\"background-color: rgb(255,255,0,0.19244365394115448)\">reason</span> <span style=\"background-color: rgb(255,255,0,0.050637396052479744)\">why</span> <span style=\"background-color: rgb(255,255,0,0.025928420946002007)\">people</span> <span style=\"background-color: rgb(255,255,0,0.019187178695574403)\">get</span> <span style=\"background-color: rgb(255,255,0,0.024075377732515335)\">a</span> <span style=\"background-color: rgb(255,255,0,0.02370275789871812)\">kick</span> <span style=\"background-color: rgb(255,255,0,0.0054353149607777596)\">out</span> <span style=\"background-color: rgb(255,255,0,0.009713583858683705)\">of</span> <span style=\"background-color: rgb(255,255,0,0.08400167338550091)\">watching</span> <span style=\"background-color: rgb(255,255,0,0.17763260751962662)\">them</span> <span style=\"background-color: rgb(255,255,0,0.11827700771391392)\">today</span> <span style=\"background-color: rgb(255,255,0,0.0077705224975943565)\">.</span> <span style=\"background-color: rgb(255,255,0,0.007734523969702423)\">[SEP]</span>"
      ],
      "text/plain": [
       "<IPython.core.display.HTML object>"
      ]
     },
     "metadata": {},
     "output_type": "display_data"
    },
    {
     "data": {
      "text/html": [
       "<span style=\"background-color: rgb(255,255,0,0.06037300452589989)\">[CLS]</span> <span style=\"background-color: rgb(255,255,0,0.09246246889233589)\">like</span> <span style=\"background-color: rgb(255,255,0,0.35523731261491776)\">the</span> <span style=\"background-color: rgb(255,255,0,0.39906125515699387)\">film</span> <span style=\"background-color: rgb(255,255,0,0.06843846291303635)\">'</span> <span style=\"background-color: rgb(255,255,0,0.19344860687851906)\">s</span> <span style=\"background-color: rgb(255,255,0,0.010449719848111272)\">almost</span> <span style=\"background-color: rgb(255,255,0,0.04600137937813997)\">anthropological</span> <span style=\"background-color: rgb(255,255,0,0.13643206097185612)\">##ly</span> <span style=\"background-color: rgb(255,255,0,0.24697482585906982)\">detailed</span> <span style=\"background-color: rgb(255,255,0,0.1960204914212227)\">realization</span> <span style=\"background-color: rgb(255,255,0,0.04618118517100811)\">of</span> <span style=\"background-color: rgb(255,255,0,0.011051676701754332)\">early</span> <span style=\"background-color: rgb(255,255,0,0.0025204583653248847)\">-</span> <span style=\"background-color: rgb(255,255,0,0.0038854090962558985)\">'</span> <span style=\"background-color: rgb(255,255,0,0.007838011370040476)\">80s</span> <span style=\"background-color: rgb(255,255,0,0.0020536100782919675)\">suburb</span> <span style=\"background-color: rgb(255,255,0,0.003120565670542419)\">##ia</span> <span style=\"background-color: rgb(255,255,0,0.21832533180713654)\">,</span> <span style=\"background-color: rgb(255,255,0,2.4617859721183777)\">it</span> <span style=\"background-color: rgb(255,255,0,0.4417674243450165)\">'</span> <span style=\"background-color: rgb(255,255,0,2.286927253007889)\">s</span> <span style=\"background-color: rgb(255,255,0,2.6419660449028015)\">significant</span> <span style=\"background-color: rgb(255,255,0,0.02888676943257451)\">without</span> <span style=\"background-color: rgb(255,255,0,0.00812350248452276)\">being</span> <span style=\"background-color: rgb(255,255,0,0.004745118785649538)\">overs</span> <span style=\"background-color: rgb(255,255,0,0.017421817174181342)\">##tated</span> <span style=\"background-color: rgb(255,255,0,0.004246888274792582)\">.</span> <span style=\"background-color: rgb(255,255,0,0.004252675862517208)\">[SEP]</span>"
      ],
      "text/plain": [
       "<IPython.core.display.HTML object>"
      ]
     },
     "metadata": {},
     "output_type": "display_data"
    },
    {
     "data": {
      "text/html": [
       "<span style=\"background-color: rgb(255,255,0,0.1578955166041851)\">[CLS]</span> <span style=\"background-color: rgb(255,255,0,1.5265576541423798)\">it</span> <span style=\"background-color: rgb(255,255,0,1.666780412197113)\">helps</span> <span style=\"background-color: rgb(255,255,0,1.036069616675377)\">that</span> <span style=\"background-color: rgb(255,255,0,0.17346680164337158)\">lil</span> <span style=\"background-color: rgb(255,255,0,0.06474204361438751)\">bow</span> <span style=\"background-color: rgb(255,255,0,0.3238283470273018)\">wow</span> <span style=\"background-color: rgb(255,255,0,0.07829965092241764)\">.</span> <span style=\"background-color: rgb(255,255,0,0.06598921027034521)\">.</span> <span style=\"background-color: rgb(255,255,0,0.15164842829108238)\">.</span> <span style=\"background-color: rgb(255,255,0,0.20296480506658554)\">tones</span> <span style=\"background-color: rgb(255,255,0,0.08338582701981068)\">down</span> <span style=\"background-color: rgb(255,255,0,0.14628573320806026)\">his</span> <span style=\"background-color: rgb(255,255,0,0.014648048672825098)\">pin</span> <span style=\"background-color: rgb(255,255,0,0.016471160342916846)\">##t</span> <span style=\"background-color: rgb(255,255,0,0.015170702245086432)\">-</span> <span style=\"background-color: rgb(255,255,0,0.023535056971013546)\">sized</span> <span style=\"background-color: rgb(255,255,0,0.05685540847480297)\">gangs</span> <span style=\"background-color: rgb(255,255,0,0.030615264549851418)\">##ta</span> <span style=\"background-color: rgb(255,255,0,0.09741629473865032)\">act</span> <span style=\"background-color: rgb(255,255,0,0.976201593875885)\">to</span> <span style=\"background-color: rgb(255,255,0,0.7951129227876663)\">play</span> <span style=\"background-color: rgb(255,255,0,0.45978590846061707)\">someone</span> <span style=\"background-color: rgb(255,255,0,0.7227221131324768)\">who</span> <span style=\"background-color: rgb(255,255,0,0.32497383654117584)\">resembles</span> <span style=\"background-color: rgb(255,255,0,0.3468889743089676)\">a</span> <span style=\"background-color: rgb(255,255,0,0.17545383423566818)\">real</span> <span style=\"background-color: rgb(255,255,0,0.23848187178373337)\">kid</span> <span style=\"background-color: rgb(255,255,0,0.013779351720586419)\">.</span> <span style=\"background-color: rgb(255,255,0,0.013973612803965807)\">[SEP]</span>"
      ],
      "text/plain": [
       "<IPython.core.display.HTML object>"
      ]
     },
     "metadata": {},
     "output_type": "display_data"
    },
    {
     "data": {
      "text/html": [
       "<span style=\"background-color: rgb(255,255,0,0.021105066407471895)\">[CLS]</span> <span style=\"background-color: rgb(255,255,0,0.9643203020095825)\">this</span> <span style=\"background-color: rgb(255,255,0,1.202017366886139)\">is</span> <span style=\"background-color: rgb(255,255,0,2.424052506685257)\">a</span> <span style=\"background-color: rgb(255,255,0,1.636701375246048)\">film</span> <span style=\"background-color: rgb(255,255,0,1.1010951548814774)\">well</span> <span style=\"background-color: rgb(255,255,0,0.9711029380559921)\">worth</span> <span style=\"background-color: rgb(255,255,0,0.7901888340711594)\">seeing</span> <span style=\"background-color: rgb(255,255,0,0.08279590867459774)\">,</span> <span style=\"background-color: rgb(255,255,0,0.24091234430670738)\">talking</span> <span style=\"background-color: rgb(255,255,0,0.05556836724281311)\">and</span> <span style=\"background-color: rgb(255,255,0,0.1506268046796322)\">singing</span> <span style=\"background-color: rgb(255,255,0,0.08991368114948273)\">heads</span> <span style=\"background-color: rgb(255,255,0,0.12059744447469711)\">and</span> <span style=\"background-color: rgb(255,255,0,0.14191324822604656)\">all</span> <span style=\"background-color: rgb(255,255,0,0.0035025595570914447)\">.</span> <span style=\"background-color: rgb(255,255,0,0.0035856972681358457)\">[SEP]</span>"
      ],
      "text/plain": [
       "<IPython.core.display.HTML object>"
      ]
     },
     "metadata": {},
     "output_type": "display_data"
    },
    {
     "data": {
      "text/html": [
       "<span style=\"background-color: rgb(255,255,0,0.03819451900199056)\">[CLS]</span> <span style=\"background-color: rgb(255,255,0,0.39287231862545013)\">chicago</span> <span style=\"background-color: rgb(255,255,0,1.074681580066681)\">is</span> <span style=\"background-color: rgb(255,255,0,0.9943791478872299)\">sophisticated</span> <span style=\"background-color: rgb(255,255,0,0.2995958924293518)\">,</span> <span style=\"background-color: rgb(255,255,0,0.07186269853264093)\">bra</span> <span style=\"background-color: rgb(255,255,0,0.5172613263130188)\">##sh</span> <span style=\"background-color: rgb(255,255,0,0.28083961457014084)\">,</span> <span style=\"background-color: rgb(255,255,0,0.2692662738263607)\">sar</span> <span style=\"background-color: rgb(255,255,0,0.4089290276169777)\">##don</span> <span style=\"background-color: rgb(255,255,0,0.9795922040939331)\">##ic</span> <span style=\"background-color: rgb(255,255,0,0.2930932305753231)\">,</span> <span style=\"background-color: rgb(255,255,0,0.5931488052010536)\">completely</span> <span style=\"background-color: rgb(255,255,0,0.894409716129303)\">joy</span> <span style=\"background-color: rgb(255,255,0,1.341010183095932)\">##ful</span> <span style=\"background-color: rgb(255,255,0,0.35605844110250473)\">in</span> <span style=\"background-color: rgb(255,255,0,0.6523705273866653)\">its</span> <span style=\"background-color: rgb(255,255,0,0.5248789861798286)\">execution</span> <span style=\"background-color: rgb(255,255,0,0.008693161071278155)\">.</span> <span style=\"background-color: rgb(255,255,0,0.008862597751431167)\">[SEP]</span>"
      ],
      "text/plain": [
       "<IPython.core.display.HTML object>"
      ]
     },
     "metadata": {},
     "output_type": "display_data"
    },
    {
     "data": {
      "text/html": [
       "<span style=\"background-color: rgb(255,255,0,0.025260678958147764)\">[CLS]</span> <span style=\"background-color: rgb(255,255,0,0.8267442137002945)\">the</span> <span style=\"background-color: rgb(255,255,0,0.22779226303100586)\">animated</span> <span style=\"background-color: rgb(255,255,0,0.015562466578558087)\">sub</span> <span style=\"background-color: rgb(255,255,0,0.03266928484663367)\">##pl</span> <span style=\"background-color: rgb(255,255,0,0.07692958228290081)\">##ot</span> <span style=\"background-color: rgb(255,255,0,1.6502425074577332)\">keen</span> <span style=\"background-color: rgb(255,255,0,2.786048948764801)\">##ly</span> <span style=\"background-color: rgb(255,255,0,1.910756230354309)\">depicts</span> <span style=\"background-color: rgb(255,255,0,0.6416873633861542)\">the</span> <span style=\"background-color: rgb(255,255,0,0.20136039704084396)\">inner</span> <span style=\"background-color: rgb(255,255,0,0.18490904942154884)\">struggles</span> <span style=\"background-color: rgb(255,255,0,0.12818247079849243)\">of</span> <span style=\"background-color: rgb(255,255,0,0.18125152215361595)\">our</span> <span style=\"background-color: rgb(255,255,0,0.06553022656589746)\">adolescent</span> <span style=\"background-color: rgb(255,255,0,0.10013093240559101)\">heroes</span> <span style=\"background-color: rgb(255,255,0,0.06426244042813778)\">-</span> <span style=\"background-color: rgb(255,255,0,0.00973723887000233)\">ins</span> <span style=\"background-color: rgb(255,255,0,0.0147357361856848)\">##ecure</span> <span style=\"background-color: rgb(255,255,0,0.04876702558249235)\">,</span> <span style=\"background-color: rgb(255,255,0,0.014517909148707986)\">un</span> <span style=\"background-color: rgb(255,255,0,0.0017215929983649403)\">##con</span> <span style=\"background-color: rgb(255,255,0,0.009616322931833565)\">##tro</span> <span style=\"background-color: rgb(255,255,0,0.013485350646078587)\">##lled</span> <span style=\"background-color: rgb(255,255,0,0.0051333761075511575)\">,</span> <span style=\"background-color: rgb(255,255,0,0.25884879752993584)\">and</span> <span style=\"background-color: rgb(255,255,0,0.49351926892995834)\">intense</span> <span style=\"background-color: rgb(255,255,0,0.005328261759132147)\">.</span> <span style=\"background-color: rgb(255,255,0,0.005268073873594403)\">[SEP]</span>"
      ],
      "text/plain": [
       "<IPython.core.display.HTML object>"
      ]
     },
     "metadata": {},
     "output_type": "display_data"
    },
    {
     "data": {
      "text/html": [
       "<span style=\"background-color: rgb(255,255,0,0.027480556163936853)\">[CLS]</span> <span style=\"background-color: rgb(255,255,0,2.303958684206009)\">an</span> <span style=\"background-color: rgb(255,255,0,3.540048599243164)\">engaging</span> <span style=\"background-color: rgb(255,255,0,1.5290151536464691)\">overview</span> <span style=\"background-color: rgb(255,255,0,0.882013738155365)\">of</span> <span style=\"background-color: rgb(255,255,0,0.055671646259725094)\">johnson</span> <span style=\"background-color: rgb(255,255,0,0.22760199382901192)\">'</span> <span style=\"background-color: rgb(255,255,0,0.23320816457271576)\">s</span> <span style=\"background-color: rgb(255,255,0,0.2730708010494709)\">eccentric</span> <span style=\"background-color: rgb(255,255,0,0.27824828401207924)\">career</span> <span style=\"background-color: rgb(255,255,0,0.6399189680814743)\">.</span> <span style=\"background-color: rgb(255,255,0,0.009762773988768458)\">[SEP]</span>"
      ],
      "text/plain": [
       "<IPython.core.display.HTML object>"
      ]
     },
     "metadata": {},
     "output_type": "display_data"
    },
    {
     "data": {
      "text/html": [
       "<span style=\"background-color: rgb(255,255,0,0.027811990585178137)\">[CLS]</span> <span style=\"background-color: rgb(255,255,0,0.06858623586595058)\">doug</span> <span style=\"background-color: rgb(255,255,0,0.01737341401167214)\">lima</span> <span style=\"background-color: rgb(255,255,0,0.03848297754302621)\">##n</span> <span style=\"background-color: rgb(255,255,0,0.3736177831888199)\">,</span> <span style=\"background-color: rgb(255,255,0,0.303554181009531)\">the</span> <span style=\"background-color: rgb(255,255,0,0.04511702340096235)\">director</span> <span style=\"background-color: rgb(255,255,0,0.035860331263393164)\">of</span> <span style=\"background-color: rgb(255,255,0,0.05453449208289385)\">bourne</span> <span style=\"background-color: rgb(255,255,0,0.14473593793809414)\">,</span> <span style=\"background-color: rgb(255,255,0,0.25118080899119377)\">directs</span> <span style=\"background-color: rgb(255,255,0,0.3867262974381447)\">the</span> <span style=\"background-color: rgb(255,255,0,0.05208980292081833)\">traffic</span> <span style=\"background-color: rgb(255,255,0,0.6123174354434013)\">well</span> <span style=\"background-color: rgb(255,255,0,0.26581641286611557)\">,</span> <span style=\"background-color: rgb(255,255,0,0.12946262955665588)\">gets</span> <span style=\"background-color: rgb(255,255,0,0.22986732423305511)\">a</span> <span style=\"background-color: rgb(255,255,0,0.2570382319390774)\">nice</span> <span style=\"background-color: rgb(255,255,0,0.017188445199280977)\">win</span> <span style=\"background-color: rgb(255,255,0,0.014106192393228412)\">##try</span> <span style=\"background-color: rgb(255,255,0,0.05510890856385231)\">look</span> <span style=\"background-color: rgb(255,255,0,0.020644518081098795)\">from</span> <span style=\"background-color: rgb(255,255,0,0.12156770564615726)\">his</span> <span style=\"background-color: rgb(255,255,0,0.0270057818852365)\">locations</span> <span style=\"background-color: rgb(255,255,0,0.5198073387145996)\">,</span> <span style=\"background-color: rgb(255,255,0,0.4783889651298523)\">absorb</span> <span style=\"background-color: rgb(255,255,0,0.5871487408876419)\">##s</span> <span style=\"background-color: rgb(255,255,0,0.12137273326516151)\">us</span> <span style=\"background-color: rgb(255,255,0,0.48474356532096863)\">with</span> <span style=\"background-color: rgb(255,255,0,0.44747620820999146)\">the</span> <span style=\"background-color: rgb(255,255,0,0.03732306184247136)\">movie</span> <span style=\"background-color: rgb(255,255,0,0.004193266504444182)\">'</span> <span style=\"background-color: rgb(255,255,0,0.13204663060605526)\">s</span> <span style=\"background-color: rgb(255,255,0,0.028841570019721985)\">spy</span> <span style=\"background-color: rgb(255,255,0,0.03734916215762496)\">##craft</span> <span style=\"background-color: rgb(255,255,0,0.5467507243156433)\">and</span> <span style=\"background-color: rgb(255,255,0,0.4429859295487404)\">uses</span> <span style=\"background-color: rgb(255,255,0,0.24868858978152275)\">damon</span> <span style=\"background-color: rgb(255,255,0,0.4072672873735428)\">'</span> <span style=\"background-color: rgb(255,255,0,0.2912561409175396)\">s</span> <span style=\"background-color: rgb(255,255,0,0.22143563255667686)\">ability</span> <span style=\"background-color: rgb(255,255,0,0.16947884112596512)\">to</span> <span style=\"background-color: rgb(255,255,0,0.1339076366275549)\">be</span> <span style=\"background-color: rgb(255,255,0,0.31536415219306946)\">focused</span> <span style=\"background-color: rgb(255,255,0,0.24489028379321098)\">and</span> <span style=\"background-color: rgb(255,255,0,0.5401686206459999)\">sincere</span> <span style=\"background-color: rgb(255,255,0,0.004654537187889218)\">.</span> <span style=\"background-color: rgb(255,255,0,0.0046658876817673445)\">[SEP]</span>"
      ],
      "text/plain": [
       "<IPython.core.display.HTML object>"
      ]
     },
     "metadata": {},
     "output_type": "display_data"
    },
    {
     "data": {
      "text/html": [
       "<span style=\"background-color: rgb(255,255,0,0.03337794682011008)\">[CLS]</span> <span style=\"background-color: rgb(255,255,0,0.11388000100851059)\">4</span> <span style=\"background-color: rgb(255,255,0,0.18647782504558563)\">friends</span> <span style=\"background-color: rgb(255,255,0,0.26093412190675735)\">,</span> <span style=\"background-color: rgb(255,255,0,0.06643923465162516)\">2</span> <span style=\"background-color: rgb(255,255,0,0.08025259710848331)\">couples</span> <span style=\"background-color: rgb(255,255,0,0.19831521436572075)\">,</span> <span style=\"background-color: rgb(255,255,0,0.18940486013889313)\">2000</span> <span style=\"background-color: rgb(255,255,0,0.19978299736976624)\">miles</span> <span style=\"background-color: rgb(255,255,0,0.01910711405798793)\">,</span> <span style=\"background-color: rgb(255,255,0,0.2008393034338951)\">and</span> <span style=\"background-color: rgb(255,255,0,0.12568151578307152)\">all</span> <span style=\"background-color: rgb(255,255,0,0.10995492339134216)\">the</span> <span style=\"background-color: rgb(255,255,0,0.03327820682898164)\">pa</span> <span style=\"background-color: rgb(255,255,0,0.0074651476461440325)\">##bs</span> <span style=\"background-color: rgb(255,255,0,0.05960233509540558)\">##t</span> <span style=\"background-color: rgb(255,255,0,0.2710631676018238)\">blue</span> <span style=\"background-color: rgb(255,255,0,0.13484071008861065)\">ribbon</span> <span style=\"background-color: rgb(255,255,0,0.04804434720426798)\">beer</span> <span style=\"background-color: rgb(255,255,0,0.35386934876441956)\">they</span> <span style=\"background-color: rgb(255,255,0,0.03147890791296959)\">can</span> <span style=\"background-color: rgb(255,255,0,0.043983892537653446)\">drink</span> <span style=\"background-color: rgb(255,255,0,0.24113846942782402)\">-</span> <span style=\"background-color: rgb(255,255,0,1.4340323209762573)\">it</span> <span style=\"background-color: rgb(255,255,0,0.6363454461097717)\">'</span> <span style=\"background-color: rgb(255,255,0,0.8179397135972977)\">s</span> <span style=\"background-color: rgb(255,255,0,1.471771001815796)\">the</span> <span style=\"background-color: rgb(255,255,0,1.5133102238178253)\">ultimate</span> <span style=\"background-color: rgb(255,255,0,0.021454195957630873)\">red</span> <span style=\"background-color: rgb(255,255,0,0.07090738508850336)\">##neck</span> <span style=\"background-color: rgb(255,255,0,0.25268811732530594)\">road</span> <span style=\"background-color: rgb(255,255,0,0.08503947407007217)\">-</span> <span style=\"background-color: rgb(255,255,0,0.6474517285823822)\">trip</span> <span style=\"background-color: rgb(255,255,0,0.01985052600502968)\">.</span> <span style=\"background-color: rgb(255,255,0,0.019997672643512487)\">[SEP]</span>"
      ],
      "text/plain": [
       "<IPython.core.display.HTML object>"
      ]
     },
     "metadata": {},
     "output_type": "display_data"
    },
    {
     "data": {
      "text/html": [
       "<span style=\"background-color: rgb(255,255,0,0.2583461068570614)\">[CLS]</span> <span style=\"background-color: rgb(255,255,0,2.8033551573753357)\">perhaps</span> <span style=\"background-color: rgb(255,255,0,0.1431620679795742)\">no</span> <span style=\"background-color: rgb(255,255,0,0.12506715953350067)\">picture</span> <span style=\"background-color: rgb(255,255,0,0.07765903603285551)\">ever</span> <span style=\"background-color: rgb(255,255,0,0.10564140975475311)\">made</span> <span style=\"background-color: rgb(255,255,0,1.3884064555168152)\">has</span> <span style=\"background-color: rgb(255,255,0,0.6610872596502304)\">more</span> <span style=\"background-color: rgb(255,255,0,0.46679284423589706)\">literally</span> <span style=\"background-color: rgb(255,255,0,0.6517843157052994)\">showed</span> <span style=\"background-color: rgb(255,255,0,0.37201128900051117)\">that</span> <span style=\"background-color: rgb(255,255,0,0.7443037629127502)\">the</span> <span style=\"background-color: rgb(255,255,0,0.12232248671352863)\">road</span> <span style=\"background-color: rgb(255,255,0,0.5261185392737389)\">to</span> <span style=\"background-color: rgb(255,255,0,0.4611007496714592)\">hell</span> <span style=\"background-color: rgb(255,255,0,0.3300176188349724)\">is</span> <span style=\"background-color: rgb(255,255,0,0.1212425995618105)\">paved</span> <span style=\"background-color: rgb(255,255,0,0.3852764144539833)\">with</span> <span style=\"background-color: rgb(255,255,0,0.13866061344742775)\">good</span> <span style=\"background-color: rgb(255,255,0,0.07683271542191505)\">intentions</span> <span style=\"background-color: rgb(255,255,0,0.020069994498044252)\">.</span> <span style=\"background-color: rgb(255,255,0,0.02074155258014798)\">[SEP]</span> <span><b>(pred - negative, true - positive)</b></span>"
      ],
      "text/plain": [
       "<IPython.core.display.HTML object>"
      ]
     },
     "metadata": {},
     "output_type": "display_data"
    },
    {
     "data": {
      "text/html": [
       "<span style=\"background-color: rgb(255,255,0,0.02967329928651452)\">[CLS]</span> <span style=\"background-color: rgb(255,255,0,0.004330895317252725)\">occasionally</span> <span style=\"background-color: rgb(255,255,0,0.0020423790556378663)\">mel</span> <span style=\"background-color: rgb(255,255,0,0.0008940132829593495)\">##od</span> <span style=\"background-color: rgb(255,255,0,0.0019257520034443587)\">##rama</span> <span style=\"background-color: rgb(255,255,0,0.003734258934855461)\">##tic</span> <span style=\"background-color: rgb(255,255,0,0.16743462532758713)\">,</span> <span style=\"background-color: rgb(255,255,0,1.311030238866806)\">it</span> <span style=\"background-color: rgb(255,255,0,1.2979856133460999)\">'</span> <span style=\"background-color: rgb(255,255,0,1.4398527145385742)\">s</span> <span style=\"background-color: rgb(255,255,0,1.6757604479789734)\">also</span> <span style=\"background-color: rgb(255,255,0,1.3194121420383453)\">extremely</span> <span style=\"background-color: rgb(255,255,0,2.732519507408142)\">effective</span> <span style=\"background-color: rgb(255,255,0,0.006614712183363736)\">.</span> <span style=\"background-color: rgb(255,255,0,0.006789687322452664)\">[SEP]</span>"
      ],
      "text/plain": [
       "<IPython.core.display.HTML object>"
      ]
     },
     "metadata": {},
     "output_type": "display_data"
    },
    {
     "data": {
      "text/html": [
       "<span style=\"background-color: rgb(255,255,0,0.015099482843652368)\">[CLS]</span> <span style=\"background-color: rgb(255,255,0,0.012296894565224648)\">painful</span> <span style=\"background-color: rgb(255,255,0,0.007086768746376038)\">to</span> <span style=\"background-color: rgb(255,255,0,0.04539354704320431)\">watch</span> <span style=\"background-color: rgb(255,255,0,0.004401197656989098)\">,</span> <span style=\"background-color: rgb(255,255,0,0.004506020632106811)\">but</span> <span style=\"background-color: rgb(255,255,0,0.021009929478168488)\">viewers</span> <span style=\"background-color: rgb(255,255,0,0.01718554995022714)\">willing</span> <span style=\"background-color: rgb(255,255,0,0.005032790941186249)\">to</span> <span style=\"background-color: rgb(255,255,0,0.006261065718717873)\">take</span> <span style=\"background-color: rgb(255,255,0,0.024317826610058546)\">a</span> <span style=\"background-color: rgb(255,255,0,0.017682958859950304)\">chance</span> <span style=\"background-color: rgb(255,255,0,0.20558694377541542)\">will</span> <span style=\"background-color: rgb(255,255,0,0.18946021795272827)\">be</span> <span style=\"background-color: rgb(255,255,0,0.4157400503754616)\">rewarded</span> <span style=\"background-color: rgb(255,255,0,0.6085631996393204)\">with</span> <span style=\"background-color: rgb(255,255,0,0.40753133594989777)\">two</span> <span style=\"background-color: rgb(255,255,0,0.8515622466802597)\">of</span> <span style=\"background-color: rgb(255,255,0,0.7192522287368774)\">the</span> <span style=\"background-color: rgb(255,255,0,0.15540190041065216)\">year</span> <span style=\"background-color: rgb(255,255,0,0.2374093420803547)\">'</span> <span style=\"background-color: rgb(255,255,0,0.22983919829130173)\">s</span> <span style=\"background-color: rgb(255,255,0,0.5934881791472435)\">most</span> <span style=\"background-color: rgb(255,255,0,0.5439683049917221)\">accomplished</span> <span style=\"background-color: rgb(255,255,0,0.487714447081089)\">and</span> <span style=\"background-color: rgb(255,255,0,0.8359026163816452)\">ri</span> <span style=\"background-color: rgb(255,255,0,0.9278170764446259)\">##vet</span> <span style=\"background-color: rgb(255,255,0,1.4621348679065704)\">##ing</span> <span style=\"background-color: rgb(255,255,0,0.24646103382110596)\">film</span> <span style=\"background-color: rgb(255,255,0,0.6922950595617294)\">performances</span> <span style=\"background-color: rgb(255,255,0,0.004796770808752626)\">.</span> <span style=\"background-color: rgb(255,255,0,0.0048015720676630735)\">[SEP]</span>"
      ],
      "text/plain": [
       "<IPython.core.display.HTML object>"
      ]
     },
     "metadata": {},
     "output_type": "display_data"
    },
    {
     "data": {
      "text/html": [
       "<span style=\"background-color: rgb(255,255,0,0.017533560749143362)\">[CLS]</span> <span style=\"background-color: rgb(255,255,0,0.00044646349124377593)\">while</span> <span style=\"background-color: rgb(255,255,0,0.0026986413286067545)\">it</span> <span style=\"background-color: rgb(255,255,0,0.000658992794342339)\">would</span> <span style=\"background-color: rgb(255,255,0,0.000993215580820106)\">be</span> <span style=\"background-color: rgb(255,255,0,0.00047132689360296354)\">easy</span> <span style=\"background-color: rgb(255,255,0,0.00021715732145821676)\">to</span> <span style=\"background-color: rgb(255,255,0,0.0005712385973311029)\">give</span> <span style=\"background-color: rgb(255,255,0,0.008723545470274985)\">crush</span> <span style=\"background-color: rgb(255,255,0,0.0017500791000202298)\">the</span> <span style=\"background-color: rgb(255,255,0,0.0008933331992011517)\">new</span> <span style=\"background-color: rgb(255,255,0,0.00120265300211031)\">title</span> <span style=\"background-color: rgb(255,255,0,0.0008647085633128881)\">of</span> <span style=\"background-color: rgb(255,255,0,0.001496852928539738)\">two</span> <span style=\"background-color: rgb(255,255,0,0.009983750060200691)\">weddings</span> <span style=\"background-color: rgb(255,255,0,0.0014581622963305563)\">and</span> <span style=\"background-color: rgb(255,255,0,0.002329591225134209)\">a</span> <span style=\"background-color: rgb(255,255,0,0.00725560646969825)\">funeral</span> <span style=\"background-color: rgb(255,255,0,0.002707181265577674)\">,</span> <span style=\"background-color: rgb(255,255,0,1.726662814617157)\">it</span> <span style=\"background-color: rgb(255,255,0,1.2331802397966385)\">'</span> <span style=\"background-color: rgb(255,255,0,1.20038703083992)\">s</span> <span style=\"background-color: rgb(255,255,0,1.5571875870227814)\">a</span> <span style=\"background-color: rgb(255,255,0,0.7658819854259491)\">far</span> <span style=\"background-color: rgb(255,255,0,0.7112055271863937)\">more</span> <span style=\"background-color: rgb(255,255,0,1.5290740132331848)\">thoughtful</span> <span style=\"background-color: rgb(255,255,0,1.1408757418394089)\">film</span> <span style=\"background-color: rgb(255,255,0,0.036524978931993246)\">than</span> <span style=\"background-color: rgb(255,255,0,0.0009944287012331188)\">any</span> <span style=\"background-color: rgb(255,255,0,0.0027991776005364954)\">slice</span> <span style=\"background-color: rgb(255,255,0,0.0015846756286919117)\">of</span> <span style=\"background-color: rgb(255,255,0,0.009735323255881667)\">hugh</span> <span style=\"background-color: rgb(255,255,0,0.011966689489781857)\">grant</span> <span style=\"background-color: rgb(255,255,0,0.000865501060616225)\">w</span> <span style=\"background-color: rgb(255,255,0,0.0017202713934239)\">##him</span> <span style=\"background-color: rgb(255,255,0,0.0007919068593764678)\">##sy</span> <span style=\"background-color: rgb(255,255,0,0.0031534521258436143)\">.</span> <span style=\"background-color: rgb(255,255,0,0.0031523409415967762)\">[SEP]</span>"
      ],
      "text/plain": [
       "<IPython.core.display.HTML object>"
      ]
     },
     "metadata": {},
     "output_type": "display_data"
    },
    {
     "data": {
      "text/html": [
       "<span style=\"background-color: rgb(255,255,0,0.37198808044195175)\">[CLS]</span> <span style=\"background-color: rgb(255,255,0,0.3332595154643059)\">like</span> <span style=\"background-color: rgb(255,255,0,0.13683428056538105)\">most</span> <span style=\"background-color: rgb(255,255,0,0.10947426781058311)\">bond</span> <span style=\"background-color: rgb(255,255,0,0.09717877954244614)\">outing</span> <span style=\"background-color: rgb(255,255,0,0.2164163999259472)\">##s</span> <span style=\"background-color: rgb(255,255,0,0.20280275493860245)\">in</span> <span style=\"background-color: rgb(255,255,0,0.06870719138532877)\">recent</span> <span style=\"background-color: rgb(255,255,0,0.09721891954541206)\">years</span> <span style=\"background-color: rgb(255,255,0,0.04962683655321598)\">,</span> <span style=\"background-color: rgb(255,255,0,0.40933750569820404)\">some</span> <span style=\"background-color: rgb(255,255,0,0.5954519286751747)\">of</span> <span style=\"background-color: rgb(255,255,0,0.24019476026296616)\">the</span> <span style=\"background-color: rgb(255,255,0,0.07386417593806982)\">stunts</span> <span style=\"background-color: rgb(255,255,0,0.6704775243997574)\">are</span> <span style=\"background-color: rgb(255,255,0,1.1268871277570724)\">so</span> <span style=\"background-color: rgb(255,255,0,0.3937877342104912)\">out</span> <span style=\"background-color: rgb(255,255,0,0.10031123645603657)\">##land</span> <span style=\"background-color: rgb(255,255,0,0.36844082176685333)\">##ish</span> <span style=\"background-color: rgb(255,255,0,0.8248893916606903)\">that</span> <span style=\"background-color: rgb(255,255,0,0.7592674344778061)\">they</span> <span style=\"background-color: rgb(255,255,0,0.3035944327712059)\">border</span> <span style=\"background-color: rgb(255,255,0,1.034528911113739)\">on</span> <span style=\"background-color: rgb(255,255,0,0.632464662194252)\">being</span> <span style=\"background-color: rgb(255,255,0,0.10691815055906773)\">cartoon</span> <span style=\"background-color: rgb(255,255,0,0.5699733272194862)\">##like</span> <span style=\"background-color: rgb(255,255,0,0.053203701972961426)\">.</span> <span style=\"background-color: rgb(255,255,0,0.05289978813380003)\">[SEP]</span>"
      ],
      "text/plain": [
       "<IPython.core.display.HTML object>"
      ]
     },
     "metadata": {},
     "output_type": "display_data"
    },
    {
     "data": {
      "text/html": [
       "<span style=\"background-color: rgb(255,255,0,0.012541869655251503)\">[CLS]</span> <span style=\"background-color: rgb(255,255,0,0.005739184562116861)\">it</span> <span style=\"background-color: rgb(255,255,0,0.008016537758521736)\">might</span> <span style=\"background-color: rgb(255,255,0,0.0021964589541312307)\">be</span> <span style=\"background-color: rgb(255,255,0,0.0018025988538283855)\">tempting</span> <span style=\"background-color: rgb(255,255,0,0.0020869640866294503)\">to</span> <span style=\"background-color: rgb(255,255,0,0.007528137066401541)\">regard</span> <span style=\"background-color: rgb(255,255,0,0.0988593976944685)\">mr</span> <span style=\"background-color: rgb(255,255,0,0.009025694453157485)\">.</span> <span style=\"background-color: rgb(255,255,0,0.08169042877852917)\">andrew</span> <span style=\"background-color: rgb(255,255,0,0.02265022834762931)\">and</span> <span style=\"background-color: rgb(255,255,0,0.0187702348921448)\">his</span> <span style=\"background-color: rgb(255,255,0,0.05422966554760933)\">collaborators</span> <span style=\"background-color: rgb(255,255,0,0.006158850155770779)\">as</span> <span style=\"background-color: rgb(255,255,0,0.00907930196262896)\">odd</span> <span style=\"background-color: rgb(255,255,0,0.005052185733802617)\">##balls</span> <span style=\"background-color: rgb(255,255,0,0.004252371145412326)\">,</span> <span style=\"background-color: rgb(255,255,0,0.0028660972020588815)\">but</span> <span style=\"background-color: rgb(255,255,0,0.27622129768133163)\">mr</span> <span style=\"background-color: rgb(255,255,0,0.1733376830816269)\">.</span> <span style=\"background-color: rgb(255,255,0,0.048870472237467766)\">earn</span> <span style=\"background-color: rgb(255,255,0,0.03941358998417854)\">##hart</span> <span style=\"background-color: rgb(255,255,0,1.5998099744319916)\">'</span> <span style=\"background-color: rgb(255,255,0,1.3618135452270508)\">s</span> <span style=\"background-color: rgb(255,255,0,0.05832697730511427)\">quiz</span> <span style=\"background-color: rgb(255,255,0,0.07573927752673626)\">##zic</span> <span style=\"background-color: rgb(255,255,0,0.10901282541453838)\">##al</span> <span style=\"background-color: rgb(255,255,0,0.5295681953430176)\">,</span> <span style=\"background-color: rgb(255,255,0,1.4217893779277802)\">charming</span> <span style=\"background-color: rgb(255,255,0,1.8183057010173798)\">movie</span> <span style=\"background-color: rgb(255,255,0,0.6029583886265755)\">allows</span> <span style=\"background-color: rgb(255,255,0,0.12914582155644894)\">us</span> <span style=\"background-color: rgb(255,255,0,0.19753288477659225)\">to</span> <span style=\"background-color: rgb(255,255,0,0.28070563450455666)\">see</span> <span style=\"background-color: rgb(255,255,0,0.2060798741877079)\">them</span> <span style=\"background-color: rgb(255,255,0,0.05804996006190777)\">,</span> <span style=\"background-color: rgb(255,255,0,0.17845841124653816)\">finally</span> <span style=\"background-color: rgb(255,255,0,0.004276465333532542)\">,</span> <span style=\"background-color: rgb(255,255,0,0.27691610157489777)\">as</span> <span style=\"background-color: rgb(255,255,0,0.19243910908699036)\">artists</span> <span style=\"background-color: rgb(255,255,0,0.004350623057689518)\">.</span> <span style=\"background-color: rgb(255,255,0,0.004330947122070938)\">[SEP]</span>"
      ],
      "text/plain": [
       "<IPython.core.display.HTML object>"
      ]
     },
     "metadata": {},
     "output_type": "display_data"
    },
    {
     "data": {
      "text/html": [
       "<span style=\"background-color: rgb(255,255,0,0.02591510768979788)\">[CLS]</span> <span style=\"background-color: rgb(255,255,0,0.8921905606985092)\">the</span> <span style=\"background-color: rgb(255,255,0,0.7882285863161087)\">invincible</span> <span style=\"background-color: rgb(255,255,0,0.1754036545753479)\">werner</span> <span style=\"background-color: rgb(255,255,0,0.02670035930350423)\">her</span> <span style=\"background-color: rgb(255,255,0,0.21863412111997604)\">##zog</span> <span style=\"background-color: rgb(255,255,0,1.6693425178527832)\">is</span> <span style=\"background-color: rgb(255,255,0,1.792287826538086)\">alive</span> <span style=\"background-color: rgb(255,255,0,0.8138321340084076)\">and</span> <span style=\"background-color: rgb(255,255,0,0.9895810484886169)\">well</span> <span style=\"background-color: rgb(255,255,0,0.6180627644062042)\">and</span> <span style=\"background-color: rgb(255,255,0,1.447036862373352)\">living</span> <span style=\"background-color: rgb(255,255,0,0.3450310230255127)\">in</span> <span style=\"background-color: rgb(255,255,0,0.1913958415389061)\">la</span> <span style=\"background-color: rgb(255,255,0,0.006357729434967041)\">[SEP]</span>"
      ],
      "text/plain": [
       "<IPython.core.display.HTML object>"
      ]
     },
     "metadata": {},
     "output_type": "display_data"
    },
    {
     "data": {
      "text/html": [
       "<span style=\"background-color: rgb(255,255,0,0.017847452545538545)\">[CLS]</span> <span style=\"background-color: rgb(255,255,0,2.415740340948105)\">it</span> <span style=\"background-color: rgb(255,255,0,1.2630437314510345)\">'</span> <span style=\"background-color: rgb(255,255,0,1.276681125164032)\">s</span> <span style=\"background-color: rgb(255,255,0,1.2535516917705536)\">the</span> <span style=\"background-color: rgb(255,255,0,0.9730774164199829)\">best</span> <span style=\"background-color: rgb(255,255,0,0.25480424985289574)\">film</span> <span style=\"background-color: rgb(255,255,0,0.31478796154260635)\">of</span> <span style=\"background-color: rgb(255,255,0,0.4286082461476326)\">the</span> <span style=\"background-color: rgb(255,255,0,0.21231673657894135)\">year</span> <span style=\"background-color: rgb(255,255,0,0.12297779321670532)\">so</span> <span style=\"background-color: rgb(255,255,0,0.032904043328016996)\">far</span> <span style=\"background-color: rgb(255,255,0,0.12189414352178574)\">,</span> <span style=\"background-color: rgb(255,255,0,0.4646195098757744)\">the</span> <span style=\"background-color: rgb(255,255,0,0.027861827984452248)\">bench</span> <span style=\"background-color: rgb(255,255,0,0.09384377859532833)\">##mark</span> <span style=\"background-color: rgb(255,255,0,0.012771382462233305)\">against</span> <span style=\"background-color: rgb(255,255,0,0.0598583510145545)\">which</span> <span style=\"background-color: rgb(255,255,0,0.07934417575597763)\">all</span> <span style=\"background-color: rgb(255,255,0,0.03509428119286895)\">other</span> <span style=\"background-color: rgb(255,255,0,0.26762422174215317)\">best</span> <span style=\"background-color: rgb(255,255,0,0.041615976952016354)\">picture</span> <span style=\"background-color: rgb(255,255,0,0.03290316788479686)\">contenders</span> <span style=\"background-color: rgb(255,255,0,0.06881174631416798)\">should</span> <span style=\"background-color: rgb(255,255,0,0.052521321922540665)\">be</span> <span style=\"background-color: rgb(255,255,0,0.06674338597804308)\">measured</span> <span style=\"background-color: rgb(255,255,0,0.0040559470653533936)\">.</span> <span style=\"background-color: rgb(255,255,0,0.004096122574992478)\">[SEP]</span>"
      ],
      "text/plain": [
       "<IPython.core.display.HTML object>"
      ]
     },
     "metadata": {},
     "output_type": "display_data"
    },
    {
     "data": {
      "text/html": [
       "<span style=\"background-color: rgb(255,255,0,0.061410050839185715)\">[CLS]</span> <span style=\"background-color: rgb(255,255,0,0.014471437316387892)\">on</span> <span style=\"background-color: rgb(255,255,0,0.037362410221248865)\">the</span> <span style=\"background-color: rgb(255,255,0,0.01006423612125218)\">surface</span> <span style=\"background-color: rgb(255,255,0,0.009048237116076052)\">,</span> <span style=\"background-color: rgb(255,255,0,1.004050225019455)\">it</span> <span style=\"background-color: rgb(255,255,0,0.10486279614269733)\">'</span> <span style=\"background-color: rgb(255,255,0,0.11596531607210636)\">s</span> <span style=\"background-color: rgb(255,255,0,0.15380257740616798)\">a</span> <span style=\"background-color: rgb(255,255,0,0.2207113802433014)\">lovers</span> <span style=\"background-color: rgb(255,255,0,0.023801696952432394)\">-</span> <span style=\"background-color: rgb(255,255,0,0.06918894127011299)\">on</span> <span style=\"background-color: rgb(255,255,0,0.008530362974852324)\">-</span> <span style=\"background-color: rgb(255,255,0,0.07321342825889587)\">the</span> <span style=\"background-color: rgb(255,255,0,0.01033973996527493)\">-</span> <span style=\"background-color: rgb(255,255,0,0.05326936487108469)\">run</span> <span style=\"background-color: rgb(255,255,0,0.09798375889658928)\">crime</span> <span style=\"background-color: rgb(255,255,0,0.3979397565126419)\">flick</span> <span style=\"background-color: rgb(255,255,0,0.011470169993117452)\">,</span> <span style=\"background-color: rgb(255,255,0,0.02336900681257248)\">but</span> <span style=\"background-color: rgb(255,255,0,3.0907148122787476)\">it</span> <span style=\"background-color: rgb(255,255,0,0.7258883118629456)\">has</span> <span style=\"background-color: rgb(255,255,0,1.0067078471183777)\">a</span> <span style=\"background-color: rgb(255,255,0,0.5079446360468864)\">lot</span> <span style=\"background-color: rgb(255,255,0,0.3911770135164261)\">in</span> <span style=\"background-color: rgb(255,255,0,0.2961297333240509)\">common</span> <span style=\"background-color: rgb(255,255,0,0.06670064758509398)\">with</span> <span style=\"background-color: rgb(255,255,0,0.005884864367544651)\">pie</span> <span style=\"background-color: rgb(255,255,0,0.0063875457271933556)\">##sie</span> <span style=\"background-color: rgb(255,255,0,0.017142773140221834)\">##wicz</span> <span style=\"background-color: rgb(255,255,0,0.15852296724915504)\">'</span> <span style=\"background-color: rgb(255,255,0,0.13206272386014462)\">s</span> <span style=\"background-color: rgb(255,255,0,0.12517415918409824)\">and</span> <span style=\"background-color: rgb(255,255,0,0.0036405533319339156)\">ki</span> <span style=\"background-color: rgb(255,255,0,0.007521159132011235)\">##es</span> <span style=\"background-color: rgb(255,255,0,0.006555115687660873)\">##low</span> <span style=\"background-color: rgb(255,255,0,0.014358566841110587)\">##ski</span> <span style=\"background-color: rgb(255,255,0,0.08391788229346275)\">'</span> <span style=\"background-color: rgb(255,255,0,0.0764955347403884)\">s</span> <span style=\"background-color: rgb(255,255,0,0.0173576467204839)\">earlier</span> <span style=\"background-color: rgb(255,255,0,0.25009315460920334)\">work</span> <span style=\"background-color: rgb(255,255,0,0.06422435864806175)\">,</span> <span style=\"background-color: rgb(255,255,0,0.07621967699378729)\">films</span> <span style=\"background-color: rgb(255,255,0,0.04225529730319977)\">like</span> <span style=\"background-color: rgb(255,255,0,0.05022627767175436)\">the</span> <span style=\"background-color: rgb(255,255,0,0.039790705777704716)\">double</span> <span style=\"background-color: rgb(255,255,0,0.08456946350634098)\">life</span> <span style=\"background-color: rgb(255,255,0,0.030171307735145092)\">of</span> <span style=\"background-color: rgb(255,255,0,0.012970103416591883)\">ve</span> <span style=\"background-color: rgb(255,255,0,0.015145245706662536)\">##ron</span> <span style=\"background-color: rgb(255,255,0,0.0696389190852642)\">##ique</span> <span style=\"background-color: rgb(255,255,0,0.011783301597461104)\">.</span> <span style=\"background-color: rgb(255,255,0,0.011773165315389633)\">[SEP]</span>"
      ],
      "text/plain": [
       "<IPython.core.display.HTML object>"
      ]
     },
     "metadata": {},
     "output_type": "display_data"
    },
    {
     "data": {
      "text/html": [
       "<span style=\"background-color: rgb(255,255,0,0.010299253044649959)\">[CLS]</span> <span style=\"background-color: rgb(255,255,0,0.3948976844549179)\">this</span> <span style=\"background-color: rgb(255,255,0,0.002761196519713849)\">may</span> <span style=\"background-color: rgb(255,255,0,0.00046292494516819715)\">not</span> <span style=\"background-color: rgb(255,255,0,0.0024766739807091653)\">have</span> <span style=\"background-color: rgb(255,255,0,0.0064820918487384915)\">the</span> <span style=\"background-color: rgb(255,255,0,0.05006453488022089)\">dramatic</span> <span style=\"background-color: rgb(255,255,0,0.06938072852790356)\">gut</span> <span style=\"background-color: rgb(255,255,0,0.019487622193992138)\">-</span> <span style=\"background-color: rgb(255,255,0,0.05669336300343275)\">wren</span> <span style=\"background-color: rgb(255,255,0,0.10383423417806625)\">##ching</span> <span style=\"background-color: rgb(255,255,0,0.022865431383252144)\">impact</span> <span style=\"background-color: rgb(255,255,0,0.004216612142045051)\">of</span> <span style=\"background-color: rgb(255,255,0,0.017124462174251676)\">other</span> <span style=\"background-color: rgb(255,255,0,0.042326292023062706)\">holocaust</span> <span style=\"background-color: rgb(255,255,0,0.1047225296497345)\">films</span> <span style=\"background-color: rgb(255,255,0,0.0016133830649778247)\">,</span> <span style=\"background-color: rgb(255,255,0,0.0069573079235851765)\">but</span> <span style=\"background-color: rgb(255,255,0,1.1294704675674438)\">it</span> <span style=\"background-color: rgb(255,255,0,1.1879310011863708)\">'</span> <span style=\"background-color: rgb(255,255,0,1.069296970963478)\">s</span> <span style=\"background-color: rgb(255,255,0,1.1278070509433746)\">a</span> <span style=\"background-color: rgb(255,255,0,0.8044967800378799)\">compelling</span> <span style=\"background-color: rgb(255,255,0,0.6421584635972977)\">story</span> <span style=\"background-color: rgb(255,255,0,0.0015967506624292582)\">,</span> <span style=\"background-color: rgb(255,255,0,0.2815697714686394)\">mainly</span> <span style=\"background-color: rgb(255,255,0,0.31764283776283264)\">because</span> <span style=\"background-color: rgb(255,255,0,0.3272908180952072)\">of</span> <span style=\"background-color: rgb(255,255,0,0.5094890668988228)\">the</span> <span style=\"background-color: rgb(255,255,0,0.2006249688565731)\">way</span> <span style=\"background-color: rgb(255,255,0,0.3619203343987465)\">it</span> <span style=\"background-color: rgb(255,255,0,0.054105157032608986)\">'</span> <span style=\"background-color: rgb(255,255,0,0.14672343619167805)\">s</span> <span style=\"background-color: rgb(255,255,0,0.45704659074544907)\">told</span> <span style=\"background-color: rgb(255,255,0,0.08993803523480892)\">by</span> <span style=\"background-color: rgb(255,255,0,0.12017550878226757)\">the</span> <span style=\"background-color: rgb(255,255,0,0.1226392574608326)\">people</span> <span style=\"background-color: rgb(255,255,0,0.05005010403692722)\">who</span> <span style=\"background-color: rgb(255,255,0,0.03008282743394375)\">were</span> <span style=\"background-color: rgb(255,255,0,0.04793540574610233)\">there</span> <span style=\"background-color: rgb(255,255,0,0.0016648508608341217)\">.</span> <span style=\"background-color: rgb(255,255,0,0.0016768246132414788)\">[SEP]</span>"
      ],
      "text/plain": [
       "<IPython.core.display.HTML object>"
      ]
     },
     "metadata": {},
     "output_type": "display_data"
    },
    {
     "data": {
      "text/html": [
       "<span style=\"background-color: rgb(255,255,0,0.47959327697753906)\">[CLS]</span> <span style=\"background-color: rgb(255,255,0,0.12872206047177315)\">if</span> <span style=\"background-color: rgb(255,255,0,0.7646085321903229)\">this</span> <span style=\"background-color: rgb(255,255,0,0.6586083024740219)\">movie</span> <span style=\"background-color: rgb(255,255,0,0.11206536553800106)\">were</span> <span style=\"background-color: rgb(255,255,0,0.4262859374284744)\">a</span> <span style=\"background-color: rgb(255,255,0,0.25513187050819397)\">book</span> <span style=\"background-color: rgb(255,255,0,0.23376813158392906)\">,</span> <span style=\"background-color: rgb(255,255,0,0.4988020285964012)\">it</span> <span style=\"background-color: rgb(255,255,0,0.12163754552602768)\">would</span> <span style=\"background-color: rgb(255,255,0,0.21390145644545555)\">be</span> <span style=\"background-color: rgb(255,255,0,0.3012022376060486)\">a</span> <span style=\"background-color: rgb(255,255,0,0.10284526273608208)\">page</span> <span style=\"background-color: rgb(255,255,0,0.18110467121005058)\">-</span> <span style=\"background-color: rgb(255,255,0,0.27640195563435555)\">turner</span> <span style=\"background-color: rgb(255,255,0,0.7078997045755386)\">,</span> <span style=\"background-color: rgb(255,255,0,0.5213546380400658)\">you</span> <span style=\"background-color: rgb(255,255,0,0.2323956973850727)\">ca</span> <span style=\"background-color: rgb(255,255,0,0.08754785172641277)\">n</span> <span style=\"background-color: rgb(255,255,0,0.04952289629727602)\">'</span> <span style=\"background-color: rgb(255,255,0,0.13972533866763115)\">t</span> <span style=\"background-color: rgb(255,255,0,0.32953333109617233)\">wait</span> <span style=\"background-color: rgb(255,255,0,0.35231251269578934)\">to</span> <span style=\"background-color: rgb(255,255,0,0.24011708796024323)\">see</span> <span style=\"background-color: rgb(255,255,0,0.5756434053182602)\">what</span> <span style=\"background-color: rgb(255,255,0,0.5310223251581192)\">happens</span> <span style=\"background-color: rgb(255,255,0,1.376034915447235)\">next</span> <span style=\"background-color: rgb(255,255,0,0.049867951311171055)\">.</span> <span style=\"background-color: rgb(255,255,0,0.05234353709965944)\">[SEP]</span> <span><b>(pred - negative, true - positive)</b></span>"
      ],
      "text/plain": [
       "<IPython.core.display.HTML object>"
      ]
     },
     "metadata": {},
     "output_type": "display_data"
    },
    {
     "data": {
      "text/html": [
       "<span style=\"background-color: rgb(255,255,0,0.7712431252002716)\">[CLS]</span> <span style=\"background-color: rgb(255,255,0,0.043865167535841465)\">though</span> <span style=\"background-color: rgb(255,255,0,0.13706722296774387)\">everything</span> <span style=\"background-color: rgb(255,255,0,0.011793302837759256)\">might</span> <span style=\"background-color: rgb(255,255,0,0.02138481941074133)\">be</span> <span style=\"background-color: rgb(255,255,0,0.006118351593613625)\">liter</span> <span style=\"background-color: rgb(255,255,0,0.00454400695161894)\">##ate</span> <span style=\"background-color: rgb(255,255,0,0.018533538095653057)\">and</span> <span style=\"background-color: rgb(255,255,0,0.011813772143796086)\">smart</span> <span style=\"background-color: rgb(255,255,0,0.038385139778256416)\">,</span> <span style=\"background-color: rgb(255,255,0,1.272713840007782)\">it</span> <span style=\"background-color: rgb(255,255,0,1.2854593992233276)\">never</span> <span style=\"background-color: rgb(255,255,0,0.6688255816698074)\">took</span> <span style=\"background-color: rgb(255,255,0,0.7716229557991028)\">off</span> <span style=\"background-color: rgb(255,255,0,1.1483050137758255)\">and</span> <span style=\"background-color: rgb(255,255,0,1.5987014770507812)\">always</span> <span style=\"background-color: rgb(255,255,0,1.104658842086792)\">seemed</span> <span style=\"background-color: rgb(255,255,0,1.0193908959627151)\">static</span> <span style=\"background-color: rgb(255,255,0,0.03247678047046065)\">.</span> <span style=\"background-color: rgb(255,255,0,0.033096408005803823)\">[SEP]</span>"
      ],
      "text/plain": [
       "<IPython.core.display.HTML object>"
      ]
     },
     "metadata": {},
     "output_type": "display_data"
    },
    {
     "data": {
      "text/html": [
       "<span style=\"background-color: rgb(255,255,0,0.0852280855178833)\">[CLS]</span> <span style=\"background-color: rgb(255,255,0,0.2671423926949501)\">han</span> <span style=\"background-color: rgb(255,255,0,1.7526812851428986)\">##eke</span> <span style=\"background-color: rgb(255,255,0,2.2502394020557404)\">challenges</span> <span style=\"background-color: rgb(255,255,0,1.3195720314979553)\">us</span> <span style=\"background-color: rgb(255,255,0,1.38507679104805)\">to</span> <span style=\"background-color: rgb(255,255,0,1.2807081639766693)\">confront</span> <span style=\"background-color: rgb(255,255,0,1.040794849395752)\">the</span> <span style=\"background-color: rgb(255,255,0,0.25884266942739487)\">reality</span> <span style=\"background-color: rgb(255,255,0,0.08675337769091129)\">of</span> <span style=\"background-color: rgb(255,255,0,0.14680275693535805)\">sexual</span> <span style=\"background-color: rgb(255,255,0,0.014954613288864493)\">abe</span> <span style=\"background-color: rgb(255,255,0,0.011876941425725818)\">##rra</span> <span style=\"background-color: rgb(255,255,0,0.07549619767814875)\">##tion</span> <span style=\"background-color: rgb(255,255,0,0.011872032191604376)\">.</span> <span style=\"background-color: rgb(255,255,0,0.01195782795548439)\">[SEP]</span>"
      ],
      "text/plain": [
       "<IPython.core.display.HTML object>"
      ]
     },
     "metadata": {},
     "output_type": "display_data"
    },
    {
     "data": {
      "text/html": [
       "<span style=\"background-color: rgb(255,255,0,0.1539622526615858)\">[CLS]</span> <span style=\"background-color: rgb(255,255,0,1.1095892637968063)\">absorbing</span> <span style=\"background-color: rgb(255,255,0,1.338074803352356)\">and</span> <span style=\"background-color: rgb(255,255,0,0.5004576593637466)\">disturbing</span> <span style=\"background-color: rgb(255,255,0,0.0910657737404108)\">-</span> <span style=\"background-color: rgb(255,255,0,0.28972670435905457)\">-</span> <span style=\"background-color: rgb(255,255,0,0.1896914653480053)\">perhaps</span> <span style=\"background-color: rgb(255,255,0,0.22061875090003014)\">more</span> <span style=\"background-color: rgb(255,255,0,0.2847003750503063)\">disturbing</span> <span style=\"background-color: rgb(255,255,0,0.142677528783679)\">than</span> <span style=\"background-color: rgb(255,255,0,0.15793181955814362)\">originally</span> <span style=\"background-color: rgb(255,255,0,0.0926129799336195)\">intended</span> <span style=\"background-color: rgb(255,255,0,0.08584774099290371)\">-</span> <span style=\"background-color: rgb(255,255,0,0.19991211593151093)\">-</span> <span style=\"background-color: rgb(255,255,0,0.5509262904524803)\">but</span> <span style=\"background-color: rgb(255,255,0,0.7782511413097382)\">a</span> <span style=\"background-color: rgb(255,255,0,0.8317872881889343)\">little</span> <span style=\"background-color: rgb(255,255,0,1.0327211767435074)\">clarity</span> <span style=\"background-color: rgb(255,255,0,0.26713205501437187)\">would</span> <span style=\"background-color: rgb(255,255,0,0.37384822964668274)\">have</span> <span style=\"background-color: rgb(255,255,0,0.3136981651186943)\">gone</span> <span style=\"background-color: rgb(255,255,0,0.5198650062084198)\">a</span> <span style=\"background-color: rgb(255,255,0,0.22884169593453407)\">long</span> <span style=\"background-color: rgb(255,255,0,0.14826402068138123)\">way</span> <span style=\"background-color: rgb(255,255,0,0.04863884765654802)\">.</span> <span style=\"background-color: rgb(255,255,0,0.049156900495290756)\">[SEP]</span> <span><b>(pred - positive, true - negative)</b></span>"
      ],
      "text/plain": [
       "<IPython.core.display.HTML object>"
      ]
     },
     "metadata": {},
     "output_type": "display_data"
    },
    {
     "data": {
      "text/html": [
       "<span style=\"background-color: rgb(255,255,0,0.05098330322653055)\">[CLS]</span> <span style=\"background-color: rgb(255,255,0,0.9959365427494049)\">in</span> <span style=\"background-color: rgb(255,255,0,1.3655750453472137)\">the</span> <span style=\"background-color: rgb(255,255,0,1.5205112099647522)\">process</span> <span style=\"background-color: rgb(255,255,0,0.007730291108600795)\">,</span> <span style=\"background-color: rgb(255,255,0,1.4996762573719025)\">they</span> <span style=\"background-color: rgb(255,255,0,0.6896106898784637)\">demonstrate</span> <span style=\"background-color: rgb(255,255,0,0.4168344661593437)\">that</span> <span style=\"background-color: rgb(255,255,0,0.16548052430152893)\">there</span> <span style=\"background-color: rgb(255,255,0,0.27575114741921425)\">'</span> <span style=\"background-color: rgb(255,255,0,0.16910115256905556)\">s</span> <span style=\"background-color: rgb(255,255,0,0.1989712007343769)\">still</span> <span style=\"background-color: rgb(255,255,0,0.4859064519405365)\">a</span> <span style=\"background-color: rgb(255,255,0,0.4648756980895996)\">lot</span> <span style=\"background-color: rgb(255,255,0,0.4895958676934242)\">of</span> <span style=\"background-color: rgb(255,255,0,0.5461103469133377)\">life</span> <span style=\"background-color: rgb(255,255,0,0.20293334499001503)\">in</span> <span style=\"background-color: rgb(255,255,0,0.11379873380064964)\">hong</span> <span style=\"background-color: rgb(255,255,0,0.07384383119642735)\">kong</span> <span style=\"background-color: rgb(255,255,0,0.2505919709801674)\">cinema</span> <span style=\"background-color: rgb(255,255,0,0.008052214398048818)\">.</span> <span style=\"background-color: rgb(255,255,0,0.008130098576657474)\">[SEP]</span>"
      ],
      "text/plain": [
       "<IPython.core.display.HTML object>"
      ]
     },
     "metadata": {},
     "output_type": "display_data"
    },
    {
     "data": {
      "text/html": [
       "<span style=\"background-color: rgb(255,255,0,0.033357697539031506)\">[CLS]</span> <span style=\"background-color: rgb(255,255,0,0.25845494121313095)\">edited</span> <span style=\"background-color: rgb(255,255,0,0.2138563059270382)\">and</span> <span style=\"background-color: rgb(255,255,0,0.3794260323047638)\">shot</span> <span style=\"background-color: rgb(255,255,0,0.31777773052453995)\">with</span> <span style=\"background-color: rgb(255,255,0,0.29684290289878845)\">a</span> <span style=\"background-color: rgb(255,255,0,0.04917972255498171)\">sync</span> <span style=\"background-color: rgb(255,255,0,0.006696103955619037)\">##opa</span> <span style=\"background-color: rgb(255,255,0,0.07203556597232819)\">##ted</span> <span style=\"background-color: rgb(255,255,0,0.12601285241544247)\">style</span> <span style=\"background-color: rgb(255,255,0,0.029350270051509142)\">mimic</span> <span style=\"background-color: rgb(255,255,0,0.04678258206695318)\">##king</span> <span style=\"background-color: rgb(255,255,0,0.00636069686152041)\">the</span> <span style=\"background-color: rgb(255,255,0,0.12707944959402084)\">work</span> <span style=\"background-color: rgb(255,255,0,0.07506342604756355)\">of</span> <span style=\"background-color: rgb(255,255,0,0.18887287005782127)\">his</span> <span style=\"background-color: rgb(255,255,0,0.05837591364979744)\">subjects</span> <span style=\"background-color: rgb(255,255,0,0.140750203281641)\">,</span> <span style=\"background-color: rgb(255,255,0,0.1817602850496769)\">pray</span> <span style=\"background-color: rgb(255,255,0,0.16533253714442253)\">turns</span> <span style=\"background-color: rgb(255,255,0,0.2256622537970543)\">the</span> <span style=\"background-color: rgb(255,255,0,0.07777782622724771)\">idea</span> <span style=\"background-color: rgb(255,255,0,0.14062315225601196)\">of</span> <span style=\"background-color: rgb(255,255,0,0.22135742008686066)\">the</span> <span style=\"background-color: rgb(255,255,0,0.09910561144351959)\">documentary</span> <span style=\"background-color: rgb(255,255,0,0.208419319242239)\">on</span> <span style=\"background-color: rgb(255,255,0,0.2704015374183655)\">its</span> <span style=\"background-color: rgb(255,255,0,0.1079479418694973)\">head</span> <span style=\"background-color: rgb(255,255,0,0.00649657566100359)\">,</span> <span style=\"background-color: rgb(255,255,0,0.4997706413269043)\">making</span> <span style=\"background-color: rgb(255,255,0,0.6552433222532272)\">it</span> <span style=\"background-color: rgb(255,255,0,0.3331412747502327)\">ro</span> <span style=\"background-color: rgb(255,255,0,1.334448903799057)\">##using</span> <span style=\"background-color: rgb(255,255,0,0.5504189431667328)\">,</span> <span style=\"background-color: rgb(255,255,0,0.5846705287694931)\">in</span> <span style=\"background-color: rgb(255,255,0,0.17389122396707535)\">##vi</span> <span style=\"background-color: rgb(255,255,0,0.22407673299312592)\">##gor</span> <span style=\"background-color: rgb(255,255,0,0.9474637359380722)\">##ating</span> <span style=\"background-color: rgb(255,255,0,0.5133257061243057)\">fun</span> <span style=\"background-color: rgb(255,255,0,0.0069258949952200055)\">lacking</span> <span style=\"background-color: rgb(255,255,0,0.004063078959006816)\">any</span> <span style=\"background-color: rgb(255,255,0,0.014432044699788094)\">mtv</span> <span style=\"background-color: rgb(255,255,0,0.00623303756583482)\">puff</span> <span style=\"background-color: rgb(255,255,0,0.007574079791083932)\">##ery</span> <span style=\"background-color: rgb(255,255,0,0.006609705742448568)\">.</span> <span style=\"background-color: rgb(255,255,0,0.006551966653205454)\">[SEP]</span>"
      ],
      "text/plain": [
       "<IPython.core.display.HTML object>"
      ]
     },
     "metadata": {},
     "output_type": "display_data"
    },
    {
     "data": {
      "text/html": [
       "<span style=\"background-color: rgb(255,255,0,0.016115569742396474)\">[CLS]</span> <span style=\"background-color: rgb(255,255,0,0.3449512645602226)\">with</span> <span style=\"background-color: rgb(255,255,0,0.3334733471274376)\">a</span> <span style=\"background-color: rgb(255,255,0,0.0842752680182457)\">cast</span> <span style=\"background-color: rgb(255,255,0,0.14455921947956085)\">that</span> <span style=\"background-color: rgb(255,255,0,0.05592012777924538)\">includes</span> <span style=\"background-color: rgb(255,255,0,0.05178621504455805)\">some</span> <span style=\"background-color: rgb(255,255,0,0.0806985329836607)\">of</span> <span style=\"background-color: rgb(255,255,0,0.10898193344473839)\">the</span> <span style=\"background-color: rgb(255,255,0,0.11579529382288456)\">top</span> <span style=\"background-color: rgb(255,255,0,0.022367739584296942)\">actors</span> <span style=\"background-color: rgb(255,255,0,0.010068388655781746)\">working</span> <span style=\"background-color: rgb(255,255,0,0.010542337549850345)\">in</span> <span style=\"background-color: rgb(255,255,0,0.024239192716777325)\">independent</span> <span style=\"background-color: rgb(255,255,0,0.02945254324004054)\">film</span> <span style=\"background-color: rgb(255,255,0,0.10054482147097588)\">,</span> <span style=\"background-color: rgb(255,255,0,0.7303798943758011)\">lovely</span> <span style=\"background-color: rgb(255,255,0,0.04867706447839737)\">&</span> <span style=\"background-color: rgb(255,255,0,0.7493672519922256)\">amazing</span> <span style=\"background-color: rgb(255,255,0,0.45388154685497284)\">involves</span> <span style=\"background-color: rgb(255,255,0,0.22399991750717163)\">us</span> <span style=\"background-color: rgb(255,255,0,0.5827659741044044)\">because</span> <span style=\"background-color: rgb(255,255,0,0.9565522521734238)\">it</span> <span style=\"background-color: rgb(255,255,0,0.8209288865327835)\">is</span> <span style=\"background-color: rgb(255,255,0,0.8283462375402451)\">so</span> <span style=\"background-color: rgb(255,255,0,0.032832459546625614)\">inc</span> <span style=\"background-color: rgb(255,255,0,0.01420279499143362)\">##isi</span> <span style=\"background-color: rgb(255,255,0,0.2466089092195034)\">##ve</span> <span style=\"background-color: rgb(255,255,0,0.05829356610774994)\">,</span> <span style=\"background-color: rgb(255,255,0,0.7172372937202454)\">so</span> <span style=\"background-color: rgb(255,255,0,0.01731890835799277)\">bleak</span> <span style=\"background-color: rgb(255,255,0,0.4597701132297516)\">##ly</span> <span style=\"background-color: rgb(255,255,0,1.0470408201217651)\">amusing</span> <span style=\"background-color: rgb(255,255,0,0.19589649513363838)\">about</span> <span style=\"background-color: rgb(255,255,0,0.028386383783072233)\">how</span> <span style=\"background-color: rgb(255,255,0,0.09257952682673931)\">we</span> <span style=\"background-color: rgb(255,255,0,0.014190435176715255)\">go</span> <span style=\"background-color: rgb(255,255,0,0.016685128211975098)\">about</span> <span style=\"background-color: rgb(255,255,0,0.025648840237408876)\">our</span> <span style=\"background-color: rgb(255,255,0,0.09966226294636726)\">lives</span> <span style=\"background-color: rgb(255,255,0,0.0024869039771147072)\">.</span> <span style=\"background-color: rgb(255,255,0,0.0024883323931135237)\">[SEP]</span>"
      ],
      "text/plain": [
       "<IPython.core.display.HTML object>"
      ]
     },
     "metadata": {},
     "output_type": "display_data"
    },
    {
     "data": {
      "text/html": [
       "<span style=\"background-color: rgb(255,255,0,0.3687867894768715)\">[CLS]</span> <span style=\"background-color: rgb(255,255,0,1.1230368912220001)\">but</span> <span style=\"background-color: rgb(255,255,0,1.7539362609386444)\">he</span> <span style=\"background-color: rgb(255,255,0,1.67546808719635)\">somehow</span> <span style=\"background-color: rgb(255,255,0,1.3686934113502502)\">pulls</span> <span style=\"background-color: rgb(255,255,0,1.8341213464736938)\">it</span> <span style=\"background-color: rgb(255,255,0,1.7554372549057007)\">off</span> <span style=\"background-color: rgb(255,255,0,0.059463563375175)\">.</span> <span style=\"background-color: rgb(255,255,0,0.06105608306825161)\">[SEP]</span> <span><b>(pred - negative, true - positive)</b></span>"
      ],
      "text/plain": [
       "<IPython.core.display.HTML object>"
      ]
     },
     "metadata": {},
     "output_type": "display_data"
    },
    {
     "data": {
      "text/html": [
       "<span style=\"background-color: rgb(255,255,0,0.009421646245755255)\">[CLS]</span> <span style=\"background-color: rgb(255,255,0,0.004856390005443245)\">though</span> <span style=\"background-color: rgb(255,255,0,0.15151187777519226)\">it</span> <span style=\"background-color: rgb(255,255,0,0.014682799810543656)\">is</span> <span style=\"background-color: rgb(255,255,0,0.001986869756365195)\">by</span> <span style=\"background-color: rgb(255,255,0,0.00019763197997235693)\">no</span> <span style=\"background-color: rgb(255,255,0,0.0007255956734297797)\">means</span> <span style=\"background-color: rgb(255,255,0,0.036371052265167236)\">his</span> <span style=\"background-color: rgb(255,255,0,0.07090535014867783)\">best</span> <span style=\"background-color: rgb(255,255,0,0.11399609036743641)\">work</span> <span style=\"background-color: rgb(255,255,0,0.0017464422853663564)\">,</span> <span style=\"background-color: rgb(255,255,0,0.0013134993787389249)\">lai</span> <span style=\"background-color: rgb(255,255,0,0.000599988670728635)\">##sse</span> <span style=\"background-color: rgb(255,255,0,0.0005388126010075212)\">##z</span> <span style=\"background-color: rgb(255,255,0,0.0013839462189935148)\">-</span> <span style=\"background-color: rgb(255,255,0,0.0013124156976118684)\">pass</span> <span style=\"background-color: rgb(255,255,0,0.0011184080358361825)\">##er</span> <span style=\"background-color: rgb(255,255,0,0.8248037099838257)\">is</span> <span style=\"background-color: rgb(255,255,0,0.9528180211782455)\">a</span> <span style=\"background-color: rgb(255,255,0,0.8920758962631226)\">distinguished</span> <span style=\"background-color: rgb(255,255,0,0.5843495950102806)\">and</span> <span style=\"background-color: rgb(255,255,0,0.926489382982254)\">distinctive</span> <span style=\"background-color: rgb(255,255,0,0.5791163444519043)\">effort</span> <span style=\"background-color: rgb(255,255,0,0.1622474379837513)\">by</span> <span style=\"background-color: rgb(255,255,0,0.2805401012301445)\">a</span> <span style=\"background-color: rgb(255,255,0,0.019419697346165776)\">bon</span> <span style=\"background-color: rgb(255,255,0,0.001494314055889845)\">##a</span> <span style=\"background-color: rgb(255,255,0,0.03121998393908143)\">-</span> <span style=\"background-color: rgb(255,255,0,0.03411077195778489)\">fide</span> <span style=\"background-color: rgb(255,255,0,0.2068110555410385)\">master</span> <span style=\"background-color: rgb(255,255,0,0.4534117504954338)\">,</span> <span style=\"background-color: rgb(255,255,0,0.7997936010360718)\">a</span> <span style=\"background-color: rgb(255,255,0,1.0974783450365067)\">fascinating</span> <span style=\"background-color: rgb(255,255,0,0.6244130805134773)\">film</span> <span style=\"background-color: rgb(255,255,0,0.12294843792915344)\">rep</span> <span style=\"background-color: rgb(255,255,0,0.2514723502099514)\">##lete</span> <span style=\"background-color: rgb(255,255,0,0.27758507058024406)\">with</span> <span style=\"background-color: rgb(255,255,0,0.13265665620565414)\">rewards</span> <span style=\"background-color: rgb(255,255,0,0.02369921188801527)\">to</span> <span style=\"background-color: rgb(255,255,0,0.008707965607754886)\">be</span> <span style=\"background-color: rgb(255,255,0,0.019907401874661446)\">had</span> <span style=\"background-color: rgb(255,255,0,0.03144734771922231)\">by</span> <span style=\"background-color: rgb(255,255,0,0.07226490415632725)\">all</span> <span style=\"background-color: rgb(255,255,0,0.014045831048861146)\">willing</span> <span style=\"background-color: rgb(255,255,0,0.0025588658172637224)\">to</span> <span style=\"background-color: rgb(255,255,0,0.003921074676327407)\">make</span> <span style=\"background-color: rgb(255,255,0,0.0017147984181065112)\">the</span> <span style=\"background-color: rgb(255,255,0,0.05564482882618904)\">effort</span> <span style=\"background-color: rgb(255,255,0,0.013250744668766856)\">to</span> <span style=\"background-color: rgb(255,255,0,0.0021290636505000293)\">re</span> <span style=\"background-color: rgb(255,255,0,0.024141978938132524)\">##ap</span> <span style=\"background-color: rgb(255,255,0,0.055017946287989616)\">them</span> <span style=\"background-color: rgb(255,255,0,0.0018088756769429892)\">.</span> <span style=\"background-color: rgb(255,255,0,0.00181404800969176)\">[SEP]</span>"
      ],
      "text/plain": [
       "<IPython.core.display.HTML object>"
      ]
     },
     "metadata": {},
     "output_type": "display_data"
    },
    {
     "data": {
      "text/html": [
       "<span style=\"background-color: rgb(255,255,0,0.07914591580629349)\">[CLS]</span> <span style=\"background-color: rgb(255,255,0,0.1641259342432022)\">go</span> <span style=\"background-color: rgb(255,255,0,0.23827653378248215)\">##llum</span> <span style=\"background-color: rgb(255,255,0,0.932983011007309)\">'</span> <span style=\"background-color: rgb(255,255,0,0.9612967073917389)\">s</span> <span style=\"background-color: rgb(255,255,0,0.1337544247508049)\">`</span> <span style=\"background-color: rgb(255,255,0,1.5113000571727753)\">performance</span> <span style=\"background-color: rgb(255,255,0,0.32397888600826263)\">'</span> <span style=\"background-color: rgb(255,255,0,1.4700600504875183)\">is</span> <span style=\"background-color: rgb(255,255,0,3.170304596424103)\">incredible</span> <span style=\"background-color: rgb(255,255,0,0.9948804974555969)\">!</span> <span style=\"background-color: rgb(255,255,0,0.019894239958375692)\">[SEP]</span>"
      ],
      "text/plain": [
       "<IPython.core.display.HTML object>"
      ]
     },
     "metadata": {},
     "output_type": "display_data"
    },
    {
     "data": {
      "text/html": [
       "<span style=\"background-color: rgb(255,255,0,0.020014720503240824)\">[CLS]</span> <span style=\"background-color: rgb(255,255,0,0.5776090919971466)\">a</span> <span style=\"background-color: rgb(255,255,0,0.27166401967406273)\">mostly</span> <span style=\"background-color: rgb(255,255,0,1.714877337217331)\">intelligent</span> <span style=\"background-color: rgb(255,255,0,0.2753103896975517)\">,</span> <span style=\"background-color: rgb(255,255,0,0.8288552612066269)\">eng</span> <span style=\"background-color: rgb(255,255,0,0.802067220211029)\">##ross</span> <span style=\"background-color: rgb(255,255,0,1.4906013011932373)\">##ing</span> <span style=\"background-color: rgb(255,255,0,0.3079336881637573)\">and</span> <span style=\"background-color: rgb(255,255,0,0.5127789452672005)\">psychological</span> <span style=\"background-color: rgb(255,255,0,0.4230034351348877)\">##ly</span> <span style=\"background-color: rgb(255,255,0,0.7960406690835953)\">res</span> <span style=\"background-color: rgb(255,255,0,0.5861653760075569)\">##ona</span> <span style=\"background-color: rgb(255,255,0,0.7833271473646164)\">##nt</span> <span style=\"background-color: rgb(255,255,0,0.27515802532434464)\">suspense</span> <span style=\"background-color: rgb(255,255,0,0.3150992840528488)\">##r</span> <span style=\"background-color: rgb(255,255,0,0.011184706818312407)\">.</span> <span style=\"background-color: rgb(255,255,0,0.00830885604955256)\">[SEP]</span>"
      ],
      "text/plain": [
       "<IPython.core.display.HTML object>"
      ]
     },
     "metadata": {},
     "output_type": "display_data"
    },
    {
     "data": {
      "text/html": [
       "<span style=\"background-color: rgb(255,255,0,0.021169260144233704)\">[CLS]</span> <span style=\"background-color: rgb(255,255,0,0.6449060887098312)\">this</span> <span style=\"background-color: rgb(255,255,0,0.4924963414669037)\">delicately</span> <span style=\"background-color: rgb(255,255,0,0.906292051076889)\">observed</span> <span style=\"background-color: rgb(255,255,0,0.5409412458539009)\">story</span> <span style=\"background-color: rgb(255,255,0,0.2150498889386654)\">,</span> <span style=\"background-color: rgb(255,255,0,0.5322207510471344)\">deeply</span> <span style=\"background-color: rgb(255,255,0,0.7721583545207977)\">felt</span> <span style=\"background-color: rgb(255,255,0,0.4191797226667404)\">and</span> <span style=\"background-color: rgb(255,255,0,1.1265082657337189)\">master</span> <span style=\"background-color: rgb(255,255,0,0.6950946897268295)\">##fully</span> <span style=\"background-color: rgb(255,255,0,0.7652691006660461)\">stylized</span> <span style=\"background-color: rgb(255,255,0,0.0054777361219748855)\">,</span> <span style=\"background-color: rgb(255,255,0,0.6950241327285767)\">is</span> <span style=\"background-color: rgb(255,255,0,0.7204947620630264)\">a</span> <span style=\"background-color: rgb(255,255,0,0.5365780740976334)\">triumph</span> <span style=\"background-color: rgb(255,255,0,0.3645468130707741)\">for</span> <span style=\"background-color: rgb(255,255,0,0.3820200636982918)\">its</span> <span style=\"background-color: rgb(255,255,0,0.03360375761985779)\">maverick</span> <span style=\"background-color: rgb(255,255,0,0.11928384192287922)\">director</span> <span style=\"background-color: rgb(255,255,0,0.00578226987272501)\">.</span> <span style=\"background-color: rgb(255,255,0,0.005902505945414305)\">[SEP]</span>"
      ],
      "text/plain": [
       "<IPython.core.display.HTML object>"
      ]
     },
     "metadata": {},
     "output_type": "display_data"
    },
    {
     "data": {
      "text/html": [
       "<span style=\"background-color: rgb(255,255,0,0.15385747887194157)\">[CLS]</span> <span style=\"background-color: rgb(255,255,0,4.816352128982544)\">guaranteed</span> <span style=\"background-color: rgb(255,255,0,1.1789953708648682)\">to</span> <span style=\"background-color: rgb(255,255,0,0.6762795895338058)\">move</span> <span style=\"background-color: rgb(255,255,0,0.41904132813215256)\">anyone</span> <span style=\"background-color: rgb(255,255,0,0.8064364641904831)\">who</span> <span style=\"background-color: rgb(255,255,0,0.42975377291440964)\">ever</span> <span style=\"background-color: rgb(255,255,0,0.3277953341603279)\">shook</span> <span style=\"background-color: rgb(255,255,0,0.434153750538826)\">,</span> <span style=\"background-color: rgb(255,255,0,0.26507196947932243)\">rattled</span> <span style=\"background-color: rgb(255,255,0,0.024333896581083536)\">,</span> <span style=\"background-color: rgb(255,255,0,0.11072936467826366)\">or</span> <span style=\"background-color: rgb(255,255,0,0.30634019523859024)\">rolled</span> <span style=\"background-color: rgb(255,255,0,0.02568440278992057)\">.</span> <span style=\"background-color: rgb(255,255,0,0.02517500426620245)\">[SEP]</span>"
      ],
      "text/plain": [
       "<IPython.core.display.HTML object>"
      ]
     },
     "metadata": {},
     "output_type": "display_data"
    },
    {
     "data": {
      "text/html": [
       "<span style=\"background-color: rgb(255,255,0,0.10645386762917042)\">[CLS]</span> <span style=\"background-color: rgb(255,255,0,0.8590061217546463)\">i</span> <span style=\"background-color: rgb(255,255,0,5.562533140182495)\">loved</span> <span style=\"background-color: rgb(255,255,0,2.422562390565872)\">it</span> <span style=\"background-color: rgb(255,255,0,1.0336841642856598)\">!</span> <span style=\"background-color: rgb(255,255,0,0.01576047739945352)\">[SEP]</span>"
      ],
      "text/plain": [
       "<IPython.core.display.HTML object>"
      ]
     },
     "metadata": {},
     "output_type": "display_data"
    },
    {
     "data": {
      "text/html": [
       "<span style=\"background-color: rgb(255,255,0,0.039745564572513103)\">[CLS]</span> <span style=\"background-color: rgb(255,255,0,1.2505191564559937)\">offers</span> <span style=\"background-color: rgb(255,255,0,0.8595941960811615)\">that</span> <span style=\"background-color: rgb(255,255,0,1.1852313578128815)\">rare</span> <span style=\"background-color: rgb(255,255,0,0.5041186884045601)\">combination</span> <span style=\"background-color: rgb(255,255,0,0.8959470689296722)\">of</span> <span style=\"background-color: rgb(255,255,0,2.273280769586563)\">entertainment</span> <span style=\"background-color: rgb(255,255,0,0.21329397335648537)\">and</span> <span style=\"background-color: rgb(255,255,0,2.7596405148506165)\">education</span> <span style=\"background-color: rgb(255,255,0,0.009202862856909633)\">.</span> <span style=\"background-color: rgb(255,255,0,0.009426625911146402)\">[SEP]</span>"
      ],
      "text/plain": [
       "<IPython.core.display.HTML object>"
      ]
     },
     "metadata": {},
     "output_type": "display_data"
    },
    {
     "data": {
      "text/html": [
       "<span style=\"background-color: rgb(255,255,0,0.03783921478316188)\">[CLS]</span> <span style=\"background-color: rgb(255,255,0,1.0776712000370026)\">a</span> <span style=\"background-color: rgb(255,255,0,0.39618413895368576)\">sports</span> <span style=\"background-color: rgb(255,255,0,0.6306212395429611)\">movie</span> <span style=\"background-color: rgb(255,255,0,0.798046737909317)\">with</span> <span style=\"background-color: rgb(255,255,0,0.41863318532705307)\">action</span> <span style=\"background-color: rgb(255,255,0,0.7279504090547562)\">that</span> <span style=\"background-color: rgb(255,255,0,0.7781079411506653)\">'</span> <span style=\"background-color: rgb(255,255,0,0.5833477154374123)\">s</span> <span style=\"background-color: rgb(255,255,0,1.0586721450090408)\">exciting</span> <span style=\"background-color: rgb(255,255,0,0.1715623028576374)\">on</span> <span style=\"background-color: rgb(255,255,0,0.11610625311732292)\">the</span> <span style=\"background-color: rgb(255,255,0,0.2840561047196388)\">field</span> <span style=\"background-color: rgb(255,255,0,0.33295128494501114)\">and</span> <span style=\"background-color: rgb(255,255,0,0.7170131057500839)\">a</span> <span style=\"background-color: rgb(255,255,0,0.12125974521040916)\">story</span> <span style=\"background-color: rgb(255,255,0,0.24796973913908005)\">you</span> <span style=\"background-color: rgb(255,255,0,0.8839595317840576)\">care</span> <span style=\"background-color: rgb(255,255,0,0.1430922280997038)\">about</span> <span style=\"background-color: rgb(255,255,0,0.0576743483543396)\">off</span> <span style=\"background-color: rgb(255,255,0,0.395091250538826)\">it</span> <span style=\"background-color: rgb(255,255,0,0.011053166817873716)\">.</span> <span style=\"background-color: rgb(255,255,0,0.011137404944747686)\">[SEP]</span>"
      ],
      "text/plain": [
       "<IPython.core.display.HTML object>"
      ]
     },
     "metadata": {},
     "output_type": "display_data"
    },
    {
     "data": {
      "text/html": [
       "<span style=\"background-color: rgb(255,255,0,0.6829160451889038)\">[CLS]</span> <span style=\"background-color: rgb(255,255,0,0.9391695261001587)\">the</span> <span style=\"background-color: rgb(255,255,0,0.03653121646493673)\">story</span> <span style=\"background-color: rgb(255,255,0,0.8514991402626038)\">loses</span> <span style=\"background-color: rgb(255,255,0,0.37092845886945724)\">its</span> <span style=\"background-color: rgb(255,255,0,0.04656636156141758)\">bite</span> <span style=\"background-color: rgb(255,255,0,0.35019025206565857)\">in</span> <span style=\"background-color: rgb(255,255,0,0.5764307081699371)\">a</span> <span style=\"background-color: rgb(255,255,0,0.5309605970978737)\">last</span> <span style=\"background-color: rgb(255,255,0,0.8036687970161438)\">-</span> <span style=\"background-color: rgb(255,255,0,0.2097218856215477)\">minute</span> <span style=\"background-color: rgb(255,255,0,0.10966874659061432)\">happy</span> <span style=\"background-color: rgb(255,255,0,0.16125496476888657)\">ending</span> <span style=\"background-color: rgb(255,255,0,0.3907601162791252)\">that</span> <span style=\"background-color: rgb(255,255,0,0.5338964611291885)\">'</span> <span style=\"background-color: rgb(255,255,0,0.5091721564531326)\">s</span> <span style=\"background-color: rgb(255,255,0,0.6206236407160759)\">even</span> <span style=\"background-color: rgb(255,255,0,0.330459401011467)\">less</span> <span style=\"background-color: rgb(255,255,0,0.027929446659982204)\">plausible</span> <span style=\"background-color: rgb(255,255,0,0.1564374379813671)\">than</span> <span style=\"background-color: rgb(255,255,0,0.4382207989692688)\">the</span> <span style=\"background-color: rgb(255,255,0,0.29019827023148537)\">rest</span> <span style=\"background-color: rgb(255,255,0,0.3011331520974636)\">of</span> <span style=\"background-color: rgb(255,255,0,0.4302000254392624)\">the</span> <span style=\"background-color: rgb(255,255,0,0.19657690078020096)\">picture</span> <span style=\"background-color: rgb(255,255,0,0.05228840745985508)\">.</span> <span style=\"background-color: rgb(255,255,0,0.052596437744796276)\">[SEP]</span>"
      ],
      "text/plain": [
       "<IPython.core.display.HTML object>"
      ]
     },
     "metadata": {},
     "output_type": "display_data"
    },
    {
     "data": {
      "text/html": [
       "<span style=\"background-color: rgb(255,255,0,0.07304084952920675)\">[CLS]</span> <span style=\"background-color: rgb(255,255,0,2.252279371023178)\">a</span> <span style=\"background-color: rgb(255,255,0,2.640800178050995)\">refreshing</span> <span style=\"background-color: rgb(255,255,0,0.020966760348528624)\">korean</span> <span style=\"background-color: rgb(255,255,0,2.513139545917511)\">film</span> <span style=\"background-color: rgb(255,255,0,1.3737505674362183)\">about</span> <span style=\"background-color: rgb(255,255,0,0.04434315953403711)\">five</span> <span style=\"background-color: rgb(255,255,0,0.03258759155869484)\">female</span> <span style=\"background-color: rgb(255,255,0,0.0045851312461309135)\">high</span> <span style=\"background-color: rgb(255,255,0,0.006738430820405483)\">school</span> <span style=\"background-color: rgb(255,255,0,0.029358905740082264)\">friends</span> <span style=\"background-color: rgb(255,255,0,0.18851164728403091)\">who</span> <span style=\"background-color: rgb(255,255,0,0.030140711460262537)\">face</span> <span style=\"background-color: rgb(255,255,0,0.09293603710830212)\">an</span> <span style=\"background-color: rgb(255,255,0,0.026813442818820477)\">up</span> <span style=\"background-color: rgb(255,255,0,0.03316740272566676)\">##hill</span> <span style=\"background-color: rgb(255,255,0,0.022994191385805607)\">battle</span> <span style=\"background-color: rgb(255,255,0,0.0716388039290905)\">when</span> <span style=\"background-color: rgb(255,255,0,0.05796538665890694)\">they</span> <span style=\"background-color: rgb(255,255,0,0.01149696996435523)\">try</span> <span style=\"background-color: rgb(255,255,0,0.026429693680256605)\">to</span> <span style=\"background-color: rgb(255,255,0,0.07109674625098705)\">take</span> <span style=\"background-color: rgb(255,255,0,0.05763206630945206)\">their</span> <span style=\"background-color: rgb(255,255,0,0.0705152191221714)\">relationships</span> <span style=\"background-color: rgb(255,255,0,0.07524544838815928)\">into</span> <span style=\"background-color: rgb(255,255,0,0.09031672962009907)\">deeper</span> <span style=\"background-color: rgb(255,255,0,0.06955043412744999)\">waters</span> <span style=\"background-color: rgb(255,255,0,0.005992964725010097)\">.</span> <span style=\"background-color: rgb(255,255,0,0.0059657503152266145)\">[SEP]</span>"
      ],
      "text/plain": [
       "<IPython.core.display.HTML object>"
      ]
     },
     "metadata": {},
     "output_type": "display_data"
    },
    {
     "data": {
      "text/html": [
       "<span style=\"background-color: rgb(255,255,0,0.37872806191444397)\">[CLS]</span> <span style=\"background-color: rgb(255,255,0,0.6247526407241821)\">ms</span> <span style=\"background-color: rgb(255,255,0,0.6722162663936615)\">.</span> <span style=\"background-color: rgb(255,255,0,0.2060752548277378)\">fu</span> <span style=\"background-color: rgb(255,255,0,0.33104222267866135)\">##lford</span> <span style=\"background-color: rgb(255,255,0,1.2391934543848038)\">-</span> <span style=\"background-color: rgb(255,255,0,0.018965343479067087)\">wi</span> <span style=\"background-color: rgb(255,255,0,0.031646236311644316)\">##er</span> <span style=\"background-color: rgb(255,255,0,0.03638669615611434)\">##z</span> <span style=\"background-color: rgb(255,255,0,0.04185029771178961)\">##bic</span> <span style=\"background-color: rgb(255,255,0,0.051891044713556767)\">##ki</span> <span style=\"background-color: rgb(255,255,0,0.7673625648021698)\">is</span> <span style=\"background-color: rgb(255,255,0,0.5156769976019859)\">almost</span> <span style=\"background-color: rgb(255,255,0,0.09233471006155014)\">sp</span> <span style=\"background-color: rgb(255,255,0,0.04986180458217859)\">##ook</span> <span style=\"background-color: rgb(255,255,0,0.206325501203537)\">##y</span> <span style=\"background-color: rgb(255,255,0,0.8071999996900558)\">in</span> <span style=\"background-color: rgb(255,255,0,0.8465949445962906)\">her</span> <span style=\"background-color: rgb(255,255,0,0.5177143961191177)\">sul</span> <span style=\"background-color: rgb(255,255,0,0.46612828969955444)\">##ky</span> <span style=\"background-color: rgb(255,255,0,0.4547484964132309)\">,</span> <span style=\"background-color: rgb(255,255,0,0.3956962376832962)\">calculating</span> <span style=\"background-color: rgb(255,255,0,0.08988115005195141)\">lo</span> <span style=\"background-color: rgb(255,255,0,0.19922731444239616)\">##lita</span> <span style=\"background-color: rgb(255,255,0,0.8880789577960968)\">turn</span> <span style=\"background-color: rgb(255,255,0,0.0348670338280499)\">.</span> <span style=\"background-color: rgb(255,255,0,0.03555330913513899)\">[SEP]</span> <span><b>(pred - negative, true - positive)</b></span>"
      ],
      "text/plain": [
       "<IPython.core.display.HTML object>"
      ]
     },
     "metadata": {},
     "output_type": "display_data"
    },
    {
     "data": {
      "text/html": [
       "<span style=\"background-color: rgb(255,255,0,0.0801217369735241)\">[CLS]</span> <span style=\"background-color: rgb(255,255,0,3.3620932698249817)\">a</span> <span style=\"background-color: rgb(255,255,0,1.6492916643619537)\">feel</span> <span style=\"background-color: rgb(255,255,0,0.14282389543950558)\">-</span> <span style=\"background-color: rgb(255,255,0,2.557150423526764)\">good</span> <span style=\"background-color: rgb(255,255,0,1.5620337426662445)\">picture</span> <span style=\"background-color: rgb(255,255,0,0.18612723797559738)\">in</span> <span style=\"background-color: rgb(255,255,0,0.10596395470201969)\">the</span> <span style=\"background-color: rgb(255,255,0,0.11406923644244671)\">best</span> <span style=\"background-color: rgb(255,255,0,0.015615500742569566)\">sense</span> <span style=\"background-color: rgb(255,255,0,0.03507277462631464)\">of</span> <span style=\"background-color: rgb(255,255,0,0.10327366180717945)\">the</span> <span style=\"background-color: rgb(255,255,0,0.05212737247347832)\">term</span> <span style=\"background-color: rgb(255,255,0,0.01719120889902115)\">.</span> <span style=\"background-color: rgb(255,255,0,0.017044140258803964)\">[SEP]</span>"
      ],
      "text/plain": [
       "<IPython.core.display.HTML object>"
      ]
     },
     "metadata": {},
     "output_type": "display_data"
    },
    {
     "data": {
      "text/html": [
       "<span style=\"background-color: rgb(255,255,0,0.39160050451755524)\">[CLS]</span> <span style=\"background-color: rgb(255,255,0,0.10158373974263668)\">in</span> <span style=\"background-color: rgb(255,255,0,0.12661747634410858)\">a</span> <span style=\"background-color: rgb(255,255,0,0.08442360907793045)\">normal</span> <span style=\"background-color: rgb(255,255,0,0.08771750144660473)\">screen</span> <span style=\"background-color: rgb(255,255,0,0.6923991441726685)\">process</span> <span style=\"background-color: rgb(255,255,0,0.013455917360261083)\">,</span> <span style=\"background-color: rgb(255,255,0,3.32401305437088)\">these</span> <span style=\"background-color: rgb(255,255,0,0.12755434028804302)\">bro</span> <span style=\"background-color: rgb(255,255,0,0.3985759988427162)\">##mide</span> <span style=\"background-color: rgb(255,255,0,0.731930285692215)\">##s</span> <span style=\"background-color: rgb(255,255,0,0.3584843873977661)\">would</span> <span style=\"background-color: rgb(255,255,0,0.486530140042305)\">be</span> <span style=\"background-color: rgb(255,255,0,0.5374693498015404)\">barely</span> <span style=\"background-color: rgb(255,255,0,1.1549759656190872)\">enough</span> <span style=\"background-color: rgb(255,255,0,0.6752478331327438)\">to</span> <span style=\"background-color: rgb(255,255,0,0.11625058948993683)\">sustain</span> <span style=\"background-color: rgb(255,255,0,0.22542860358953476)\">an</span> <span style=\"background-color: rgb(255,255,0,0.07791038136929274)\">inter</span> <span style=\"background-color: rgb(255,255,0,0.053793261758983135)\">##sti</span> <span style=\"background-color: rgb(255,255,0,0.04212841857224703)\">##tial</span> <span style=\"background-color: rgb(255,255,0,0.02180243143811822)\">program</span> <span style=\"background-color: rgb(255,255,0,0.024298338685184717)\">on</span> <span style=\"background-color: rgb(255,255,0,0.07476352620869875)\">the</span> <span style=\"background-color: rgb(255,255,0,0.033076799008995295)\">discovery</span> <span style=\"background-color: rgb(255,255,0,0.010007297387346625)\">channel</span> <span style=\"background-color: rgb(255,255,0,0.0138870591763407)\">.</span> <span style=\"background-color: rgb(255,255,0,0.014074790524318814)\">[SEP]</span>"
      ],
      "text/plain": [
       "<IPython.core.display.HTML object>"
      ]
     },
     "metadata": {},
     "output_type": "display_data"
    },
    {
     "data": {
      "text/html": [
       "<span style=\"background-color: rgb(255,255,0,0.047135972417891026)\">[CLS]</span> <span style=\"background-color: rgb(255,255,0,0.09658727794885635)\">while</span> <span style=\"background-color: rgb(255,255,0,0.25849679484963417)\">mc</span> <span style=\"background-color: rgb(255,255,0,0.20127549767494202)\">##farlane</span> <span style=\"background-color: rgb(255,255,0,1.1270235478878021)\">'</span> <span style=\"background-color: rgb(255,255,0,0.9545063972473145)\">s</span> <span style=\"background-color: rgb(255,255,0,0.4718063026666641)\">animation</span> <span style=\"background-color: rgb(255,255,0,0.9130886197090149)\">lifts</span> <span style=\"background-color: rgb(255,255,0,1.504020243883133)\">the</span> <span style=\"background-color: rgb(255,255,0,0.3442791476845741)\">film</span> <span style=\"background-color: rgb(255,255,0,0.22344229742884636)\">firmly</span> <span style=\"background-color: rgb(255,255,0,0.1013149693608284)\">above</span> <span style=\"background-color: rgb(255,255,0,0.22129449993371964)\">the</span> <span style=\"background-color: rgb(255,255,0,0.233334731310606)\">level</span> <span style=\"background-color: rgb(255,255,0,0.07163894362747669)\">of</span> <span style=\"background-color: rgb(255,255,0,0.018427260220050812)\">other</span> <span style=\"background-color: rgb(255,255,0,0.04384160041809082)\">coming</span> <span style=\"background-color: rgb(255,255,0,0.006488122162409127)\">-</span> <span style=\"background-color: rgb(255,255,0,0.04422125406563282)\">of</span> <span style=\"background-color: rgb(255,255,0,0.014524044236168265)\">-</span> <span style=\"background-color: rgb(255,255,0,0.06846166681498289)\">age</span> <span style=\"background-color: rgb(255,255,0,0.09930825792253017)\">films</span> <span style=\"background-color: rgb(255,255,0,0.039100623689591885)\">.</span> <span style=\"background-color: rgb(255,255,0,0.01794757437892258)\">.</span> <span style=\"background-color: rgb(255,255,0,0.07036999333649874)\">.</span> <span style=\"background-color: rgb(255,255,0,0.7500438392162323)\">it</span> <span style=\"background-color: rgb(255,255,0,0.19847072660923004)\">'</span> <span style=\"background-color: rgb(255,255,0,0.25172578170895576)\">s</span> <span style=\"background-color: rgb(255,255,0,0.5053944140672684)\">also</span> <span style=\"background-color: rgb(255,255,0,0.1750543899834156)\">so</span> <span style=\"background-color: rgb(255,255,0,0.04837166052311659)\">jar</span> <span style=\"background-color: rgb(255,255,0,0.12709137052297592)\">##ring</span> <span style=\"background-color: rgb(255,255,0,0.08246250450611115)\">that</span> <span style=\"background-color: rgb(255,255,0,0.039499662816524506)\">it</span> <span style=\"background-color: rgb(255,255,0,0.011531441705301404)\">'</span> <span style=\"background-color: rgb(255,255,0,0.04900156054645777)\">s</span> <span style=\"background-color: rgb(255,255,0,0.04064204636961222)\">hard</span> <span style=\"background-color: rgb(255,255,0,0.050452291034162045)\">to</span> <span style=\"background-color: rgb(255,255,0,0.048795826733112335)\">get</span> <span style=\"background-color: rgb(255,255,0,0.09346661157906055)\">back</span> <span style=\"background-color: rgb(255,255,0,0.09780464693903923)\">into</span> <span style=\"background-color: rgb(255,255,0,0.0589394336566329)\">the</span> <span style=\"background-color: rgb(255,255,0,0.056804800406098366)\">boys</span> <span style=\"background-color: rgb(255,255,0,0.05052514839917421)\">'</span> <span style=\"background-color: rgb(255,255,0,0.048536104150116444)\">story</span> <span style=\"background-color: rgb(255,255,0,0.011719309259206057)\">.</span> <span style=\"background-color: rgb(255,255,0,0.011730245314538479)\">[SEP]</span> <span><b>(pred - positive, true - negative)</b></span>"
      ],
      "text/plain": [
       "<IPython.core.display.HTML object>"
      ]
     },
     "metadata": {},
     "output_type": "display_data"
    },
    {
     "data": {
      "text/html": [
       "<span style=\"background-color: rgb(255,255,0,0.4443948343396187)\">[CLS]</span> <span style=\"background-color: rgb(255,255,0,0.03562415484338999)\">steer</span> <span style=\"background-color: rgb(255,255,0,0.7154521346092224)\">##s</span> <span style=\"background-color: rgb(255,255,0,0.3801271319389343)\">turns</span> <span style=\"background-color: rgb(255,255,0,0.5097527056932449)\">in</span> <span style=\"background-color: rgb(255,255,0,0.939127504825592)\">a</span> <span style=\"background-color: rgb(255,255,0,0.18666477873921394)\">snap</span> <span style=\"background-color: rgb(255,255,0,0.4464232921600342)\">##py</span> <span style=\"background-color: rgb(255,255,0,0.114178117364645)\">screenplay</span> <span style=\"background-color: rgb(255,255,0,1.34024977684021)\">that</span> <span style=\"background-color: rgb(255,255,0,0.18624000251293182)\">curls</span> <span style=\"background-color: rgb(255,255,0,0.27637725695967674)\">at</span> <span style=\"background-color: rgb(255,255,0,0.02721800934523344)\">the</span> <span style=\"background-color: rgb(255,255,0,0.21618148311972618)\">edges</span> <span style=\"background-color: rgb(255,255,0,0.5834176391363144)\">;</span> <span style=\"background-color: rgb(255,255,0,0.5786199495196342)\">it</span> <span style=\"background-color: rgb(255,255,0,0.41669853031635284)\">'</span> <span style=\"background-color: rgb(255,255,0,0.619702972471714)\">s</span> <span style=\"background-color: rgb(255,255,0,0.5806337296962738)\">so</span> <span style=\"background-color: rgb(255,255,0,0.1929996907711029)\">clever</span> <span style=\"background-color: rgb(255,255,0,0.16135798767209053)\">you</span> <span style=\"background-color: rgb(255,255,0,0.10490220971405506)\">want</span> <span style=\"background-color: rgb(255,255,0,0.20723408088088036)\">to</span> <span style=\"background-color: rgb(255,255,0,0.16940316185355186)\">hate</span> <span style=\"background-color: rgb(255,255,0,0.5111639574170113)\">it</span> <span style=\"background-color: rgb(255,255,0,0.027713312301784754)\">.</span> <span style=\"background-color: rgb(255,255,0,0.02814112463966012)\">[SEP]</span> <span><b>(pred - negative, true - positive)</b></span>"
      ],
      "text/plain": [
       "<IPython.core.display.HTML object>"
      ]
     },
     "metadata": {},
     "output_type": "display_data"
    },
    {
     "data": {
      "text/html": [
       "<span style=\"background-color: rgb(255,255,0,0.02748569706454873)\">[CLS]</span> <span style=\"background-color: rgb(255,255,0,1.2236953526735306)\">the</span> <span style=\"background-color: rgb(255,255,0,0.3967617452144623)\">movie</span> <span style=\"background-color: rgb(255,255,0,1.01866215467453)\">'</span> <span style=\"background-color: rgb(255,255,0,1.0442304611206055)\">s</span> <span style=\"background-color: rgb(255,255,0,0.5608558654785156)\">ripe</span> <span style=\"background-color: rgb(255,255,0,0.3942509740591049)\">,</span> <span style=\"background-color: rgb(255,255,0,0.16562281176447868)\">en</span> <span style=\"background-color: rgb(255,255,0,0.021825307048857212)\">##ra</span> <span style=\"background-color: rgb(255,255,0,0.11611893773078918)\">##pt</span> <span style=\"background-color: rgb(255,255,0,0.6482121348381042)\">##uring</span> <span style=\"background-color: rgb(255,255,0,1.8960665166378021)\">beauty</span> <span style=\"background-color: rgb(255,255,0,0.5106500908732414)\">will</span> <span style=\"background-color: rgb(255,255,0,0.02521608956158161)\">te</span> <span style=\"background-color: rgb(255,255,0,0.11681332252919674)\">##mpt</span> <span style=\"background-color: rgb(255,255,0,0.20603042095899582)\">those</span> <span style=\"background-color: rgb(255,255,0,0.15732057392597198)\">willing</span> <span style=\"background-color: rgb(255,255,0,0.09892643429338932)\">to</span> <span style=\"background-color: rgb(255,255,0,0.2232179045677185)\">probe</span> <span style=\"background-color: rgb(255,255,0,0.9702716022729874)\">its</span> <span style=\"background-color: rgb(255,255,0,0.013223820133134723)\">ins</span> <span style=\"background-color: rgb(255,255,0,0.009839617414399981)\">##cr</span> <span style=\"background-color: rgb(255,255,0,0.04748986102640629)\">##utable</span> <span style=\"background-color: rgb(255,255,0,0.08803223259747028)\">mysteries</span> <span style=\"background-color: rgb(255,255,0,0.009537726291455328)\">.</span> <span style=\"background-color: rgb(255,255,0,0.009643231169320643)\">[SEP]</span>"
      ],
      "text/plain": [
       "<IPython.core.display.HTML object>"
      ]
     },
     "metadata": {},
     "output_type": "display_data"
    },
    {
     "data": {
      "text/html": [
       "<span style=\"background-color: rgb(255,255,0,0.08647161535918713)\">[CLS]</span> <span style=\"background-color: rgb(255,255,0,1.9730818271636963)\">an</span> <span style=\"background-color: rgb(255,255,0,0.7660750299692154)\">ideal</span> <span style=\"background-color: rgb(255,255,0,0.8877649158239365)\">##istic</span> <span style=\"background-color: rgb(255,255,0,1.8272177875041962)\">love</span> <span style=\"background-color: rgb(255,255,0,0.864589735865593)\">story</span> <span style=\"background-color: rgb(255,255,0,1.7703145742416382)\">that</span> <span style=\"background-color: rgb(255,255,0,0.6332606077194214)\">brings</span> <span style=\"background-color: rgb(255,255,0,0.19645797088742256)\">out</span> <span style=\"background-color: rgb(255,255,0,0.06318122614175081)\">the</span> <span style=\"background-color: rgb(255,255,0,0.005106938187964261)\">late</span> <span style=\"background-color: rgb(255,255,0,0.011501072440296412)\">##nt</span> <span style=\"background-color: rgb(255,255,0,0.050706700421869755)\">15</span> <span style=\"background-color: rgb(255,255,0,0.005603993195109069)\">-</span> <span style=\"background-color: rgb(255,255,0,0.019802600145339966)\">year</span> <span style=\"background-color: rgb(255,255,0,0.005160668515600264)\">-</span> <span style=\"background-color: rgb(255,255,0,0.013645687140524387)\">old</span> <span style=\"background-color: rgb(255,255,0,0.3666383773088455)\">romantic</span> <span style=\"background-color: rgb(255,255,0,0.25832556188106537)\">in</span> <span style=\"background-color: rgb(255,255,0,0.16457872465252876)\">everyone</span> <span style=\"background-color: rgb(255,255,0,0.015222058864310384)\">.</span> <span style=\"background-color: rgb(255,255,0,0.015292927855625749)\">[SEP]</span>"
      ],
      "text/plain": [
       "<IPython.core.display.HTML object>"
      ]
     },
     "metadata": {},
     "output_type": "display_data"
    },
    {
     "data": {
      "text/html": [
       "<span style=\"background-color: rgb(255,255,0,0.0186901877168566)\">[CLS]</span> <span style=\"background-color: rgb(255,255,0,1.434248834848404)\">a</span> <span style=\"background-color: rgb(255,255,0,1.0460392385721207)\">master</span> <span style=\"background-color: rgb(255,255,0,1.4676465094089508)\">##ful</span> <span style=\"background-color: rgb(255,255,0,0.9089493751525879)\">film</span> <span style=\"background-color: rgb(255,255,0,0.37753310054540634)\">from</span> <span style=\"background-color: rgb(255,255,0,0.3638437017798424)\">a</span> <span style=\"background-color: rgb(255,255,0,0.5641056597232819)\">master</span> <span style=\"background-color: rgb(255,255,0,0.26363590732216835)\">filmmaker</span> <span style=\"background-color: rgb(255,255,0,0.4617934674024582)\">,</span> <span style=\"background-color: rgb(255,255,0,0.46170447021722794)\">unique</span> <span style=\"background-color: rgb(255,255,0,0.262778103351593)\">in</span> <span style=\"background-color: rgb(255,255,0,0.5315040051937103)\">its</span> <span style=\"background-color: rgb(255,255,0,0.0019448829698376358)\">dec</span> <span style=\"background-color: rgb(255,255,0,0.0007807865040376782)\">##eptive</span> <span style=\"background-color: rgb(255,255,0,0.008916293154470623)\">grim</span> <span style=\"background-color: rgb(255,255,0,0.02198455622419715)\">##ness</span> <span style=\"background-color: rgb(255,255,0,0.3123488835990429)\">,</span> <span style=\"background-color: rgb(255,255,0,0.7903198897838593)\">compelling</span> <span style=\"background-color: rgb(255,255,0,0.1427115499973297)\">in</span> <span style=\"background-color: rgb(255,255,0,0.5011647567152977)\">its</span> <span style=\"background-color: rgb(255,255,0,0.00879329105373472)\">fatal</span> <span style=\"background-color: rgb(255,255,0,0.005780626670457423)\">##ist</span> <span style=\"background-color: rgb(255,255,0,0.013289591297507286)\">world</span> <span style=\"background-color: rgb(255,255,0,0.023297811858356)\">##view</span> <span style=\"background-color: rgb(255,255,0,0.0030790281016379595)\">.</span> <span style=\"background-color: rgb(255,255,0,0.0031156986369751394)\">[SEP]</span>"
      ],
      "text/plain": [
       "<IPython.core.display.HTML object>"
      ]
     },
     "metadata": {},
     "output_type": "display_data"
    },
    {
     "data": {
      "text/html": [
       "<span style=\"background-color: rgb(255,255,0,0.36480940878391266)\">[CLS]</span> <span style=\"background-color: rgb(255,255,0,0.3895137086510658)\">if</span> <span style=\"background-color: rgb(255,255,0,0.24652624502778053)\">it</span> <span style=\"background-color: rgb(255,255,0,0.04077122546732426)\">'</span> <span style=\"background-color: rgb(255,255,0,0.1800120621919632)\">s</span> <span style=\"background-color: rgb(255,255,0,0.05203330423682928)\">possible</span> <span style=\"background-color: rgb(255,255,0,0.15908662229776382)\">for</span> <span style=\"background-color: rgb(255,255,0,0.12463952414691448)\">a</span> <span style=\"background-color: rgb(255,255,0,0.25602685287594795)\">sequel</span> <span style=\"background-color: rgb(255,255,0,0.21392405033111572)\">to</span> <span style=\"background-color: rgb(255,255,0,0.10175156407058239)\">outs</span> <span style=\"background-color: rgb(255,255,0,0.11581292375922203)\">##hine</span> <span style=\"background-color: rgb(255,255,0,0.33343739807605743)\">the</span> <span style=\"background-color: rgb(255,255,0,0.4703856632113457)\">original</span> <span style=\"background-color: rgb(255,255,0,0.04541803617030382)\">,</span> <span style=\"background-color: rgb(255,255,0,0.872986912727356)\">then</span> <span style=\"background-color: rgb(255,255,0,0.28272422030568123)\">sl</span> <span style=\"background-color: rgb(255,255,0,0.3925483301281929)\">##2</span> <span style=\"background-color: rgb(255,255,0,1.2480241805315018)\">does</span> <span style=\"background-color: rgb(255,255,0,1.8024291098117828)\">just</span> <span style=\"background-color: rgb(255,255,0,2.213737666606903)\">that</span> <span style=\"background-color: rgb(255,255,0,0.04654258955270052)\">.</span> <span style=\"background-color: rgb(255,255,0,0.046858787536621094)\">[SEP]</span>"
      ],
      "text/plain": [
       "<IPython.core.display.HTML object>"
      ]
     },
     "metadata": {},
     "output_type": "display_data"
    },
    {
     "data": {
      "text/html": [
       "<span style=\"background-color: rgb(255,255,0,0.04985475912690163)\">[CLS]</span> <span style=\"background-color: rgb(255,255,0,1.975696086883545)\">together</span> <span style=\"background-color: rgb(255,255,0,0.017692813416942954)\">,</span> <span style=\"background-color: rgb(255,255,0,0.015999353490769863)\">to</span> <span style=\"background-color: rgb(255,255,0,0.06639872211962938)\">##k</span> <span style=\"background-color: rgb(255,255,0,0.7682142406702042)\">and</span> <span style=\"background-color: rgb(255,255,0,0.2683914266526699)\">o</span> <span style=\"background-color: rgb(255,255,0,0.6149797886610031)\">orchestra</span> <span style=\"background-color: rgb(255,255,0,0.5168746784329414)\">##te</span> <span style=\"background-color: rgb(255,255,0,1.4900864660739899)\">a</span> <span style=\"background-color: rgb(255,255,0,0.05034572444856167)\">bu</span> <span style=\"background-color: rgb(255,255,0,0.08265265263617039)\">##oya</span> <span style=\"background-color: rgb(255,255,0,0.3219722956418991)\">##nt</span> <span style=\"background-color: rgb(255,255,0,1.0105427354574203)\">,</span> <span style=\"background-color: rgb(255,255,0,0.5151244252920151)\">darkly</span> <span style=\"background-color: rgb(255,255,0,1.016002967953682)\">funny</span> <span style=\"background-color: rgb(255,255,0,0.7374080270528793)\">dance</span> <span style=\"background-color: rgb(255,255,0,0.253825131803751)\">of</span> <span style=\"background-color: rgb(255,255,0,0.1925993710756302)\">death</span> <span style=\"background-color: rgb(255,255,0,0.017657355638220906)\">.</span> <span style=\"background-color: rgb(255,255,0,0.017681613098829985)\">[SEP]</span>"
      ],
      "text/plain": [
       "<IPython.core.display.HTML object>"
      ]
     },
     "metadata": {},
     "output_type": "display_data"
    },
    {
     "data": {
      "text/html": [
       "<span style=\"background-color: rgb(255,255,0,0.12093761004507542)\">[CLS]</span> <span style=\"background-color: rgb(255,255,0,1.033562794327736)\">hugh</span> <span style=\"background-color: rgb(255,255,0,0.6423085927963257)\">grant</span> <span style=\"background-color: rgb(255,255,0,1.1034617573022842)\">and</span> <span style=\"background-color: rgb(255,255,0,0.2802644670009613)\">sandra</span> <span style=\"background-color: rgb(255,255,0,0.12338734231889248)\">bullock</span> <span style=\"background-color: rgb(255,255,0,0.5640745535492897)\">are</span> <span style=\"background-color: rgb(255,255,0,0.7320892810821533)\">two</span> <span style=\"background-color: rgb(255,255,0,1.6763317584991455)\">such</span> <span style=\"background-color: rgb(255,255,0,0.7365313917398453)\">like</span> <span style=\"background-color: rgb(255,255,0,2.3475244641304016)\">##able</span> <span style=\"background-color: rgb(255,255,0,0.5815697088837624)\">actors</span> <span style=\"background-color: rgb(255,255,0,0.028704919386655092)\">.</span> <span style=\"background-color: rgb(255,255,0,0.029251081869006157)\">[SEP]</span>"
      ],
      "text/plain": [
       "<IPython.core.display.HTML object>"
      ]
     },
     "metadata": {},
     "output_type": "display_data"
    },
    {
     "data": {
      "text/html": [
       "<span style=\"background-color: rgb(255,255,0,0.17142876982688904)\">[CLS]</span> <span style=\"background-color: rgb(255,255,0,2.058592736721039)\">a</span> <span style=\"background-color: rgb(255,255,0,0.30572935938835144)\">sim</span> <span style=\"background-color: rgb(255,255,0,0.9902928024530411)\">##mering</span> <span style=\"background-color: rgb(255,255,0,1.0908392071723938)\">psychological</span> <span style=\"background-color: rgb(255,255,0,1.3382573425769806)\">drama</span> <span style=\"background-color: rgb(255,255,0,0.4082651808857918)\">in</span> <span style=\"background-color: rgb(255,255,0,0.5334790050983429)\">which</span> <span style=\"background-color: rgb(255,255,0,0.16956843435764313)\">the</span> <span style=\"background-color: rgb(255,255,0,0.03276705974712968)\">bursts</span> <span style=\"background-color: rgb(255,255,0,0.056828991509974)\">of</span> <span style=\"background-color: rgb(255,255,0,0.05308396648615599)\">sudden</span> <span style=\"background-color: rgb(255,255,0,0.15039927326142788)\">violence</span> <span style=\"background-color: rgb(255,255,0,0.18680835142731667)\">are</span> <span style=\"background-color: rgb(255,255,0,0.24356640875339508)\">all</span> <span style=\"background-color: rgb(255,255,0,0.12777074240148067)\">the</span> <span style=\"background-color: rgb(255,255,0,0.16546064987778664)\">more</span> <span style=\"background-color: rgb(255,255,0,0.6020941212773323)\">startling</span> <span style=\"background-color: rgb(255,255,0,0.14582176692783833)\">for</span> <span style=\"background-color: rgb(255,255,0,0.1839226856827736)\">the</span> <span style=\"background-color: rgb(255,255,0,0.05061580799520016)\">slow</span> <span style=\"background-color: rgb(255,255,0,0.03978114575147629)\">build</span> <span style=\"background-color: rgb(255,255,0,0.12028893455862999)\">##up</span> <span style=\"background-color: rgb(255,255,0,0.28026457875967026)\">that</span> <span style=\"background-color: rgb(255,255,0,0.10507811792194843)\">has</span> <span style=\"background-color: rgb(255,255,0,0.0865578930824995)\">preceded</span> <span style=\"background-color: rgb(255,255,0,0.19121726974844933)\">them</span> <span style=\"background-color: rgb(255,255,0,0.05557253956794739)\">.</span> <span style=\"background-color: rgb(255,255,0,0.05564671941101551)\">[SEP]</span>"
      ],
      "text/plain": [
       "<IPython.core.display.HTML object>"
      ]
     },
     "metadata": {},
     "output_type": "display_data"
    },
    {
     "data": {
      "text/html": [
       "<span style=\"background-color: rgb(255,255,0,0.032652467489242554)\">[CLS]</span> <span style=\"background-color: rgb(255,255,0,0.5848403647542)\">the</span> <span style=\"background-color: rgb(255,255,0,0.22260870784521103)\">movie</span> <span style=\"background-color: rgb(255,255,0,0.6407441943883896)\">is</span> <span style=\"background-color: rgb(255,255,0,0.9257248044013977)\">a</span> <span style=\"background-color: rgb(255,255,0,1.2319846451282501)\">blast</span> <span style=\"background-color: rgb(255,255,0,0.6509294360876083)\">of</span> <span style=\"background-color: rgb(255,255,0,1.4019854366779327)\">educational</span> <span style=\"background-color: rgb(255,255,0,1.2589597702026367)\">energy</span> <span style=\"background-color: rgb(255,255,0,0.0042458559619262815)\">,</span> <span style=\"background-color: rgb(255,255,0,0.2410692162811756)\">as</span> <span style=\"background-color: rgb(255,255,0,0.0518896384164691)\">bo</span> <span style=\"background-color: rgb(255,255,0,0.019335229881107807)\">##un</span> <span style=\"background-color: rgb(255,255,0,0.34988977015018463)\">##cy</span> <span style=\"background-color: rgb(255,255,0,0.8036024123430252)\">animation</span> <span style=\"background-color: rgb(255,255,0,0.10339812375605106)\">and</span> <span style=\"background-color: rgb(255,255,0,0.09442162699997425)\">catch</span> <span style=\"background-color: rgb(255,255,0,0.11613229289650917)\">##y</span> <span style=\"background-color: rgb(255,255,0,0.152119817212224)\">songs</span> <span style=\"background-color: rgb(255,255,0,0.14833463355898857)\">escort</span> <span style=\"background-color: rgb(255,255,0,0.13514638878405094)\">you</span> <span style=\"background-color: rgb(255,255,0,0.13602260500192642)\">through</span> <span style=\"background-color: rgb(255,255,0,0.22389724850654602)\">the</span> <span style=\"background-color: rgb(255,255,0,0.3153699263930321)\">entire</span> <span style=\"background-color: rgb(255,255,0,0.01768012996762991)\">85</span> <span style=\"background-color: rgb(255,255,0,0.12820797972381115)\">minutes</span> <span style=\"background-color: rgb(255,255,0,0.004424401558935642)\">.</span> <span style=\"background-color: rgb(255,255,0,0.004383132909424603)\">[SEP]</span>"
      ],
      "text/plain": [
       "<IPython.core.display.HTML object>"
      ]
     },
     "metadata": {},
     "output_type": "display_data"
    },
    {
     "data": {
      "text/html": [
       "<span style=\"background-color: rgb(255,255,0,0.028878808952867985)\">[CLS]</span> <span style=\"background-color: rgb(255,255,0,0.49193158745765686)\">at</span> <span style=\"background-color: rgb(255,255,0,0.8566462248563766)\">heart</span> <span style=\"background-color: rgb(255,255,0,1.9961005449295044)\">the</span> <span style=\"background-color: rgb(255,255,0,0.4052339866757393)\">movie</span> <span style=\"background-color: rgb(255,255,0,1.4770089089870453)\">is</span> <span style=\"background-color: rgb(255,255,0,1.6022306680679321)\">a</span> <span style=\"background-color: rgb(255,255,0,0.1961338147521019)\">def</span> <span style=\"background-color: rgb(255,255,0,0.601009801030159)\">##tly</span> <span style=\"background-color: rgb(255,255,0,0.6986382603645325)\">wrought</span> <span style=\"background-color: rgb(255,255,0,0.7139009237289429)\">suspense</span> <span style=\"background-color: rgb(255,255,0,0.3723033517599106)\">yarn</span> <span style=\"background-color: rgb(255,255,0,0.14295075088739395)\">whose</span> <span style=\"background-color: rgb(255,255,0,0.031919218599796295)\">richer</span> <span style=\"background-color: rgb(255,255,0,0.016944982344284654)\">sha</span> <span style=\"background-color: rgb(255,255,0,0.019084616797044873)\">##ding</span> <span style=\"background-color: rgb(255,255,0,0.026359723415225744)\">##s</span> <span style=\"background-color: rgb(255,255,0,0.08542236872017384)\">work</span> <span style=\"background-color: rgb(255,255,0,0.021319654770195484)\">as</span> <span style=\"background-color: rgb(255,255,0,0.06294471211731434)\">coloring</span> <span style=\"background-color: rgb(255,255,0,0.01146289287135005)\">rather</span> <span style=\"background-color: rgb(255,255,0,0.021909759379923344)\">than</span> <span style=\"background-color: rgb(255,255,0,0.08642632514238358)\">substance</span> <span style=\"background-color: rgb(255,255,0,0.016514500603079796)\">.</span> <span style=\"background-color: rgb(255,255,0,0.016723754815757275)\">[SEP]</span>"
      ],
      "text/plain": [
       "<IPython.core.display.HTML object>"
      ]
     },
     "metadata": {},
     "output_type": "display_data"
    },
    {
     "data": {
      "text/html": [
       "<span style=\"background-color: rgb(255,255,0,0.06247031968086958)\">[CLS]</span> <span style=\"background-color: rgb(255,255,0,0.34060530364513397)\">in</span> <span style=\"background-color: rgb(255,255,0,1.0467658936977386)\">its</span> <span style=\"background-color: rgb(255,255,0,0.18186725676059723)\">ragged</span> <span style=\"background-color: rgb(255,255,0,0.6318213045597076)\">,</span> <span style=\"background-color: rgb(255,255,0,0.22581713274121284)\">cheap</span> <span style=\"background-color: rgb(255,255,0,0.712459534406662)\">and</span> <span style=\"background-color: rgb(255,255,0,0.1001138798892498)\">una</span> <span style=\"background-color: rgb(255,255,0,0.09447579272091389)\">##ss</span> <span style=\"background-color: rgb(255,255,0,0.3185955435037613)\">##uming</span> <span style=\"background-color: rgb(255,255,0,0.49270283430814743)\">way</span> <span style=\"background-color: rgb(255,255,0,0.017224260373041034)\">,</span> <span style=\"background-color: rgb(255,255,0,2.467423230409622)\">the</span> <span style=\"background-color: rgb(255,255,0,0.5391845852136612)\">movie</span> <span style=\"background-color: rgb(255,255,0,2.7400922775268555)\">works</span> <span style=\"background-color: rgb(255,255,0,0.013956548646092415)\">.</span> <span style=\"background-color: rgb(255,255,0,0.014424138935282826)\">[SEP]</span>"
      ],
      "text/plain": [
       "<IPython.core.display.HTML object>"
      ]
     },
     "metadata": {},
     "output_type": "display_data"
    },
    {
     "data": {
      "text/html": [
       "<span style=\"background-color: rgb(255,255,0,0.03128906711935997)\">[CLS]</span> <span style=\"background-color: rgb(255,255,0,0.08648470975458622)\">take</span> <span style=\"background-color: rgb(255,255,0,0.08551985956728458)\">care</span> <span style=\"background-color: rgb(255,255,0,0.12779959477484226)\">of</span> <span style=\"background-color: rgb(255,255,0,0.14996672049164772)\">my</span> <span style=\"background-color: rgb(255,255,0,0.13890204951167107)\">cat</span> <span style=\"background-color: rgb(255,255,0,1.1301250755786896)\">offers</span> <span style=\"background-color: rgb(255,255,0,2.0673535764217377)\">a</span> <span style=\"background-color: rgb(255,255,0,1.3746081292629242)\">refreshing</span> <span style=\"background-color: rgb(255,255,0,1.051771193742752)\">##ly</span> <span style=\"background-color: rgb(255,255,0,0.7725478708744049)\">different</span> <span style=\"background-color: rgb(255,255,0,0.9933032840490341)\">slice</span> <span style=\"background-color: rgb(255,255,0,0.8607712388038635)\">of</span> <span style=\"background-color: rgb(255,255,0,0.39964690804481506)\">asian</span> <span style=\"background-color: rgb(255,255,0,0.7125215232372284)\">cinema</span> <span style=\"background-color: rgb(255,255,0,0.008687259978614748)\">.</span> <span style=\"background-color: rgb(255,255,0,0.008701314218342304)\">[SEP]</span>"
      ],
      "text/plain": [
       "<IPython.core.display.HTML object>"
      ]
     },
     "metadata": {},
     "output_type": "display_data"
    },
    {
     "data": {
      "text/html": [
       "<span style=\"background-color: rgb(255,255,0,0.014192613307386637)\">[CLS]</span> <span style=\"background-color: rgb(255,255,0,0.002540366258472204)\">not</span> <span style=\"background-color: rgb(255,255,0,0.1324861589819193)\">for</span> <span style=\"background-color: rgb(255,255,0,0.03239640733227134)\">everyone</span> <span style=\"background-color: rgb(255,255,0,0.0029333424754440784)\">,</span> <span style=\"background-color: rgb(255,255,0,0.0065749132772907615)\">but</span> <span style=\"background-color: rgb(255,255,0,0.11061388067901134)\">for</span> <span style=\"background-color: rgb(255,255,0,0.06956131663173437)\">those</span> <span style=\"background-color: rgb(255,255,0,0.14297550544142723)\">with</span> <span style=\"background-color: rgb(255,255,0,0.059545100666582584)\">whom</span> <span style=\"background-color: rgb(255,255,0,2.1114064753055573)\">it</span> <span style=\"background-color: rgb(255,255,0,0.1086761150509119)\">will</span> <span style=\"background-color: rgb(255,255,0,0.23592259734869003)\">connect</span> <span style=\"background-color: rgb(255,255,0,0.4421112686395645)\">,</span> <span style=\"background-color: rgb(255,255,0,2.003033608198166)\">it</span> <span style=\"background-color: rgb(255,255,0,1.1894769966602325)\">'</span> <span style=\"background-color: rgb(255,255,0,1.0863465070724487)\">s</span> <span style=\"background-color: rgb(255,255,0,1.3032938539981842)\">a</span> <span style=\"background-color: rgb(255,255,0,0.5451381951570511)\">nice</span> <span style=\"background-color: rgb(255,255,0,0.028445234056562185)\">departure</span> <span style=\"background-color: rgb(255,255,0,0.015399405965581536)\">from</span> <span style=\"background-color: rgb(255,255,0,0.009082985925488174)\">standard</span> <span style=\"background-color: rgb(255,255,0,0.04269407596439123)\">movie</span> <span style=\"background-color: rgb(255,255,0,0.056106033734977245)\">##going</span> <span style=\"background-color: rgb(255,255,0,0.24296246469020844)\">fare</span> <span style=\"background-color: rgb(255,255,0,0.0030155532294884324)\">.</span> <span style=\"background-color: rgb(255,255,0,0.0030687180696986616)\">[SEP]</span>"
      ],
      "text/plain": [
       "<IPython.core.display.HTML object>"
      ]
     },
     "metadata": {},
     "output_type": "display_data"
    },
    {
     "data": {
      "text/html": [
       "<span style=\"background-color: rgb(255,255,0,0.06410447880625725)\">[CLS]</span> <span style=\"background-color: rgb(255,255,0,0.19839094951748848)\">katz</span> <span style=\"background-color: rgb(255,255,0,0.6161366030573845)\">uses</span> <span style=\"background-color: rgb(255,255,0,0.08587406948208809)\">archival</span> <span style=\"background-color: rgb(255,255,0,0.09361310862004757)\">footage</span> <span style=\"background-color: rgb(255,255,0,0.6999130547046661)\">,</span> <span style=\"background-color: rgb(255,255,0,0.09424006566405296)\">ho</span> <span style=\"background-color: rgb(255,255,0,0.01852591405622661)\">##rri</span> <span style=\"background-color: rgb(255,255,0,0.26737235486507416)\">##fying</span> <span style=\"background-color: rgb(255,255,0,0.034608172718435526)\">documents</span> <span style=\"background-color: rgb(255,255,0,0.03494384000077844)\">of</span> <span style=\"background-color: rgb(255,255,0,0.03999692853540182)\">lynch</span> <span style=\"background-color: rgb(255,255,0,0.02002743072807789)\">##ings</span> <span style=\"background-color: rgb(255,255,0,0.5034063756465912)\">,</span> <span style=\"background-color: rgb(255,255,0,0.041893310844898224)\">still</span> <span style=\"background-color: rgb(255,255,0,0.014680091990157962)\">photographs</span> <span style=\"background-color: rgb(255,255,0,0.3270513191819191)\">and</span> <span style=\"background-color: rgb(255,255,0,0.16733206808567047)\">charming</span> <span style=\"background-color: rgb(255,255,0,0.03156027290970087)\">old</span> <span style=\"background-color: rgb(255,255,0,0.018360614776611328)\">reel</span> <span style=\"background-color: rgb(255,255,0,0.04298889543861151)\">-</span> <span style=\"background-color: rgb(255,255,0,0.027951239608228207)\">to</span> <span style=\"background-color: rgb(255,255,0,0.02914846409112215)\">-</span> <span style=\"background-color: rgb(255,255,0,0.04023380111902952)\">reel</span> <span style=\"background-color: rgb(255,255,0,0.05668196827173233)\">recordings</span> <span style=\"background-color: rgb(255,255,0,0.07778585888445377)\">of</span> <span style=\"background-color: rgb(255,255,0,0.023612924851477146)\">me</span> <span style=\"background-color: rgb(255,255,0,0.017185729229822755)\">##ero</span> <span style=\"background-color: rgb(255,255,0,0.05933871027082205)\">##pol</span> <span style=\"background-color: rgb(255,255,0,0.0438808323815465)\">entertaining</span> <span style=\"background-color: rgb(255,255,0,0.13304656371474266)\">his</span> <span style=\"background-color: rgb(255,255,0,0.14614669606089592)\">children</span> <span style=\"background-color: rgb(255,255,0,0.47228727489709854)\">to</span> <span style=\"background-color: rgb(255,255,0,0.17654336988925934)\">create</span> <span style=\"background-color: rgb(255,255,0,0.3684007003903389)\">his</span> <span style=\"background-color: rgb(255,255,0,0.3499816358089447)\">song</span> <span style=\"background-color: rgb(255,255,0,0.07500792853534222)\">history</span> <span style=\"background-color: rgb(255,255,0,0.009875335963442922)\">,</span> <span style=\"background-color: rgb(255,255,0,0.0857833493500948)\">but</span> <span style=\"background-color: rgb(255,255,0,0.36066748201847076)\">most</span> <span style=\"background-color: rgb(255,255,0,0.6813839823007584)\">powerful</span> <span style=\"background-color: rgb(255,255,0,0.7343155145645142)\">of</span> <span style=\"background-color: rgb(255,255,0,0.5367141216993332)\">all</span> <span style=\"background-color: rgb(255,255,0,0.6784352660179138)\">is</span> <span style=\"background-color: rgb(255,255,0,0.6072153151035309)\">the</span> <span style=\"background-color: rgb(255,255,0,0.3092772886157036)\">song</span> <span style=\"background-color: rgb(255,255,0,0.4741385579109192)\">itself</span> <span style=\"background-color: rgb(255,255,0,0.009940116433426738)\">[SEP]</span>"
      ],
      "text/plain": [
       "<IPython.core.display.HTML object>"
      ]
     },
     "metadata": {},
     "output_type": "display_data"
    },
    {
     "data": {
      "text/html": [
       "<span style=\"background-color: rgb(255,255,0,0.10079190135002136)\">[CLS]</span> <span style=\"background-color: rgb(255,255,0,0.38611698895692825)\">newton</span> <span style=\"background-color: rgb(255,255,0,0.8006766438484192)\">draws</span> <span style=\"background-color: rgb(255,255,0,0.7192940264940262)\">our</span> <span style=\"background-color: rgb(255,255,0,0.8055641502141953)\">attention</span> <span style=\"background-color: rgb(255,255,0,1.0023445636034012)\">like</span> <span style=\"background-color: rgb(255,255,0,0.9648559987545013)\">a</span> <span style=\"background-color: rgb(255,255,0,0.2814333885908127)\">magnet</span> <span style=\"background-color: rgb(255,255,0,0.02334436634555459)\">,</span> <span style=\"background-color: rgb(255,255,0,1.0935099422931671)\">and</span> <span style=\"background-color: rgb(255,255,0,0.30065542086958885)\">acts</span> <span style=\"background-color: rgb(255,255,0,0.28081435710191727)\">circles</span> <span style=\"background-color: rgb(255,255,0,0.5003286153078079)\">around</span> <span style=\"background-color: rgb(255,255,0,0.3653332591056824)\">her</span> <span style=\"background-color: rgb(255,255,0,0.16444893553853035)\">better</span> <span style=\"background-color: rgb(255,255,0,0.17797527834773064)\">known</span> <span style=\"background-color: rgb(255,255,0,0.09572591632604599)\">co</span> <span style=\"background-color: rgb(255,255,0,0.06551383528858423)\">-</span> <span style=\"background-color: rgb(255,255,0,0.23486290127038956)\">star</span> <span style=\"background-color: rgb(255,255,0,0.6256934255361557)\">,</span> <span style=\"background-color: rgb(255,255,0,0.17188729718327522)\">mark</span> <span style=\"background-color: rgb(255,255,0,0.08904213085770607)\">wah</span> <span style=\"background-color: rgb(255,255,0,0.7015729695558548)\">##lberg</span> <span style=\"background-color: rgb(255,255,0,0.024194547440856695)\">.</span> <span style=\"background-color: rgb(255,255,0,0.024019484408199787)\">[SEP]</span>"
      ],
      "text/plain": [
       "<IPython.core.display.HTML object>"
      ]
     },
     "metadata": {},
     "output_type": "display_data"
    },
    {
     "data": {
      "text/html": [
       "<span style=\"background-color: rgb(255,255,0,0.09705538861453533)\">[CLS]</span> <span style=\"background-color: rgb(255,255,0,0.05217698868364096)\">behind</span> <span style=\"background-color: rgb(255,255,0,0.67403145134449)\">the</span> <span style=\"background-color: rgb(255,255,0,0.1465112529695034)\">snow</span> <span style=\"background-color: rgb(255,255,0,0.28410080820322037)\">games</span> <span style=\"background-color: rgb(255,255,0,0.10870210826396942)\">and</span> <span style=\"background-color: rgb(255,255,0,0.13065174221992493)\">lo</span> <span style=\"background-color: rgb(255,255,0,0.4354604706168175)\">##vable</span> <span style=\"background-color: rgb(255,255,0,0.15879083424806595)\">siberian</span> <span style=\"background-color: rgb(255,255,0,0.04409274086356163)\">huskies</span> <span style=\"background-color: rgb(255,255,0,0.028841299936175346)\">(</span> <span style=\"background-color: rgb(255,255,0,0.044276840053498745)\">plus</span> <span style=\"background-color: rgb(255,255,0,0.0725847901776433)\">one</span> <span style=\"background-color: rgb(255,255,0,0.04243470262736082)\">sheep</span> <span style=\"background-color: rgb(255,255,0,0.05198105238378048)\">dog</span> <span style=\"background-color: rgb(255,255,0,0.017675975104793906)\">)</span> <span style=\"background-color: rgb(255,255,0,0.017090620240196586)\">,</span> <span style=\"background-color: rgb(255,255,0,0.9811815619468689)\">the</span> <span style=\"background-color: rgb(255,255,0,0.45337602496147156)\">picture</span> <span style=\"background-color: rgb(255,255,0,0.9742638468742371)\">hosts</span> <span style=\"background-color: rgb(255,255,0,0.8168971538543701)\">a</span> <span style=\"background-color: rgb(255,255,0,0.05842868238687515)\">park</span> <span style=\"background-color: rgb(255,255,0,0.04897254053503275)\">##a</span> <span style=\"background-color: rgb(255,255,0,0.15059275552630424)\">-</span> <span style=\"background-color: rgb(255,255,0,0.1365855149924755)\">wrapped</span> <span style=\"background-color: rgb(255,255,0,0.12301075272262096)\">dose</span> <span style=\"background-color: rgb(255,255,0,0.7308931648731232)\">of</span> <span style=\"background-color: rgb(255,255,0,3.08260977268219)\">heart</span> <span style=\"background-color: rgb(255,255,0,0.01831357483752072)\">.</span> <span style=\"background-color: rgb(255,255,0,0.018415767699480057)\">[SEP]</span>"
      ],
      "text/plain": [
       "<IPython.core.display.HTML object>"
      ]
     },
     "metadata": {},
     "output_type": "display_data"
    },
    {
     "data": {
      "text/html": [
       "<span style=\"background-color: rgb(255,255,0,0.013643387937918305)\">[CLS]</span> <span style=\"background-color: rgb(255,255,0,1.0854995995759964)\">a</span> <span style=\"background-color: rgb(255,255,0,1.096101924777031)\">truly</span> <span style=\"background-color: rgb(255,255,0,1.4102905988693237)\">moving</span> <span style=\"background-color: rgb(255,255,0,1.0580573976039886)\">experience</span> <span style=\"background-color: rgb(255,255,0,0.017001823289319873)\">,</span> <span style=\"background-color: rgb(255,255,0,0.3348773717880249)\">and</span> <span style=\"background-color: rgb(255,255,0,0.7464739680290222)\">a</span> <span style=\"background-color: rgb(255,255,0,0.8007823675870895)\">perfect</span> <span style=\"background-color: rgb(255,255,0,0.4043322056531906)\">example</span> <span style=\"background-color: rgb(255,255,0,0.22893758490681648)\">of</span> <span style=\"background-color: rgb(255,255,0,0.18481912091374397)\">how</span> <span style=\"background-color: rgb(255,255,0,0.19807908684015274)\">art</span> <span style=\"background-color: rgb(255,255,0,0.0013544851390179247)\">-</span> <span style=\"background-color: rgb(255,255,0,0.0008849037112668157)\">-</span> <span style=\"background-color: rgb(255,255,0,0.005802384112030268)\">when</span> <span style=\"background-color: rgb(255,255,0,0.027968622744083405)\">done</span> <span style=\"background-color: rgb(255,255,0,0.04878647159785032)\">right</span> <span style=\"background-color: rgb(255,255,0,0.0012666761176660657)\">-</span> <span style=\"background-color: rgb(255,255,0,0.004740066651720554)\">-</span> <span style=\"background-color: rgb(255,255,0,0.28424279764294624)\">can</span> <span style=\"background-color: rgb(255,255,0,0.5065850168466568)\">help</span> <span style=\"background-color: rgb(255,255,0,0.872933641076088)\">heal</span> <span style=\"background-color: rgb(255,255,0,0.09446646086871624)\">,</span> <span style=\"background-color: rgb(255,255,0,0.18602445721626282)\">clarify</span> <span style=\"background-color: rgb(255,255,0,0.003004320606123656)\">,</span> <span style=\"background-color: rgb(255,255,0,0.059038628824055195)\">and</span> <span style=\"background-color: rgb(255,255,0,0.3176623210310936)\">comfort</span> <span style=\"background-color: rgb(255,255,0,0.003118420427199453)\">.</span> <span style=\"background-color: rgb(255,255,0,0.0032233051024377346)\">[SEP]</span>"
      ],
      "text/plain": [
       "<IPython.core.display.HTML object>"
      ]
     },
     "metadata": {},
     "output_type": "display_data"
    },
    {
     "data": {
      "text/html": [
       "<span style=\"background-color: rgb(255,255,0,0.06619514897465706)\">[CLS]</span> <span style=\"background-color: rgb(255,255,0,0.03932110033929348)\">son</span> <span style=\"background-color: rgb(255,255,0,0.0629119761288166)\">of</span> <span style=\"background-color: rgb(255,255,0,0.03491491777822375)\">the</span> <span style=\"background-color: rgb(255,255,0,0.04381389822810888)\">bride</span> <span style=\"background-color: rgb(255,255,0,0.014625742333009839)\">may</span> <span style=\"background-color: rgb(255,255,0,0.0047113586333580315)\">be</span> <span style=\"background-color: rgb(255,255,0,0.0038466101977974176)\">a</span> <span style=\"background-color: rgb(255,255,0,0.0015863706357777119)\">good</span> <span style=\"background-color: rgb(255,255,0,0.0010108103015227243)\">half</span> <span style=\"background-color: rgb(255,255,0,0.01345815951935947)\">-</span> <span style=\"background-color: rgb(255,255,0,0.0028986853430978954)\">hour</span> <span style=\"background-color: rgb(255,255,0,0.0010102854867000133)\">too</span> <span style=\"background-color: rgb(255,255,0,0.004512951418291777)\">long</span> <span style=\"background-color: rgb(255,255,0,0.04154182504862547)\">but</span> <span style=\"background-color: rgb(255,255,0,0.5585435777902603)\">comes</span> <span style=\"background-color: rgb(255,255,0,0.5304155126214027)\">rep</span> <span style=\"background-color: rgb(255,255,0,0.35095684230327606)\">##lete</span> <span style=\"background-color: rgb(255,255,0,0.832357257604599)\">with</span> <span style=\"background-color: rgb(255,255,0,1.369551420211792)\">a</span> <span style=\"background-color: rgb(255,255,0,0.8237609267234802)\">flat</span> <span style=\"background-color: rgb(255,255,0,0.8790265023708344)\">##tering</span> <span style=\"background-color: rgb(255,255,0,0.8429352194070816)\">sense</span> <span style=\"background-color: rgb(255,255,0,0.6151885539293289)\">of</span> <span style=\"background-color: rgb(255,255,0,0.6121283397078514)\">mystery</span> <span style=\"background-color: rgb(255,255,0,0.4225234314799309)\">and</span> <span style=\"background-color: rgb(255,255,0,0.8334953337907791)\">quiet</span> <span style=\"background-color: rgb(255,255,0,0.9540517628192902)\">##ness</span> <span style=\"background-color: rgb(255,255,0,0.019340679282322526)\">.</span> <span style=\"background-color: rgb(255,255,0,0.01936473767273128)\">[SEP]</span> <span><b>(pred - positive, true - negative)</b></span>"
      ],
      "text/plain": [
       "<IPython.core.display.HTML object>"
      ]
     },
     "metadata": {},
     "output_type": "display_data"
    },
    {
     "data": {
      "text/html": [
       "<span style=\"background-color: rgb(255,255,0,0.026978638488799334)\">[CLS]</span> <span style=\"background-color: rgb(255,255,0,0.25617580860853195)\">what</span> <span style=\"background-color: rgb(255,255,0,0.22146474570035934)\">really</span> <span style=\"background-color: rgb(255,255,0,0.12586492113769054)\">surprises</span> <span style=\"background-color: rgb(255,255,0,1.033797636628151)\">about</span> <span style=\"background-color: rgb(255,255,0,0.05413006991147995)\">wise</span> <span style=\"background-color: rgb(255,255,0,0.03913721535354853)\">##girl</span> <span style=\"background-color: rgb(255,255,0,0.12742403894662857)\">##s</span> <span style=\"background-color: rgb(255,255,0,1.3146740198135376)\">is</span> <span style=\"background-color: rgb(255,255,0,1.5556401014328003)\">its</span> <span style=\"background-color: rgb(255,255,0,0.02942026825621724)\">low</span> <span style=\"background-color: rgb(255,255,0,0.34926585853099823)\">-</span> <span style=\"background-color: rgb(255,255,0,0.24120168760418892)\">key</span> <span style=\"background-color: rgb(255,255,0,1.0215586423873901)\">quality</span> <span style=\"background-color: rgb(255,255,0,1.0260269790887833)\">and</span> <span style=\"background-color: rgb(255,255,0,1.401769369840622)\">genuine</span> <span style=\"background-color: rgb(255,255,0,1.1650783568620682)\">tenderness</span> <span style=\"background-color: rgb(255,255,0,0.005174916586838663)\">.</span> <span style=\"background-color: rgb(255,255,0,0.00521626730915159)\">[SEP]</span>"
      ],
      "text/plain": [
       "<IPython.core.display.HTML object>"
      ]
     },
     "metadata": {},
     "output_type": "display_data"
    },
    {
     "data": {
      "text/html": [
       "<span style=\"background-color: rgb(255,255,0,0.07144423201680183)\">[CLS]</span> <span style=\"background-color: rgb(255,255,0,2.5834178924560547)\">a</span> <span style=\"background-color: rgb(255,255,0,3.0066120624542236)\">masterpiece</span> <span style=\"background-color: rgb(255,255,0,0.2646629139780998)\">four</span> <span style=\"background-color: rgb(255,255,0,0.31740564852952957)\">years</span> <span style=\"background-color: rgb(255,255,0,0.10420605540275574)\">in</span> <span style=\"background-color: rgb(255,255,0,0.6918765604496002)\">the</span> <span style=\"background-color: rgb(255,255,0,1.2830676138401031)\">making</span> <span style=\"background-color: rgb(255,255,0,1.6675308346748352)\">.</span> <span style=\"background-color: rgb(255,255,0,0.009776485385373235)\">[SEP]</span>"
      ],
      "text/plain": [
       "<IPython.core.display.HTML object>"
      ]
     },
     "metadata": {},
     "output_type": "display_data"
    },
    {
     "data": {
      "text/html": [
       "<span style=\"background-color: rgb(255,255,0,0.0934306439012289)\">[CLS]</span> <span style=\"background-color: rgb(255,255,0,0.2841944061219692)\">steve</span> <span style=\"background-color: rgb(255,255,0,0.6342881172895432)\">irwin</span> <span style=\"background-color: rgb(255,255,0,0.6891230493783951)\">'</span> <span style=\"background-color: rgb(255,255,0,0.8028247207403183)\">s</span> <span style=\"background-color: rgb(255,255,0,1.8736214935779572)\">method</span> <span style=\"background-color: rgb(255,255,0,0.9715009480714798)\">is</span> <span style=\"background-color: rgb(255,255,0,0.9661253541707993)\">ernest</span> <span style=\"background-color: rgb(255,255,0,0.04537834785878658)\">hem</span> <span style=\"background-color: rgb(255,255,0,0.09538660757243633)\">##ming</span> <span style=\"background-color: rgb(255,255,0,0.22559188306331635)\">##way</span> <span style=\"background-color: rgb(255,255,0,0.8552717417478561)\">at</span> <span style=\"background-color: rgb(255,255,0,0.6435338407754898)\">accelerated</span> <span style=\"background-color: rgb(255,255,0,0.9311991184949875)\">speed</span> <span style=\"background-color: rgb(255,255,0,0.554000698029995)\">and</span> <span style=\"background-color: rgb(255,255,0,0.2998744696378708)\">volume</span> <span style=\"background-color: rgb(255,255,0,0.017136497190222144)\">.</span> <span style=\"background-color: rgb(255,255,0,0.0175179832149297)\">[SEP]</span>"
      ],
      "text/plain": [
       "<IPython.core.display.HTML object>"
      ]
     },
     "metadata": {},
     "output_type": "display_data"
    },
    {
     "data": {
      "text/html": [
       "<span style=\"background-color: rgb(255,255,0,0.04160494543612003)\">[CLS]</span> <span style=\"background-color: rgb(255,255,0,0.027021481655538082)\">while</span> <span style=\"background-color: rgb(255,255,0,0.1774929091334343)\">the</span> <span style=\"background-color: rgb(255,255,0,0.06796164438128471)\">isle</span> <span style=\"background-color: rgb(255,255,0,0.008543119765818119)\">is</span> <span style=\"background-color: rgb(255,255,0,0.005904581630602479)\">both</span> <span style=\"background-color: rgb(255,255,0,0.0003967607335653156)\">prep</span> <span style=\"background-color: rgb(255,255,0,0.00030738283385289833)\">##ost</span> <span style=\"background-color: rgb(255,255,0,0.0002777239751594607)\">##ero</span> <span style=\"background-color: rgb(255,255,0,0.0006117924931459129)\">##us</span> <span style=\"background-color: rgb(255,255,0,0.0025593029567971826)\">and</span> <span style=\"background-color: rgb(255,255,0,0.0019207999866921455)\">thoroughly</span> <span style=\"background-color: rgb(255,255,0,0.00035496617783792317)\">mis</span> <span style=\"background-color: rgb(255,255,0,0.0035202247090637684)\">##ogy</span> <span style=\"background-color: rgb(255,255,0,0.0006422465958166867)\">##nist</span> <span style=\"background-color: rgb(255,255,0,0.000472195097245276)\">##ic</span> <span style=\"background-color: rgb(255,255,0,0.37803955376148224)\">,</span> <span style=\"background-color: rgb(255,255,0,0.6989803910255432)\">its</span> <span style=\"background-color: rgb(255,255,0,0.8609907329082489)\">vista</span> <span style=\"background-color: rgb(255,255,0,0.6278041750192642)\">##s</span> <span style=\"background-color: rgb(255,255,0,1.5284007787704468)\">are</span> <span style=\"background-color: rgb(255,255,0,1.493208408355713)\">incredibly</span> <span style=\"background-color: rgb(255,255,0,2.5088095664978027)\">beautiful</span> <span style=\"background-color: rgb(255,255,0,0.19882285967469215)\">to</span> <span style=\"background-color: rgb(255,255,0,0.470643974840641)\">look</span> <span style=\"background-color: rgb(255,255,0,0.8749514818191528)\">at</span> <span style=\"background-color: rgb(255,255,0,0.00984666752628982)\">.</span> <span style=\"background-color: rgb(255,255,0,0.009909284999594092)\">[SEP]</span>"
      ],
      "text/plain": [
       "<IPython.core.display.HTML object>"
      ]
     },
     "metadata": {},
     "output_type": "display_data"
    },
    {
     "data": {
      "text/html": [
       "<span style=\"background-color: rgb(255,255,0,0.25553883984684944)\">[CLS]</span> <span style=\"background-color: rgb(255,255,0,1.2315236777067184)\">a</span> <span style=\"background-color: rgb(255,255,0,0.5889811739325523)\">romantic</span> <span style=\"background-color: rgb(255,255,0,0.7716727256774902)\">comedy</span> <span style=\"background-color: rgb(255,255,0,2.21550852060318)\">that</span> <span style=\"background-color: rgb(255,255,0,0.4297497868537903)\">operates</span> <span style=\"background-color: rgb(255,255,0,0.5470256879925728)\">by</span> <span style=\"background-color: rgb(255,255,0,0.05147365853190422)\">the</span> <span style=\"background-color: rgb(255,255,0,0.8511587232351303)\">rules</span> <span style=\"background-color: rgb(255,255,0,0.3534163534641266)\">of</span> <span style=\"background-color: rgb(255,255,0,0.8236344158649445)\">its</span> <span style=\"background-color: rgb(255,255,0,0.37165481597185135)\">own</span> <span style=\"background-color: rgb(255,255,0,0.278815645724535)\">self</span> <span style=\"background-color: rgb(255,255,0,0.42623087763786316)\">-</span> <span style=\"background-color: rgb(255,255,0,0.2209777757525444)\">contained</span> <span style=\"background-color: rgb(255,255,0,0.4797881469130516)\">universe</span> <span style=\"background-color: rgb(255,255,0,0.05113853141665459)\">.</span> <span style=\"background-color: rgb(255,255,0,0.051710749976336956)\">[SEP]</span>"
      ],
      "text/plain": [
       "<IPython.core.display.HTML object>"
      ]
     },
     "metadata": {},
     "output_type": "display_data"
    },
    {
     "data": {
      "text/html": [
       "<span style=\"background-color: rgb(255,255,0,0.048300293274223804)\">[CLS]</span> <span style=\"background-color: rgb(255,255,0,0.31656865030527115)\">at</span> <span style=\"background-color: rgb(255,255,0,0.14700908213853836)\">about</span> <span style=\"background-color: rgb(255,255,0,0.12809483334422112)\">95</span> <span style=\"background-color: rgb(255,255,0,0.754726231098175)\">minutes</span> <span style=\"background-color: rgb(255,255,0,0.011111043859273195)\">,</span> <span style=\"background-color: rgb(255,255,0,1.0334686189889908)\">treasure</span> <span style=\"background-color: rgb(255,255,0,0.19846051931381226)\">planet</span> <span style=\"background-color: rgb(255,255,0,0.2710198238492012)\">maintains</span> <span style=\"background-color: rgb(255,255,0,1.496143639087677)\">a</span> <span style=\"background-color: rgb(255,255,0,1.0587215423583984)\">brisk</span> <span style=\"background-color: rgb(255,255,0,1.3896851241588593)\">pace</span> <span style=\"background-color: rgb(255,255,0,0.482650026679039)\">as</span> <span style=\"background-color: rgb(255,255,0,0.513557456433773)\">it</span> <span style=\"background-color: rgb(255,255,0,0.24149954319000244)\">races</span> <span style=\"background-color: rgb(255,255,0,0.35598766058683395)\">through</span> <span style=\"background-color: rgb(255,255,0,0.5930732563138008)\">the</span> <span style=\"background-color: rgb(255,255,0,0.2661849744617939)\">familiar</span> <span style=\"background-color: rgb(255,255,0,0.6711804866790771)\">story</span> <span style=\"background-color: rgb(255,255,0,0.011233298573642969)\">.</span> <span style=\"background-color: rgb(255,255,0,0.011324253864586353)\">[SEP]</span>"
      ],
      "text/plain": [
       "<IPython.core.display.HTML object>"
      ]
     },
     "metadata": {},
     "output_type": "display_data"
    },
    {
     "data": {
      "text/html": [
       "<span style=\"background-color: rgb(255,255,0,0.5108390375971794)\">[CLS]</span> <span style=\"background-color: rgb(255,255,0,0.753239169716835)\">but</span> <span style=\"background-color: rgb(255,255,0,0.592060349881649)\">in</span> <span style=\"background-color: rgb(255,255,0,0.2994196116924286)\">im</span> <span style=\"background-color: rgb(255,255,0,0.34160956740379333)\">##ax</span> <span style=\"background-color: rgb(255,255,0,0.11152145452797413)\">3</span> <span style=\"background-color: rgb(255,255,0,0.13867557980120182)\">-</span> <span style=\"background-color: rgb(255,255,0,0.22822631523013115)\">d</span> <span style=\"background-color: rgb(255,255,0,0.03522867802530527)\">,</span> <span style=\"background-color: rgb(255,255,0,1.8164485692977905)\">the</span> <span style=\"background-color: rgb(255,255,0,0.269718524068594)\">cl</span> <span style=\"background-color: rgb(255,255,0,0.37177007645368576)\">##iche</span> <span style=\"background-color: rgb(255,255,0,1.0906632244586945)\">##s</span> <span style=\"background-color: rgb(255,255,0,0.6945466250181198)\">disappear</span> <span style=\"background-color: rgb(255,255,0,0.3141520544886589)\">into</span> <span style=\"background-color: rgb(255,255,0,0.8273937553167343)\">the</span> <span style=\"background-color: rgb(255,255,0,0.21795451641082764)\">ve</span> <span style=\"background-color: rgb(255,255,0,0.022443807683885098)\">##rti</span> <span style=\"background-color: rgb(255,255,0,0.27533071115612984)\">##gin</span> <span style=\"background-color: rgb(255,255,0,0.2768818475306034)\">##ous</span> <span style=\"background-color: rgb(255,255,0,0.058155530132353306)\">perspectives</span> <span style=\"background-color: rgb(255,255,0,0.024117333814501762)\">opened</span> <span style=\"background-color: rgb(255,255,0,0.1403561607003212)\">up</span> <span style=\"background-color: rgb(255,255,0,0.16782760620117188)\">by</span> <span style=\"background-color: rgb(255,255,0,0.3178354352712631)\">the</span> <span style=\"background-color: rgb(255,255,0,0.037128389813005924)\">photography</span> <span style=\"background-color: rgb(255,255,0,0.032952826004475355)\">.</span> <span style=\"background-color: rgb(255,255,0,0.03350308397784829)\">[SEP]</span> <span><b>(pred - negative, true - positive)</b></span>"
      ],
      "text/plain": [
       "<IPython.core.display.HTML object>"
      ]
     },
     "metadata": {},
     "output_type": "display_data"
    },
    {
     "data": {
      "text/html": [
       "<span style=\"background-color: rgb(255,255,0,0.3040461055934429)\">[CLS]</span> <span style=\"background-color: rgb(255,255,0,0.1730775460600853)\">if</span> <span style=\"background-color: rgb(255,255,0,0.15578804537653923)\">there</span> <span style=\"background-color: rgb(255,255,0,0.1098377350717783)\">'</span> <span style=\"background-color: rgb(255,255,0,0.17495088279247284)\">s</span> <span style=\"background-color: rgb(255,255,0,0.40624141693115234)\">a</span> <span style=\"background-color: rgb(255,255,0,0.24675404652953148)\">way</span> <span style=\"background-color: rgb(255,255,0,0.5345316231250763)\">to</span> <span style=\"background-color: rgb(255,255,0,0.09885415434837341)\">effectively</span> <span style=\"background-color: rgb(255,255,0,0.025798329152166843)\">teach</span> <span style=\"background-color: rgb(255,255,0,0.046586054377257824)\">kids</span> <span style=\"background-color: rgb(255,255,0,0.18904075026512146)\">about</span> <span style=\"background-color: rgb(255,255,0,0.8480751514434814)\">the</span> <span style=\"background-color: rgb(255,255,0,0.25669194757938385)\">dangers</span> <span style=\"background-color: rgb(255,255,0,0.6570374220609665)\">of</span> <span style=\"background-color: rgb(255,255,0,0.4381977394223213)\">drugs</span> <span style=\"background-color: rgb(255,255,0,0.017886764835566282)\">,</span> <span style=\"background-color: rgb(255,255,0,0.9563547372817993)\">i</span> <span style=\"background-color: rgb(255,255,0,0.5086881294846535)\">think</span> <span style=\"background-color: rgb(255,255,0,0.39169978350400925)\">it</span> <span style=\"background-color: rgb(255,255,0,0.3569617122411728)\">'</span> <span style=\"background-color: rgb(255,255,0,0.28853198513388634)\">s</span> <span style=\"background-color: rgb(255,255,0,0.4206324368715286)\">in</span> <span style=\"background-color: rgb(255,255,0,0.07431848905980587)\">projects</span> <span style=\"background-color: rgb(255,255,0,0.32887842506170273)\">like</span> <span style=\"background-color: rgb(255,255,0,0.36550384014844894)\">the</span> <span style=\"background-color: rgb(255,255,0,0.32606590539216995)\">(</span> <span style=\"background-color: rgb(255,255,0,0.35273682326078415)\">unfortunately</span> <span style=\"background-color: rgb(255,255,0,0.21235767751932144)\">r</span> <span style=\"background-color: rgb(255,255,0,0.20754031836986542)\">-</span> <span style=\"background-color: rgb(255,255,0,0.12921123765408993)\">rated</span> <span style=\"background-color: rgb(255,255,0,0.16999755054712296)\">)</span> <span style=\"background-color: rgb(255,255,0,0.19111556932330132)\">paid</span> <span style=\"background-color: rgb(255,255,0,0.017706501530483365)\">.</span> <span style=\"background-color: rgb(255,255,0,0.018303465330973268)\">[SEP]</span> <span><b>(pred - negative, true - positive)</b></span>"
      ],
      "text/plain": [
       "<IPython.core.display.HTML object>"
      ]
     },
     "metadata": {},
     "output_type": "display_data"
    },
    {
     "data": {
      "text/html": [
       "<span style=\"background-color: rgb(255,255,0,0.031102988868951797)\">[CLS]</span> <span style=\"background-color: rgb(255,255,0,0.30552247539162636)\">director</span> <span style=\"background-color: rgb(255,255,0,0.044072214514017105)\">ka</span> <span style=\"background-color: rgb(255,255,0,0.1238502748310566)\">##pur</span> <span style=\"background-color: rgb(255,255,0,0.535430945456028)\">is</span> <span style=\"background-color: rgb(255,255,0,0.6277408450841904)\">a</span> <span style=\"background-color: rgb(255,255,0,0.6360305845737457)\">filmmaker</span> <span style=\"background-color: rgb(255,255,0,0.36960408091545105)\">with</span> <span style=\"background-color: rgb(255,255,0,0.5664301291108131)\">a</span> <span style=\"background-color: rgb(255,255,0,0.5746056139469147)\">real</span> <span style=\"background-color: rgb(255,255,0,0.1633136160671711)\">flair</span> <span style=\"background-color: rgb(255,255,0,0.32399732619524)\">for</span> <span style=\"background-color: rgb(255,255,0,0.2553211338818073)\">epic</span> <span style=\"background-color: rgb(255,255,0,0.28984062373638153)\">landscapes</span> <span style=\"background-color: rgb(255,255,0,0.18006306141614914)\">and</span> <span style=\"background-color: rgb(255,255,0,0.23720977827906609)\">adventure</span> <span style=\"background-color: rgb(255,255,0,0.005730180419050157)\">,</span> <span style=\"background-color: rgb(255,255,0,0.40811430662870407)\">and</span> <span style=\"background-color: rgb(255,255,0,0.38013696670532227)\">this</span> <span style=\"background-color: rgb(255,255,0,0.9551355242729187)\">is</span> <span style=\"background-color: rgb(255,255,0,0.7874932885169983)\">a</span> <span style=\"background-color: rgb(255,255,0,0.5794776231050491)\">better</span> <span style=\"background-color: rgb(255,255,0,1.2232927978038788)\">film</span> <span style=\"background-color: rgb(255,255,0,0.03753307741135359)\">than</span> <span style=\"background-color: rgb(255,255,0,0.058070337399840355)\">his</span> <span style=\"background-color: rgb(255,255,0,0.00940284167882055)\">earlier</span> <span style=\"background-color: rgb(255,255,0,0.010607211152091622)\">english</span> <span style=\"background-color: rgb(255,255,0,0.010352161480113864)\">-</span> <span style=\"background-color: rgb(255,255,0,0.016460008919239044)\">language</span> <span style=\"background-color: rgb(255,255,0,0.07637424860149622)\">movie</span> <span style=\"background-color: rgb(255,255,0,0.04442896228283644)\">,</span> <span style=\"background-color: rgb(255,255,0,0.036195267457515)\">the</span> <span style=\"background-color: rgb(255,255,0,0.00661034369841218)\">over</span> <span style=\"background-color: rgb(255,255,0,0.007398168672807515)\">##pr</span> <span style=\"background-color: rgb(255,255,0,0.04477507434785366)\">##ais</span> <span style=\"background-color: rgb(255,255,0,0.012061225716024637)\">##ed</span> <span style=\"background-color: rgb(255,255,0,0.014394231839105487)\">elizabeth</span> <span style=\"background-color: rgb(255,255,0,0.005886797443963587)\">.</span> <span style=\"background-color: rgb(255,255,0,0.005933050415478647)\">[SEP]</span>"
      ],
      "text/plain": [
       "<IPython.core.display.HTML object>"
      ]
     },
     "metadata": {},
     "output_type": "display_data"
    },
    {
     "data": {
      "text/html": [
       "<span style=\"background-color: rgb(255,255,0,0.06545127369463444)\">[CLS]</span> <span style=\"background-color: rgb(255,255,0,0.6028405204415321)\">the</span> <span style=\"background-color: rgb(255,255,0,0.44903844594955444)\">values</span> <span style=\"background-color: rgb(255,255,0,0.20950593054294586)\">that</span> <span style=\"background-color: rgb(255,255,0,0.1878095604479313)\">have</span> <span style=\"background-color: rgb(255,255,0,0.4662024602293968)\">held</span> <span style=\"background-color: rgb(255,255,0,0.5456648394465446)\">the</span> <span style=\"background-color: rgb(255,255,0,0.07170600816607475)\">enterprise</span> <span style=\"background-color: rgb(255,255,0,0.07683521136641502)\">crew</span> <span style=\"background-color: rgb(255,255,0,0.3777509182691574)\">together</span> <span style=\"background-color: rgb(255,255,0,0.09351742453873158)\">through</span> <span style=\"background-color: rgb(255,255,0,0.1033654436469078)\">previous</span> <span style=\"background-color: rgb(255,255,0,0.04843825474381447)\">adventures</span> <span style=\"background-color: rgb(255,255,0,0.06346459966152906)\">and</span> <span style=\"background-color: rgb(255,255,0,0.008545374730601907)\">per</span> <span style=\"background-color: rgb(255,255,0,0.055617932230234146)\">##ils</span> <span style=\"background-color: rgb(255,255,0,0.20336424931883812)\">do</span> <span style=\"background-color: rgb(255,255,0,0.18806252628564835)\">so</span> <span style=\"background-color: rgb(255,255,0,0.26376940310001373)\">again</span> <span style=\"background-color: rgb(255,255,0,0.14457237906754017)\">-</span> <span style=\"background-color: rgb(255,255,0,2.551598846912384)\">courage</span> <span style=\"background-color: rgb(255,255,0,0.33959411084651947)\">,</span> <span style=\"background-color: rgb(255,255,0,0.51903136074543)\">self</span> <span style=\"background-color: rgb(255,255,0,0.14326667413115501)\">-</span> <span style=\"background-color: rgb(255,255,0,0.48385508358478546)\">sacrifice</span> <span style=\"background-color: rgb(255,255,0,0.428411103785038)\">and</span> <span style=\"background-color: rgb(255,255,0,1.0842040181159973)\">patience</span> <span style=\"background-color: rgb(255,255,0,0.08532223291695118)\">under</span> <span style=\"background-color: rgb(255,255,0,0.12586266733705997)\">pressure</span> <span style=\"background-color: rgb(255,255,0,0.00667182554025203)\">.</span> <span style=\"background-color: rgb(255,255,0,0.0066593370866030455)\">[SEP]</span>"
      ],
      "text/plain": [
       "<IPython.core.display.HTML object>"
      ]
     },
     "metadata": {},
     "output_type": "display_data"
    },
    {
     "data": {
      "text/html": [
       "<span style=\"background-color: rgb(255,255,0,0.048067839816212654)\">[CLS]</span> <span style=\"background-color: rgb(255,255,0,0.21193299442529678)\">scores</span> <span style=\"background-color: rgb(255,255,0,0.09255915880203247)\">a</span> <span style=\"background-color: rgb(255,255,0,0.01276415423490107)\">few</span> <span style=\"background-color: rgb(255,255,0,0.15735028311610222)\">points</span> <span style=\"background-color: rgb(255,255,0,1.002502515912056)\">for</span> <span style=\"background-color: rgb(255,255,0,0.6445732712745667)\">doing</span> <span style=\"background-color: rgb(255,255,0,0.1951161026954651)\">what</span> <span style=\"background-color: rgb(255,255,0,0.5124872550368309)\">it</span> <span style=\"background-color: rgb(255,255,0,0.17589785158634186)\">does</span> <span style=\"background-color: rgb(255,255,0,0.4819633439183235)\">with</span> <span style=\"background-color: rgb(255,255,0,0.8885195106267929)\">a</span> <span style=\"background-color: rgb(255,255,0,1.1469349265098572)\">dedicated</span> <span style=\"background-color: rgb(255,255,0,1.2722021341323853)\">and</span> <span style=\"background-color: rgb(255,255,0,0.8520708233118057)\">good</span> <span style=\"background-color: rgb(255,255,0,0.46140220016241074)\">-</span> <span style=\"background-color: rgb(255,255,0,0.9717518091201782)\">hearted</span> <span style=\"background-color: rgb(255,255,0,0.24572135880589485)\">professional</span> <span style=\"background-color: rgb(255,255,0,0.6103096157312393)\">##ism</span> <span style=\"background-color: rgb(255,255,0,0.007882113568484783)\">.</span> <span style=\"background-color: rgb(255,255,0,0.007991078309714794)\">[SEP]</span>"
      ],
      "text/plain": [
       "<IPython.core.display.HTML object>"
      ]
     },
     "metadata": {},
     "output_type": "display_data"
    },
    {
     "data": {
      "text/html": [
       "<span style=\"background-color: rgb(255,255,0,0.21181276068091393)\">[CLS]</span> <span style=\"background-color: rgb(255,255,0,0.4557337611913681)\">some</span> <span style=\"background-color: rgb(255,255,0,0.5400879308581352)\">actors</span> <span style=\"background-color: rgb(255,255,0,0.9975475072860718)\">have</span> <span style=\"background-color: rgb(255,255,0,0.8447936177253723)\">so</span> <span style=\"background-color: rgb(255,255,0,1.8922579288482666)\">much</span> <span style=\"background-color: rgb(255,255,0,0.7595738768577576)\">char</span> <span style=\"background-color: rgb(255,255,0,0.7608949393033981)\">##ism</span> <span style=\"background-color: rgb(255,255,0,0.8647208660840988)\">##a</span> <span style=\"background-color: rgb(255,255,0,0.3892882168292999)\">that</span> <span style=\"background-color: rgb(255,255,0,0.2525816299021244)\">you</span> <span style=\"background-color: rgb(255,255,0,0.05058675538748503)\">'</span> <span style=\"background-color: rgb(255,255,0,0.11500699445605278)\">d</span> <span style=\"background-color: rgb(255,255,0,0.13389942236244678)\">be</span> <span style=\"background-color: rgb(255,255,0,0.14316069893538952)\">happy</span> <span style=\"background-color: rgb(255,255,0,0.12838703580200672)\">to</span> <span style=\"background-color: rgb(255,255,0,0.15352102927863598)\">listen</span> <span style=\"background-color: rgb(255,255,0,0.35127121955156326)\">to</span> <span style=\"background-color: rgb(255,255,0,0.1170978881418705)\">them</span> <span style=\"background-color: rgb(255,255,0,0.22125953808426857)\">reading</span> <span style=\"background-color: rgb(255,255,0,0.08868440985679626)\">the</span> <span style=\"background-color: rgb(255,255,0,0.3203136846423149)\">phone</span> <span style=\"background-color: rgb(255,255,0,0.10573547333478928)\">book</span> <span style=\"background-color: rgb(255,255,0,0.050723375752568245)\">.</span> <span style=\"background-color: rgb(255,255,0,0.05106015130877495)\">[SEP]</span>"
      ],
      "text/plain": [
       "<IPython.core.display.HTML object>"
      ]
     },
     "metadata": {},
     "output_type": "display_data"
    },
    {
     "data": {
      "text/html": [
       "<span style=\"background-color: rgb(255,255,0,0.06651347503066063)\">[CLS]</span> <span style=\"background-color: rgb(255,255,0,1.269736886024475)\">offers</span> <span style=\"background-color: rgb(255,255,0,1.6898570954799652)\">a</span> <span style=\"background-color: rgb(255,255,0,0.856863334774971)\">breath</span> <span style=\"background-color: rgb(255,255,0,0.7379313558340073)\">of</span> <span style=\"background-color: rgb(255,255,0,0.866289958357811)\">the</span> <span style=\"background-color: rgb(255,255,0,1.174994483590126)\">fresh</span> <span style=\"background-color: rgb(255,255,0,0.3698064014315605)\">air</span> <span style=\"background-color: rgb(255,255,0,0.3691791743040085)\">of</span> <span style=\"background-color: rgb(255,255,0,1.102464720606804)\">true</span> <span style=\"background-color: rgb(255,255,0,0.17315316945314407)\">so</span> <span style=\"background-color: rgb(255,255,0,0.47019127756357193)\">##phi</span> <span style=\"background-color: rgb(255,255,0,0.11631148867309093)\">##stic</span> <span style=\"background-color: rgb(255,255,0,0.6994768977165222)\">##ation</span> <span style=\"background-color: rgb(255,255,0,0.018480445723980665)\">.</span> <span style=\"background-color: rgb(255,255,0,0.018750090384855866)\">[SEP]</span>"
      ],
      "text/plain": [
       "<IPython.core.display.HTML object>"
      ]
     },
     "metadata": {},
     "output_type": "display_data"
    },
    {
     "data": {
      "text/html": [
       "<span style=\"background-color: rgb(255,255,0,0.13529579155147076)\">[CLS]</span> <span style=\"background-color: rgb(255,255,0,0.14922866597771645)\">(</span> <span style=\"background-color: rgb(255,255,0,0.10405083186924458)\">wen</span> <span style=\"background-color: rgb(255,255,0,0.17884237691760063)\">##di</span> <span style=\"background-color: rgb(255,255,0,0.1037890836596489)\">##go</span> <span style=\"background-color: rgb(255,255,0,0.7719501107931137)\">is</span> <span style=\"background-color: rgb(255,255,0,0.12064591981470585)\">)</span> <span style=\"background-color: rgb(255,255,0,0.4544058069586754)\">why</span> <span style=\"background-color: rgb(255,255,0,0.634830892086029)\">we</span> <span style=\"background-color: rgb(255,255,0,0.30757222324609756)\">go</span> <span style=\"background-color: rgb(255,255,0,0.5583705380558968)\">to</span> <span style=\"background-color: rgb(255,255,0,0.7949294149875641)\">the</span> <span style=\"background-color: rgb(255,255,0,0.3781922161579132)\">cinema</span> <span style=\"background-color: rgb(255,255,0,0.42239852249622345)\">:</span> <span style=\"background-color: rgb(255,255,0,0.9598328918218613)\">to</span> <span style=\"background-color: rgb(255,255,0,0.5671810731291771)\">be</span> <span style=\"background-color: rgb(255,255,0,0.4669375717639923)\">fed</span> <span style=\"background-color: rgb(255,255,0,0.12921535409986973)\">through</span> <span style=\"background-color: rgb(255,255,0,0.3092910721898079)\">the</span> <span style=\"background-color: rgb(255,255,0,0.1631891168653965)\">eye</span> <span style=\"background-color: rgb(255,255,0,0.31858883798122406)\">,</span> <span style=\"background-color: rgb(255,255,0,0.2792719751596451)\">the</span> <span style=\"background-color: rgb(255,255,0,0.7309967279434204)\">heart</span> <span style=\"background-color: rgb(255,255,0,0.2811085619032383)\">,</span> <span style=\"background-color: rgb(255,255,0,0.3049926459789276)\">the</span> <span style=\"background-color: rgb(255,255,0,0.3354524075984955)\">mind</span> <span style=\"background-color: rgb(255,255,0,0.019618961960077286)\">.</span> <span style=\"background-color: rgb(255,255,0,0.01982063055038452)\">[SEP]</span>"
      ],
      "text/plain": [
       "<IPython.core.display.HTML object>"
      ]
     },
     "metadata": {},
     "output_type": "display_data"
    },
    {
     "data": {
      "text/html": [
       "<span style=\"background-color: rgb(255,255,0,0.06930200848728418)\">[CLS]</span> <span style=\"background-color: rgb(255,255,0,1.708914339542389)\">this</span> <span style=\"background-color: rgb(255,255,0,2.7828359603881836)\">is</span> <span style=\"background-color: rgb(255,255,0,1.4226014912128448)\">the</span> <span style=\"background-color: rgb(255,255,0,2.5061172246932983)\">best</span> <span style=\"background-color: rgb(255,255,0,0.028946201782673597)\">american</span> <span style=\"background-color: rgb(255,255,0,0.5130007490515709)\">movie</span> <span style=\"background-color: rgb(255,255,0,0.5159743502736092)\">about</span> <span style=\"background-color: rgb(255,255,0,0.0838231761008501)\">troubled</span> <span style=\"background-color: rgb(255,255,0,0.08686542510986328)\">teens</span> <span style=\"background-color: rgb(255,255,0,0.06451787892729044)\">since</span> <span style=\"background-color: rgb(255,255,0,0.056193964555859566)\">1998</span> <span style=\"background-color: rgb(255,255,0,0.07402808405458927)\">'</span> <span style=\"background-color: rgb(255,255,0,0.05850078072398901)\">s</span> <span style=\"background-color: rgb(255,255,0,0.013208873569965363)\">whatever</span> <span style=\"background-color: rgb(255,255,0,0.007551712333224714)\">.</span> <span style=\"background-color: rgb(255,255,0,0.007618014351464808)\">[SEP]</span>"
      ],
      "text/plain": [
       "<IPython.core.display.HTML object>"
      ]
     },
     "metadata": {},
     "output_type": "display_data"
    },
    {
     "data": {
      "text/html": [
       "<span style=\"background-color: rgb(255,255,0,0.05621655844151974)\">[CLS]</span> <span style=\"background-color: rgb(255,255,0,2.0575231313705444)\">one</span> <span style=\"background-color: rgb(255,255,0,1.6667939722537994)\">of</span> <span style=\"background-color: rgb(255,255,0,1.1042295396327972)\">the</span> <span style=\"background-color: rgb(255,255,0,2.4278344213962555)\">greatest</span> <span style=\"background-color: rgb(255,255,0,0.36252614110708237)\">family</span> <span style=\"background-color: rgb(255,255,0,0.09700354188680649)\">-</span> <span style=\"background-color: rgb(255,255,0,0.5186396837234497)\">oriented</span> <span style=\"background-color: rgb(255,255,0,0.09169891476631165)\">,</span> <span style=\"background-color: rgb(255,255,0,0.39830874651670456)\">fantasy</span> <span style=\"background-color: rgb(255,255,0,0.05965910851955414)\">-</span> <span style=\"background-color: rgb(255,255,0,0.4977812245488167)\">adventure</span> <span style=\"background-color: rgb(255,255,0,0.5523001402616501)\">movies</span> <span style=\"background-color: rgb(255,255,0,0.09079717099666595)\">ever</span> <span style=\"background-color: rgb(255,255,0,0.009749559685587883)\">.</span> <span style=\"background-color: rgb(255,255,0,0.008937654783949256)\">[SEP]</span>"
      ],
      "text/plain": [
       "<IPython.core.display.HTML object>"
      ]
     },
     "metadata": {},
     "output_type": "display_data"
    },
    {
     "data": {
      "text/html": [
       "<span style=\"background-color: rgb(255,255,0,0.03796038683503866)\">[CLS]</span> <span style=\"background-color: rgb(255,255,0,0.2599005773663521)\">emerges</span> <span style=\"background-color: rgb(255,255,0,0.5747766420245171)\">as</span> <span style=\"background-color: rgb(255,255,0,0.6913861632347107)\">something</span> <span style=\"background-color: rgb(255,255,0,0.6986859440803528)\">rare</span> <span style=\"background-color: rgb(255,255,0,0.5004236847162247)\">,</span> <span style=\"background-color: rgb(255,255,0,1.1639613658189774)\">an</span> <span style=\"background-color: rgb(255,255,0,0.17257772386074066)\">issue</span> <span style=\"background-color: rgb(255,255,0,0.26207201182842255)\">movie</span> <span style=\"background-color: rgb(255,255,0,1.0969284921884537)\">that</span> <span style=\"background-color: rgb(255,255,0,0.005078473477624357)\">'</span> <span style=\"background-color: rgb(255,255,0,0.6262623518705368)\">s</span> <span style=\"background-color: rgb(255,255,0,0.23596592247486115)\">so</span> <span style=\"background-color: rgb(255,255,0,0.9534183889627457)\">honest</span> <span style=\"background-color: rgb(255,255,0,0.4701570048928261)\">and</span> <span style=\"background-color: rgb(255,255,0,0.6363113969564438)\">keen</span> <span style=\"background-color: rgb(255,255,0,0.6515186280012131)\">##ly</span> <span style=\"background-color: rgb(255,255,0,0.7813166826963425)\">observed</span> <span style=\"background-color: rgb(255,255,0,0.021802238188683987)\">that</span> <span style=\"background-color: rgb(255,255,0,0.10080693289637566)\">it</span> <span style=\"background-color: rgb(255,255,0,0.002554167585913092)\">does</span> <span style=\"background-color: rgb(255,255,0,0.009023619932122529)\">n</span> <span style=\"background-color: rgb(255,255,0,0.005003521800972521)\">'</span> <span style=\"background-color: rgb(255,255,0,0.0014780292985960841)\">t</span> <span style=\"background-color: rgb(255,255,0,0.02385607222095132)\">feel</span> <span style=\"background-color: rgb(255,255,0,0.0036954169627279043)\">like</span> <span style=\"background-color: rgb(255,255,0,0.002704355865716934)\">one</span> <span style=\"background-color: rgb(255,255,0,0.005058980896137655)\">.</span> <span style=\"background-color: rgb(255,255,0,0.005315048038028181)\">[SEP]</span>"
      ],
      "text/plain": [
       "<IPython.core.display.HTML object>"
      ]
     },
     "metadata": {},
     "output_type": "display_data"
    },
    {
     "data": {
      "text/html": [
       "<span style=\"background-color: rgb(255,255,0,0.06480961572378874)\">[CLS]</span> <span style=\"background-color: rgb(255,255,0,0.1290783565491438)\">can</span> <span style=\"background-color: rgb(255,255,0,0.1980171911418438)\">##tet</span> <span style=\"background-color: rgb(255,255,0,3.4249892830848694)\">perfectly</span> <span style=\"background-color: rgb(255,255,0,3.7646618485450745)\">captures</span> <span style=\"background-color: rgb(255,255,0,0.8199887722730637)\">the</span> <span style=\"background-color: rgb(255,255,0,0.12325418181717396)\">hotel</span> <span style=\"background-color: rgb(255,255,0,0.014932847116142511)\">lo</span> <span style=\"background-color: rgb(255,255,0,0.12782557867467403)\">##bbies</span> <span style=\"background-color: rgb(255,255,0,0.12348771095275879)\">,</span> <span style=\"background-color: rgb(255,255,0,0.011620777659118176)\">two</span> <span style=\"background-color: rgb(255,255,0,0.015478397253900766)\">-</span> <span style=\"background-color: rgb(255,255,0,0.008264061179943383)\">lane</span> <span style=\"background-color: rgb(255,255,0,0.04914773628115654)\">highways</span> <span style=\"background-color: rgb(255,255,0,0.008739475742913783)\">,</span> <span style=\"background-color: rgb(255,255,0,0.061211539432406425)\">and</span> <span style=\"background-color: rgb(255,255,0,0.04862344358116388)\">roadside</span> <span style=\"background-color: rgb(255,255,0,0.16048118472099304)\">cafes</span> <span style=\"background-color: rgb(255,255,0,0.2798951603472233)\">that</span> <span style=\"background-color: rgb(255,255,0,0.023003544192761183)\">per</span> <span style=\"background-color: rgb(255,255,0,0.024391738697886467)\">##me</span> <span style=\"background-color: rgb(255,255,0,0.0953551847487688)\">##ate</span> <span style=\"background-color: rgb(255,255,0,0.11734146624803543)\">vincent</span> <span style=\"background-color: rgb(255,255,0,0.07368519902229309)\">'</span> <span style=\"background-color: rgb(255,255,0,0.0759168853983283)\">s</span> <span style=\"background-color: rgb(255,255,0,0.14699033461511135)\">days</span> <span style=\"background-color: rgb(255,255,0,0.008808082202449441)\">[SEP]</span>"
      ],
      "text/plain": [
       "<IPython.core.display.HTML object>"
      ]
     },
     "metadata": {},
     "output_type": "display_data"
    },
    {
     "data": {
      "text/html": [
       "<span style=\"background-color: rgb(255,255,0,0.021908509079366922)\">[CLS]</span> <span style=\"background-color: rgb(255,255,0,1.5106971561908722)\">a</span> <span style=\"background-color: rgb(255,255,0,2.6022708415985107)\">pleasant</span> <span style=\"background-color: rgb(255,255,0,0.45540500432252884)\">enough</span> <span style=\"background-color: rgb(255,255,0,1.1021813750267029)\">movie</span> <span style=\"background-color: rgb(255,255,0,0.26068592444062233)\">,</span> <span style=\"background-color: rgb(255,255,0,0.9796788543462753)\">held</span> <span style=\"background-color: rgb(255,255,0,0.48953142017126083)\">together</span> <span style=\"background-color: rgb(255,255,0,0.6427375972270966)\">by</span> <span style=\"background-color: rgb(255,255,0,1.223968267440796)\">skilled</span> <span style=\"background-color: rgb(255,255,0,0.24138567969202995)\">ensemble</span> <span style=\"background-color: rgb(255,255,0,0.45045729726552963)\">actors</span> <span style=\"background-color: rgb(255,255,0,0.010306097101420164)\">.</span> <span style=\"background-color: rgb(255,255,0,0.008785758982412517)\">[SEP]</span>"
      ],
      "text/plain": [
       "<IPython.core.display.HTML object>"
      ]
     },
     "metadata": {},
     "output_type": "display_data"
    },
    {
     "data": {
      "text/html": [
       "<span style=\"background-color: rgb(255,255,0,0.04523418378084898)\">[CLS]</span> <span style=\"background-color: rgb(255,255,0,0.05021423567086458)\">fuller</span> <span style=\"background-color: rgb(255,255,0,0.02808030229061842)\">would</span> <span style=\"background-color: rgb(255,255,0,0.12396587058901787)\">surely</span> <span style=\"background-color: rgb(255,255,0,0.06985389161854982)\">have</span> <span style=\"background-color: rgb(255,255,0,0.5206713825464249)\">called</span> <span style=\"background-color: rgb(255,255,0,0.9737769514322281)\">this</span> <span style=\"background-color: rgb(255,255,0,0.16662083566188812)\">guts</span> <span style=\"background-color: rgb(255,255,0,0.531064048409462)\">##y</span> <span style=\"background-color: rgb(255,255,0,0.5775367468595505)\">and</span> <span style=\"background-color: rgb(255,255,0,0.11321181431412697)\">at</span> <span style=\"background-color: rgb(255,255,0,0.21848168224096298)\">times</span> <span style=\"background-color: rgb(255,255,0,0.5088808387517929)\">ex</span> <span style=\"background-color: rgb(255,255,0,0.33201705664396286)\">##hila</span> <span style=\"background-color: rgb(255,255,0,0.836772620677948)\">##rating</span> <span style=\"background-color: rgb(255,255,0,0.5441864579916)\">movie</span> <span style=\"background-color: rgb(255,255,0,1.8394212424755096)\">a</span> <span style=\"background-color: rgb(255,255,0,2.22765251994133)\">great</span> <span style=\"background-color: rgb(255,255,0,0.2779958210885525)\">yarn</span> <span style=\"background-color: rgb(255,255,0,0.007125822594389319)\">.</span> <span style=\"background-color: rgb(255,255,0,0.007235477096401155)\">[SEP]</span>"
      ],
      "text/plain": [
       "<IPython.core.display.HTML object>"
      ]
     },
     "metadata": {},
     "output_type": "display_data"
    },
    {
     "data": {
      "text/html": [
       "<span style=\"background-color: rgb(255,255,0,0.06217100191861391)\">[CLS]</span> <span style=\"background-color: rgb(255,255,0,0.43138492852449417)\">the</span> <span style=\"background-color: rgb(255,255,0,0.4798823595046997)\">film</span> <span style=\"background-color: rgb(255,255,0,0.6097204238176346)\">is</span> <span style=\"background-color: rgb(255,255,0,0.6786172091960907)\">often</span> <span style=\"background-color: rgb(255,255,0,0.8391443639993668)\">filled</span> <span style=\"background-color: rgb(255,255,0,0.6077338755130768)\">with</span> <span style=\"background-color: rgb(255,255,0,0.5254535004496574)\">a</span> <span style=\"background-color: rgb(255,255,0,0.6256333738565445)\">sense</span> <span style=\"background-color: rgb(255,255,0,0.5681673437356949)\">of</span> <span style=\"background-color: rgb(255,255,0,1.3782846927642822)\">pure</span> <span style=\"background-color: rgb(255,255,0,0.8622375130653381)\">wonder</span> <span style=\"background-color: rgb(255,255,0,0.7563822716474533)\">##ment</span> <span style=\"background-color: rgb(255,255,0,0.27999481186270714)\">and</span> <span style=\"background-color: rgb(255,255,0,1.0086385905742645)\">excitement</span> <span style=\"background-color: rgb(255,255,0,0.021121171303093433)\">not</span> <span style=\"background-color: rgb(255,255,0,0.010291016660630703)\">often</span> <span style=\"background-color: rgb(255,255,0,0.019193028565496206)\">seen</span> <span style=\"background-color: rgb(255,255,0,0.023919735103845596)\">in</span> <span style=\"background-color: rgb(255,255,0,0.03234963398426771)\">today</span> <span style=\"background-color: rgb(255,255,0,0.012067494681105018)\">'</span> <span style=\"background-color: rgb(255,255,0,0.027767927385866642)\">s</span> <span style=\"background-color: rgb(255,255,0,0.045622182078659534)\">cinema</span> <span style=\"background-color: rgb(255,255,0,0.037833929527550936)\">du</span> <span style=\"background-color: rgb(255,255,0,0.042338501662015915)\">sarcasm</span> <span style=\"background-color: rgb(255,255,0,0.0140495621599257)\">[SEP]</span>"
      ],
      "text/plain": [
       "<IPython.core.display.HTML object>"
      ]
     },
     "metadata": {},
     "output_type": "display_data"
    },
    {
     "data": {
      "text/html": [
       "<span style=\"background-color: rgb(255,255,0,0.034793142694979906)\">[CLS]</span> <span style=\"background-color: rgb(255,255,0,0.12044875882565975)\">go</span> <span style=\"background-color: rgb(255,255,0,0.22416748106479645)\">##sling</span> <span style=\"background-color: rgb(255,255,0,1.2881176173686981)\">provides</span> <span style=\"background-color: rgb(255,255,0,1.8903756141662598)\">an</span> <span style=\"background-color: rgb(255,255,0,2.8708288073539734)\">amazing</span> <span style=\"background-color: rgb(255,255,0,1.5668213367462158)\">performance</span> <span style=\"background-color: rgb(255,255,0,0.9717612713575363)\">that</span> <span style=\"background-color: rgb(255,255,0,0.06613120902329683)\">dwarfs</span> <span style=\"background-color: rgb(255,255,0,0.025771076325327158)\">everything</span> <span style=\"background-color: rgb(255,255,0,0.04023446701467037)\">else</span> <span style=\"background-color: rgb(255,255,0,0.08688054978847504)\">in</span> <span style=\"background-color: rgb(255,255,0,0.6365972757339478)\">the</span> <span style=\"background-color: rgb(255,255,0,0.16081960871815681)\">film</span> <span style=\"background-color: rgb(255,255,0,0.00809864781331271)\">.</span> <span style=\"background-color: rgb(255,255,0,0.008152850205078721)\">[SEP]</span>"
      ],
      "text/plain": [
       "<IPython.core.display.HTML object>"
      ]
     },
     "metadata": {},
     "output_type": "display_data"
    },
    {
     "data": {
      "text/html": [
       "<span style=\"background-color: rgb(255,255,0,0.04709032829850912)\">[CLS]</span> <span style=\"background-color: rgb(255,255,0,1.345231682062149)\">a</span> <span style=\"background-color: rgb(255,255,0,1.3798114657402039)\">real</span> <span style=\"background-color: rgb(255,255,0,1.1489182710647583)\">movie</span> <span style=\"background-color: rgb(255,255,0,0.12136080302298069)\">,</span> <span style=\"background-color: rgb(255,255,0,0.517219714820385)\">about</span> <span style=\"background-color: rgb(255,255,0,0.3514990583062172)\">real</span> <span style=\"background-color: rgb(255,255,0,0.6960549205541611)\">people</span> <span style=\"background-color: rgb(255,255,0,0.006217307527549565)\">,</span> <span style=\"background-color: rgb(255,255,0,1.123521775007248)\">that</span> <span style=\"background-color: rgb(255,255,0,0.6050105765461922)\">gives</span> <span style=\"background-color: rgb(255,255,0,0.18095748499035835)\">us</span> <span style=\"background-color: rgb(255,255,0,0.3327496349811554)\">a</span> <span style=\"background-color: rgb(255,255,0,0.5813019350171089)\">rare</span> <span style=\"background-color: rgb(255,255,0,0.3943493217229843)\">glimpse</span> <span style=\"background-color: rgb(255,255,0,0.3050742670893669)\">into</span> <span style=\"background-color: rgb(255,255,0,0.48116203397512436)\">a</span> <span style=\"background-color: rgb(255,255,0,0.2267097868025303)\">culture</span> <span style=\"background-color: rgb(255,255,0,0.006216030451469123)\">most</span> <span style=\"background-color: rgb(255,255,0,0.02010313095524907)\">of</span> <span style=\"background-color: rgb(255,255,0,0.06885253824293613)\">us</span> <span style=\"background-color: rgb(255,255,0,0.000895298580871895)\">do</span> <span style=\"background-color: rgb(255,255,0,0.011912916088476777)\">n</span> <span style=\"background-color: rgb(255,255,0,0.0063556787790730596)\">'</span> <span style=\"background-color: rgb(255,255,0,0.000835932296467945)\">t</span> <span style=\"background-color: rgb(255,255,0,0.02722046570852399)\">know</span> <span style=\"background-color: rgb(255,255,0,0.00656746793538332)\">.</span> <span style=\"background-color: rgb(255,255,0,0.006799799739383161)\">[SEP]</span>"
      ],
      "text/plain": [
       "<IPython.core.display.HTML object>"
      ]
     },
     "metadata": {},
     "output_type": "display_data"
    },
    {
     "data": {
      "text/html": [
       "<span style=\"background-color: rgb(255,255,0,0.12558688409626484)\">[CLS]</span> <span style=\"background-color: rgb(255,255,0,0.219896137714386)\">writer</span> <span style=\"background-color: rgb(255,255,0,0.43482858687639236)\">-</span> <span style=\"background-color: rgb(255,255,0,0.24148067459464073)\">director</span> <span style=\"background-color: rgb(255,255,0,0.3582800179719925)\">burger</span> <span style=\"background-color: rgb(255,255,0,0.807143896818161)\">imaginative</span> <span style=\"background-color: rgb(255,255,0,1.7895196378231049)\">##ly</span> <span style=\"background-color: rgb(255,255,0,0.873834565281868)\">fans</span> <span style=\"background-color: rgb(255,255,0,0.731632262468338)\">the</span> <span style=\"background-color: rgb(255,255,0,0.15100421383976936)\">em</span> <span style=\"background-color: rgb(255,255,0,0.343511626124382)\">##bers</span> <span style=\"background-color: rgb(255,255,0,0.30385803431272507)\">of</span> <span style=\"background-color: rgb(255,255,0,0.3195882588624954)\">a</span> <span style=\"background-color: rgb(255,255,0,0.1383244339376688)\">dormant</span> <span style=\"background-color: rgb(255,255,0,0.3893914818763733)\">national</span> <span style=\"background-color: rgb(255,255,0,0.3160570561885834)\">grief</span> <span style=\"background-color: rgb(255,255,0,0.09968460537493229)\">and</span> <span style=\"background-color: rgb(255,255,0,0.2436269074678421)\">curiosity</span> <span style=\"background-color: rgb(255,255,0,0.6514507532119751)\">that</span> <span style=\"background-color: rgb(255,255,0,0.41388481855392456)\">has</span> <span style=\"background-color: rgb(255,255,0,0.021475001703947783)\">cal</span> <span style=\"background-color: rgb(255,255,0,0.026323869824409485)\">##ci</span> <span style=\"background-color: rgb(255,255,0,0.12695127166807652)\">##fied</span> <span style=\"background-color: rgb(255,255,0,0.13291724026203156)\">into</span> <span style=\"background-color: rgb(255,255,0,0.1557082962244749)\">chronic</span> <span style=\"background-color: rgb(255,255,0,0.06397688761353493)\">cy</span> <span style=\"background-color: rgb(255,255,0,0.0667558191344142)\">##nic</span> <span style=\"background-color: rgb(255,255,0,0.11017218232154846)\">##ism</span> <span style=\"background-color: rgb(255,255,0,0.13230019249022007)\">and</span> <span style=\"background-color: rgb(255,255,0,0.15381027944386005)\">fear</span> <span style=\"background-color: rgb(255,255,0,0.02835574559867382)\">.</span> <span style=\"background-color: rgb(255,255,0,0.02866825321689248)\">[SEP]</span>"
      ],
      "text/plain": [
       "<IPython.core.display.HTML object>"
      ]
     },
     "metadata": {},
     "output_type": "display_data"
    },
    {
     "data": {
      "text/html": [
       "<span style=\"background-color: rgb(255,255,0,0.03251209855079651)\">[CLS]</span> <span style=\"background-color: rgb(255,255,0,0.28745686635375023)\">s</span> <span style=\"background-color: rgb(255,255,0,0.58536596596241)\">personal</span> <span style=\"background-color: rgb(255,255,0,0.36351505666971207)\">revelations</span> <span style=\"background-color: rgb(255,255,0,0.2227264642715454)\">regarding</span> <span style=\"background-color: rgb(255,255,0,0.26089105755090714)\">what</span> <span style=\"background-color: rgb(255,255,0,0.056928982958197594)\">the</span> <span style=\"background-color: rgb(255,255,0,0.04215853288769722)\">shop</span> <span style=\"background-color: rgb(255,255,0,0.07869700901210308)\">means</span> <span style=\"background-color: rgb(255,255,0,0.040343101136386395)\">in</span> <span style=\"background-color: rgb(255,255,0,0.10881763882935047)\">the</span> <span style=\"background-color: rgb(255,255,0,0.03774470183998346)\">big</span> <span style=\"background-color: rgb(255,255,0,0.04243961535394192)\">picture</span> <span style=\"background-color: rgb(255,255,0,0.3350520133972168)\">,</span> <span style=\"background-color: rgb(255,255,0,0.3076760284602642)\">iconic</span> <span style=\"background-color: rgb(255,255,0,0.21915432065725327)\">characters</span> <span style=\"background-color: rgb(255,255,0,0.009124997886829078)\">ga</span> <span style=\"background-color: rgb(255,255,0,0.009747148142196238)\">##mbo</span> <span style=\"background-color: rgb(255,255,0,0.1694873347878456)\">##l</span> <span style=\"background-color: rgb(255,255,0,0.37957407534122467)\">fluid</span> <span style=\"background-color: rgb(255,255,0,0.601564534008503)\">##ly</span> <span style=\"background-color: rgb(255,255,0,0.15548252500593662)\">through</span> <span style=\"background-color: rgb(255,255,0,0.6114034727215767)\">the</span> <span style=\"background-color: rgb(255,255,0,0.574285052716732)\">story</span> <span style=\"background-color: rgb(255,255,0,0.009493108373135328)\">,</span> <span style=\"background-color: rgb(255,255,0,1.297917366027832)\">with</span> <span style=\"background-color: rgb(255,255,0,1.8340674042701721)\">charming</span> <span style=\"background-color: rgb(255,255,0,1.3074977695941925)\">results</span> <span style=\"background-color: rgb(255,255,0,0.009423252777196467)\">.</span> <span style=\"background-color: rgb(255,255,0,0.009453744860365987)\">[SEP]</span>"
      ],
      "text/plain": [
       "<IPython.core.display.HTML object>"
      ]
     },
     "metadata": {},
     "output_type": "display_data"
    },
    {
     "data": {
      "text/html": [
       "<span style=\"background-color: rgb(255,255,0,0.052516055293381214)\">[CLS]</span> <span style=\"background-color: rgb(255,255,0,2.380990982055664)\">an</span> <span style=\"background-color: rgb(255,255,0,1.7225855588912964)\">utterly</span> <span style=\"background-color: rgb(255,255,0,2.7593547105789185)\">compelling</span> <span style=\"background-color: rgb(255,255,0,0.060312855057418346)\">`</span> <span style=\"background-color: rgb(255,255,0,0.06305260118097067)\">who</span> <span style=\"background-color: rgb(255,255,0,0.09625405073165894)\">wrote</span> <span style=\"background-color: rgb(255,255,0,0.062262993305921555)\">it</span> <span style=\"background-color: rgb(255,255,0,0.14255961403250694)\">'</span> <span style=\"background-color: rgb(255,255,0,0.42811136692762375)\">in</span> <span style=\"background-color: rgb(255,255,0,0.8760317414999008)\">which</span> <span style=\"background-color: rgb(255,255,0,0.16498614102602005)\">the</span> <span style=\"background-color: rgb(255,255,0,0.13199913315474987)\">reputation</span> <span style=\"background-color: rgb(255,255,0,0.06255202926695347)\">of</span> <span style=\"background-color: rgb(255,255,0,0.08311795070767403)\">the</span> <span style=\"background-color: rgb(255,255,0,0.09483558125793934)\">most</span> <span style=\"background-color: rgb(255,255,0,0.269057247787714)\">famous</span> <span style=\"background-color: rgb(255,255,0,0.15772191807627678)\">author</span> <span style=\"background-color: rgb(255,255,0,0.025201011449098587)\">who</span> <span style=\"background-color: rgb(255,255,0,0.015082075260579586)\">ever</span> <span style=\"background-color: rgb(255,255,0,0.09371883235871792)\">lived</span> <span style=\"background-color: rgb(255,255,0,0.14168832451105118)\">comes</span> <span style=\"background-color: rgb(255,255,0,0.019148786086589098)\">into</span> <span style=\"background-color: rgb(255,255,0,0.07680580951273441)\">question</span> <span style=\"background-color: rgb(255,255,0,0.010033557191491127)\">.</span> <span style=\"background-color: rgb(255,255,0,0.010019486071541905)\">[SEP]</span>"
      ],
      "text/plain": [
       "<IPython.core.display.HTML object>"
      ]
     },
     "metadata": {},
     "output_type": "display_data"
    },
    {
     "data": {
      "text/html": [
       "<span style=\"background-color: rgb(255,255,0,0.03321430645883083)\">[CLS]</span> <span style=\"background-color: rgb(255,255,0,0.2321072481572628)\">much</span> <span style=\"background-color: rgb(255,255,0,0.22862553596496582)\">of</span> <span style=\"background-color: rgb(255,255,0,0.6524483114480972)\">the</span> <span style=\"background-color: rgb(255,255,0,0.4396253451704979)\">way</span> <span style=\"background-color: rgb(255,255,0,0.010981532977893949)\">,</span> <span style=\"background-color: rgb(255,255,0,0.03862345824018121)\">though</span> <span style=\"background-color: rgb(255,255,0,0.09723316878080368)\">,</span> <span style=\"background-color: rgb(255,255,0,0.5137455090880394)\">this</span> <span style=\"background-color: rgb(255,255,0,1.4532555639743805)\">is</span> <span style=\"background-color: rgb(255,255,0,1.6904047131538391)\">a</span> <span style=\"background-color: rgb(255,255,0,1.7843738198280334)\">refreshing</span> <span style=\"background-color: rgb(255,255,0,1.15339033305645)\">##ly</span> <span style=\"background-color: rgb(255,255,0,1.029207706451416)\">novel</span> <span style=\"background-color: rgb(255,255,0,0.6303820759057999)\">ride</span> <span style=\"background-color: rgb(255,255,0,0.00609563896432519)\">.</span> <span style=\"background-color: rgb(255,255,0,0.006286074058152735)\">[SEP]</span>"
      ],
      "text/plain": [
       "<IPython.core.display.HTML object>"
      ]
     },
     "metadata": {},
     "output_type": "display_data"
    },
    {
     "data": {
      "text/html": [
       "<span style=\"background-color: rgb(255,255,0,0.03974385093897581)\">[CLS]</span> <span style=\"background-color: rgb(255,255,0,0.8273755013942719)\">the</span> <span style=\"background-color: rgb(255,255,0,0.6438437849283218)\">tenderness</span> <span style=\"background-color: rgb(255,255,0,0.8730804920196533)\">of</span> <span style=\"background-color: rgb(255,255,0,1.3682033121585846)\">the</span> <span style=\"background-color: rgb(255,255,0,0.6569403409957886)\">piece</span> <span style=\"background-color: rgb(255,255,0,2.0727406442165375)\">is</span> <span style=\"background-color: rgb(255,255,0,1.4159470796585083)\">still</span> <span style=\"background-color: rgb(255,255,0,2.0932480692863464)\">intact</span> <span style=\"background-color: rgb(255,255,0,0.004394864081405103)\">.</span> <span style=\"background-color: rgb(255,255,0,0.0044818781316280365)\">[SEP]</span>"
      ],
      "text/plain": [
       "<IPython.core.display.HTML object>"
      ]
     },
     "metadata": {},
     "output_type": "display_data"
    },
    {
     "data": {
      "text/html": [
       "<span style=\"background-color: rgb(255,255,0,0.03464606357738376)\">[CLS]</span> <span style=\"background-color: rgb(255,255,0,0.4860898107290268)\">in</span> <span style=\"background-color: rgb(255,255,0,0.7632646709680557)\">scope</span> <span style=\"background-color: rgb(255,255,0,0.23497777059674263)\">,</span> <span style=\"background-color: rgb(255,255,0,1.124461144208908)\">ambition</span> <span style=\"background-color: rgb(255,255,0,0.2348230965435505)\">and</span> <span style=\"background-color: rgb(255,255,0,1.4918555319309235)\">accomplishment</span> <span style=\"background-color: rgb(255,255,0,0.21616457030177116)\">,</span> <span style=\"background-color: rgb(255,255,0,0.378640815615654)\">children</span> <span style=\"background-color: rgb(255,255,0,0.3146165609359741)\">of</span> <span style=\"background-color: rgb(255,255,0,0.2159474417567253)\">the</span> <span style=\"background-color: rgb(255,255,0,0.22483747452497482)\">century</span> <span style=\"background-color: rgb(255,255,0,0.049960650503635406)\">.</span> <span style=\"background-color: rgb(255,255,0,0.01929100602865219)\">.</span> <span style=\"background-color: rgb(255,255,0,0.17219191417098045)\">.</span> <span style=\"background-color: rgb(255,255,0,0.5735743790864944)\">takes</span> <span style=\"background-color: rgb(255,255,0,0.030148718506097794)\">ku</span> <span style=\"background-color: rgb(255,255,0,0.06255917251110077)\">##rys</span> <span style=\"background-color: rgb(255,255,0,0.331568643450737)\">'</span> <span style=\"background-color: rgb(255,255,0,0.5745084583759308)\">career</span> <span style=\"background-color: rgb(255,255,0,0.36717165261507034)\">to</span> <span style=\"background-color: rgb(255,255,0,0.661701038479805)\">a</span> <span style=\"background-color: rgb(255,255,0,0.33959977328777313)\">whole</span> <span style=\"background-color: rgb(255,255,0,0.6269240379333496)\">new</span> <span style=\"background-color: rgb(255,255,0,0.4458262026309967)\">level</span> <span style=\"background-color: rgb(255,255,0,0.012307836441323161)\">.</span> <span style=\"background-color: rgb(255,255,0,0.012341823894530535)\">[SEP]</span>"
      ],
      "text/plain": [
       "<IPython.core.display.HTML object>"
      ]
     },
     "metadata": {},
     "output_type": "display_data"
    },
    {
     "data": {
      "text/html": [
       "<span style=\"background-color: rgb(255,255,0,0.03862293204292655)\">[CLS]</span> <span style=\"background-color: rgb(255,255,0,1.5531344711780548)\">the</span> <span style=\"background-color: rgb(255,255,0,1.046101301908493)\">film</span> <span style=\"background-color: rgb(255,255,0,0.988953560590744)\">makes</span> <span style=\"background-color: rgb(255,255,0,1.5907669067382812)\">a</span> <span style=\"background-color: rgb(255,255,0,1.4273732900619507)\">strong</span> <span style=\"background-color: rgb(255,255,0,0.3644222393631935)\">case</span> <span style=\"background-color: rgb(255,255,0,0.7141011208295822)\">for</span> <span style=\"background-color: rgb(255,255,0,0.5504797026515007)\">the</span> <span style=\"background-color: rgb(255,255,0,0.38254033774137497)\">importance</span> <span style=\"background-color: rgb(255,255,0,0.2630515396595001)\">of</span> <span style=\"background-color: rgb(255,255,0,0.21939951926469803)\">the</span> <span style=\"background-color: rgb(255,255,0,0.13581694103777409)\">musicians</span> <span style=\"background-color: rgb(255,255,0,0.195823535323143)\">in</span> <span style=\"background-color: rgb(255,255,0,0.15548987314105034)\">creating</span> <span style=\"background-color: rgb(255,255,0,0.15823448076844215)\">the</span> <span style=\"background-color: rgb(255,255,0,0.09827952831983566)\">motown</span> <span style=\"background-color: rgb(255,255,0,0.10828330181539059)\">sound</span> <span style=\"background-color: rgb(255,255,0,0.004549363802652806)\">.</span> <span style=\"background-color: rgb(255,255,0,0.004575441707856953)\">[SEP]</span>"
      ],
      "text/plain": [
       "<IPython.core.display.HTML object>"
      ]
     },
     "metadata": {},
     "output_type": "display_data"
    }
   ],
   "source": [
    "print_attention_for_layer_head(model, batch_test, layer_idx, head_idx)"
   ]
  },
  {
   "cell_type": "code",
   "execution_count": 10,
   "metadata": {},
   "outputs": [
    {
     "data": {
      "text/plain": [
       "(11, 9)"
      ]
     },
     "execution_count": 10,
     "metadata": {},
     "output_type": "execute_result"
    }
   ],
   "source": [
    "layer_idx, head_idx"
   ]
  }
 ],
 "metadata": {
  "kernelspec": {
   "display_name": "Python 3",
   "language": "python",
   "name": "python3"
  },
  "language_info": {
   "codemirror_mode": {
    "name": "ipython",
    "version": 3
   },
   "file_extension": ".py",
   "mimetype": "text/x-python",
   "name": "python",
   "nbconvert_exporter": "python",
   "pygments_lexer": "ipython3",
   "version": "3.7.6"
  }
 },
 "nbformat": 4,
 "nbformat_minor": 4
}
