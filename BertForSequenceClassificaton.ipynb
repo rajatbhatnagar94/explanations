{
 "cells": [
  {
   "cell_type": "code",
   "execution_count": 2,
   "metadata": {
    "scrolled": true
   },
   "outputs": [],
   "source": [
    "from transformers import BertModel, BertTokenizer, BertConfig, BertForSequenceClassification\n",
    "import os\n",
    "import pandas as pd\n",
    "import torch\n",
    "import transformers\n",
    "import time\n",
    "import datetime\n",
    "import numpy as np\n",
    "import random\n",
    "import os\n",
    "from sklearn.metrics import classification_report, confusion_matrix, precision_recall_fscore_support\n",
    "from IPython.core.display import display, HTML"
   ]
  },
  {
   "cell_type": "code",
   "execution_count": 3,
   "metadata": {},
   "outputs": [],
   "source": [
    "# Set the seed value all over the place to make this reproducible.\n",
    "seed_val = 42\n",
    "\n",
    "random.seed(seed_val)\n",
    "np.random.seed(seed_val)\n",
    "torch.manual_seed(seed_val)\n",
    "torch.cuda.manual_seed_all(seed_val)\n"
   ]
  },
  {
   "cell_type": "code",
   "execution_count": 8,
   "metadata": {},
   "outputs": [],
   "source": [
    "device = torch.device(\"cuda:0\" if torch.cuda.is_available() else \"cpu\")\n",
    "dataset = { \"name\": \"Stanford treebank\",\n",
    "            \"prefix\": \"stanford_treebank\",\n",
    "            \"train_path\": \"data/stanford_treebank/sst_train.csv\",\n",
    "            \"dev_path\": \"data/stanford_treebank/sst_dev.csv\",\n",
    "            \"test_path\": \"data/stanford_treebank/sst_test.csv\",\n",
    "            'classes': ['neg', 'pos']\n",
    "          }"
   ]
  },
  {
   "cell_type": "code",
   "execution_count": 9,
   "metadata": {},
   "outputs": [],
   "source": [
    "def read_data():\n",
    "    train = pd.read_csv(dataset['train_path'],index_col=0)\n",
    "    dev = pd.read_csv(dataset['dev_path'],index_col=0)\n",
    "    test = pd.read_csv(dataset['test_path'],index_col=0)\n",
    "    return train, dev, test\n",
    "train, dev, test = read_data()"
   ]
  },
  {
   "cell_type": "code",
   "execution_count": 10,
   "metadata": {},
   "outputs": [],
   "source": [
    "def encode(data, tokenizer):\n",
    "    input_ids = []\n",
    "    attention_mask = []\n",
    "    for text in data:\n",
    "        tokenized_text = tokenizer.encode_plus(text,\n",
    "                                            max_length=128,\n",
    "                                            add_special_tokens = True,\n",
    "                                            pad_to_max_length=True,\n",
    "                                            padding_side='right',\n",
    "                                            return_attention_mask=True)\n",
    "        input_ids.append(tokenized_text['input_ids'])\n",
    "        attention_mask.append(tokenized_text['attention_mask'])\n",
    "    return torch.tensor(input_ids, dtype=torch.long), torch.tensor(attention_mask, dtype=torch.long)"
   ]
  },
  {
   "cell_type": "code",
   "execution_count": 11,
   "metadata": {},
   "outputs": [],
   "source": [
    "def get_batches(df, tokenizer, batch_size=4):\n",
    "    x, y = list(df['text'].values), list(df['classification'].apply(lambda y: dataset['classes'].index(y)))\n",
    "    input_ids, attention_mask = encode(x, tokenizer)\n",
    "    y = torch.tensor(y)\n",
    "    tensor_dataset = torch.utils.data.TensorDataset(input_ids, attention_mask, y)\n",
    "    tensor_randomsampler = torch.utils.data.RandomSampler(tensor_dataset)\n",
    "    tensor_dataloader = torch.utils.data.DataLoader(tensor_dataset, sampler=tensor_randomsampler, batch_size=batch_size)\n",
    "    return tensor_dataloader"
   ]
  },
  {
   "cell_type": "code",
   "execution_count": 12,
   "metadata": {},
   "outputs": [],
   "source": [
    "def train_model(batch, model, optimizer, scheduler, epochs):\n",
    "    model.train()  # Set the mode to training\n",
    "    for e in range(epochs):\n",
    "        for i, batch_tuple in enumerate(batch):\n",
    "            batch_tuple = (t.to(device) for t in batch_tuple)\n",
    "            input_ids, attention_mask, labels = batch_tuple\n",
    "            outputs = model(input_ids=input_ids, attention_mask=attention_mask, labels=labels)\n",
    "            loss, logits, hidden_states_output, attention_mask_output = outputs\n",
    "            if i % 100 == 0:\n",
    "                print(\"loss - {0}\".format(loss))\n",
    "            model.zero_grad()        \n",
    "            optimizer.zero_grad()\n",
    "            loss.backward()\n",
    "            torch.nn.utils.clip_grad_norm_(model.parameters(), parameters['max_grad_norm'])\n",
    "            optimizer.step()\n",
    "            scheduler.step()"
   ]
  },
  {
   "cell_type": "code",
   "execution_count": 33,
   "metadata": {},
   "outputs": [],
   "source": [
    "#batch_dev = get_batches(dev, batch_size=1, tokenizer=tokenizer)\n",
    "#batch_train = get_batches(train_data, batch_size=8, tokenizer=tokenizer)\n",
    "#batch_test = get_batches(test, batch_size=1, tokenizer=tokenizer)"
   ]
  },
  {
   "cell_type": "code",
   "execution_count": 13,
   "metadata": {},
   "outputs": [],
   "source": [
    "tokenizer = BertTokenizer.from_pretrained('bert-base-uncased')\n",
    "batch_dev = get_batches(dev, batch_size=1, tokenizer=tokenizer)\n",
    "batch_train = get_batches(train, batch_size=8, tokenizer=tokenizer)\n",
    "batch_test = get_batches(test, batch_size=1, tokenizer=tokenizer)\n",
    "\n",
    "epochs=1\n",
    "parameters = {\n",
    "    'learning_rate': 2e-5,\n",
    "    'num_warmup_steps': 1000,\n",
    "    'num_training_steps': len(batch_train) * epochs,\n",
    "    'max_grad_norm': 1\n",
    "}\n",
    "model = BertForSequenceClassification.from_pretrained('bert-base-uncased', num_labels=2, output_hidden_states=True, output_attentions=True)\n",
    "model.to(device)\n",
    "optimizer = transformers.AdamW(model.parameters(), lr=parameters['learning_rate'], correct_bias=False)\n",
    "scheduler = transformers.get_linear_schedule_with_warmup(optimizer,\n",
    "                                                         num_warmup_steps=parameters['num_warmup_steps'],\n",
    "                                                         num_training_steps=parameters['num_training_steps'])\n"
   ]
  },
  {
   "cell_type": "code",
   "execution_count": 24,
   "metadata": {},
   "outputs": [],
   "source": [
    "def evaluate(batch):\n",
    "    input_ids, predictions, true_labels, attentions = [], [], [], []\n",
    "    model.eval()\n",
    "    for i, batch_cpu in enumerate(batch):\n",
    "        batch_gpu = (t.to(device) for t in batch_cpu)\n",
    "        input_ids_gpu, attention_mask, labels = batch_gpu\n",
    "        with torch.no_grad():\n",
    "            loss, logits, hidden_states_output, attention_mask_output = model(input_ids=input_ids_gpu, attention_mask=attention_mask, labels=labels)\n",
    "            logits =  logits.cpu()\n",
    "            prediction = torch.argmax(logits, dim=1).tolist()\n",
    "            true_label = labels.cpu().tolist()\n",
    "            input_ids_cpu = input_ids_gpu.cpu().tolist()\n",
    "            attention_last_layer = attention_mask_output[-1].cpu() # selection the last attention layer\n",
    "            attention_softmax = attention_last_layer[:,-1, 0].tolist()  # selection the last head attention of CLS token\n",
    "            input_ids += input_ids_cpu\n",
    "            predictions += prediction\n",
    "            true_labels += true_label\n",
    "            attentions += attention_softmax\n",
    "    return input_ids, predictions, true_labels, attentions\n",
    "\n",
    "def get_length_without_special_tokens(sentence):\n",
    "    length = 0\n",
    "    for i in sentence:\n",
    "        if i == 0:\n",
    "            break\n",
    "        else:\n",
    "            length += 1\n",
    "    return length\n",
    "\n",
    "def print_attention(input_ids_all, attentions_all, tokenizer):\n",
    "    for input_ids, attention in zip(input_ids_all, attentions_all):\n",
    "        html = []\n",
    "        len_input_ids = get_length_without_special_tokens(input_ids)\n",
    "        input_ids = input_ids[:len_input_ids]\n",
    "        attention = attention[:len_input_ids]\n",
    "        for input_id, attention_value in zip(input_ids, attention):\n",
    "            token = tokenizer.convert_ids_to_tokens(input_id)\n",
    "            attention_value = attention_value\n",
    "            html.append('<span style=\"background-color: rgb(255,255,0,{0})\">{1}</span>'.format(10 * attention_value, token))\n",
    "        html_string = \" \".join(html)\n",
    "        display(HTML(html_string))"
   ]
  },
  {
   "cell_type": "code",
   "execution_count": 14,
   "metadata": {},
   "outputs": [
    {
     "name": "stdout",
     "output_type": "stream",
     "text": [
      "loss - 0.7048430442810059\n",
      "loss - 0.6011022329330444\n",
      "loss - 0.3259471654891968\n",
      "loss - 0.09624850004911423\n",
      "loss - 0.33943769335746765\n",
      "loss - 0.1105036810040474\n",
      "loss - 0.013818517327308655\n",
      "loss - 0.45614898204803467\n",
      "loss - 0.2383934110403061\n"
     ]
    }
   ],
   "source": [
    "train_model(batch_train, model, optimizer, scheduler, epochs)"
   ]
  },
  {
   "cell_type": "code",
   "execution_count": 28,
   "metadata": {},
   "outputs": [],
   "source": [
    "def print_results(batch_dev):\n",
    "    results = evaluate(batch_dev)\n",
    "    input_ids, predictions, true_labels, attentions = results\n",
    "    print(classification_report(true_labels, predictions))\n",
    "    print_attention(input_ids[0:10], attentions[0:10], tokenizer)"
   ]
  },
  {
   "cell_type": "markdown",
   "metadata": {},
   "source": [
    "## Evaluation for Stanford treebank"
   ]
  },
  {
   "cell_type": "code",
   "execution_count": 29,
   "metadata": {},
   "outputs": [
    {
     "name": "stdout",
     "output_type": "stream",
     "text": [
      "              precision    recall  f1-score   support\n",
      "\n",
      "           0       0.94      0.85      0.89       428\n",
      "           1       0.87      0.95      0.91       444\n",
      "\n",
      "    accuracy                           0.90       872\n",
      "   macro avg       0.90      0.90      0.90       872\n",
      "weighted avg       0.90      0.90      0.90       872\n",
      "\n"
     ]
    },
    {
     "data": {
      "text/html": [
       "<span style=\"background-color: rgb(255,255,0,0.28884271159768105)\">[CLS]</span> <span style=\"background-color: rgb(255,255,0,0.11091978289186954)\">the</span> <span style=\"background-color: rgb(255,255,0,0.09610380977392197)\">quality</span> <span style=\"background-color: rgb(255,255,0,0.0924477819353342)\">of</span> <span style=\"background-color: rgb(255,255,0,0.11764995753765106)\">the</span> <span style=\"background-color: rgb(255,255,0,0.16107065603137016)\">art</span> <span style=\"background-color: rgb(255,255,0,0.09575941599905491)\">combined</span> <span style=\"background-color: rgb(255,255,0,0.14778884127736092)\">with</span> <span style=\"background-color: rgb(255,255,0,0.11716636829078197)\">the</span> <span style=\"background-color: rgb(255,255,0,0.43017376214265823)\">humor</span> <span style=\"background-color: rgb(255,255,0,0.07917944341897964)\">and</span> <span style=\"background-color: rgb(255,255,0,0.14177387580275536)\">intelligence</span> <span style=\"background-color: rgb(255,255,0,0.09712018072605133)\">of</span> <span style=\"background-color: rgb(255,255,0,0.135163776576519)\">the</span> <span style=\"background-color: rgb(255,255,0,0.4699429124593735)\">script</span> <span style=\"background-color: rgb(255,255,0,0.09018969722092152)\">allow</span> <span style=\"background-color: rgb(255,255,0,0.08691538125276566)\">the</span> <span style=\"background-color: rgb(255,255,0,0.3296942636370659)\">filmmakers</span> <span style=\"background-color: rgb(255,255,0,0.2096235379576683)\">to</span> <span style=\"background-color: rgb(255,255,0,0.19239570945501328)\">present</span> <span style=\"background-color: rgb(255,255,0,0.12718366459012032)\">the</span> <span style=\"background-color: rgb(255,255,0,0.3246505558490753)\">biblical</span> <span style=\"background-color: rgb(255,255,0,0.16757633537054062)\">message</span> <span style=\"background-color: rgb(255,255,0,0.1720934547483921)\">of</span> <span style=\"background-color: rgb(255,255,0,0.7214390486478806)\">forgiveness</span> <span style=\"background-color: rgb(255,255,0,0.4823964834213257)\">without</span> <span style=\"background-color: rgb(255,255,0,0.2615854889154434)\">it</span> <span style=\"background-color: rgb(255,255,0,0.08437206968665123)\">ever</span> <span style=\"background-color: rgb(255,255,0,0.10705160908401012)\">becoming</span> <span style=\"background-color: rgb(255,255,0,0.15256809070706367)\">preach</span> <span style=\"background-color: rgb(255,255,0,0.17427710816264153)\">##y</span> <span style=\"background-color: rgb(255,255,0,0.07121100556105375)\">or</span> <span style=\"background-color: rgb(255,255,0,0.4706702008843422)\">syrup</span> <span style=\"background-color: rgb(255,255,0,0.17231572419404984)\">##y</span> <span style=\"background-color: rgb(255,255,0,1.4914843440055847)\">.</span> <span style=\"background-color: rgb(255,255,0,1.5292024612426758)\">[SEP]</span>"
      ],
      "text/plain": [
       "<IPython.core.display.HTML object>"
      ]
     },
     "metadata": {},
     "output_type": "display_data"
    },
    {
     "data": {
      "text/html": [
       "<span style=\"background-color: rgb(255,255,0,0.3224998712539673)\">[CLS]</span> <span style=\"background-color: rgb(255,255,0,0.11725077405571938)\">verb</span> <span style=\"background-color: rgb(255,255,0,0.2815662696957588)\">##inski</span> <span style=\"background-color: rgb(255,255,0,0.4237128794193268)\">implements</span> <span style=\"background-color: rgb(255,255,0,0.6586236506700516)\">every</span> <span style=\"background-color: rgb(255,255,0,0.7935582846403122)\">hack</span> <span style=\"background-color: rgb(255,255,0,0.1384324487298727)\">-</span> <span style=\"background-color: rgb(255,255,0,0.620371401309967)\">artist</span> <span style=\"background-color: rgb(255,255,0,0.6868603080511093)\">trick</span> <span style=\"background-color: rgb(255,255,0,0.2519136480987072)\">to</span> <span style=\"background-color: rgb(255,255,0,0.29911790043115616)\">give</span> <span style=\"background-color: rgb(255,255,0,0.19364429637789726)\">us</span> <span style=\"background-color: rgb(255,255,0,0.40459930896759033)\">the</span> <span style=\"background-color: rgb(255,255,0,0.1709141954779625)\">o</span> <span style=\"background-color: rgb(255,255,0,0.19729020074009895)\">##ok</span> <span style=\"background-color: rgb(255,255,0,0.2695576846599579)\">##y</span> <span style=\"background-color: rgb(255,255,0,0.0581263517960906)\">-</span> <span style=\"background-color: rgb(255,255,0,0.06508888676762581)\">sp</span> <span style=\"background-color: rgb(255,255,0,0.8807568997144699)\">##ook</span> <span style=\"background-color: rgb(255,255,0,0.32922569662332535)\">##ies</span> <span style=\"background-color: rgb(255,255,0,1.3771162927150726)\">.</span> <span style=\"background-color: rgb(255,255,0,1.4597725868225098)\">[SEP]</span>"
      ],
      "text/plain": [
       "<IPython.core.display.HTML object>"
      ]
     },
     "metadata": {},
     "output_type": "display_data"
    },
    {
     "data": {
      "text/html": [
       "<span style=\"background-color: rgb(255,255,0,0.33862676471471786)\">[CLS]</span> <span style=\"background-color: rgb(255,255,0,0.9100779145956039)\">but</span> <span style=\"background-color: rgb(255,255,0,2.079905867576599)\">it</span> <span style=\"background-color: rgb(255,255,0,0.2738702856004238)\">could</span> <span style=\"background-color: rgb(255,255,0,0.7823741436004639)\">have</span> <span style=\"background-color: rgb(255,255,0,1.0099449008703232)\">been</span> <span style=\"background-color: rgb(255,255,0,0.6860305368900299)\">worse</span> <span style=\"background-color: rgb(255,255,0,1.9029077887535095)\">.</span> <span style=\"background-color: rgb(255,255,0,2.0162616670131683)\">[SEP]</span>"
      ],
      "text/plain": [
       "<IPython.core.display.HTML object>"
      ]
     },
     "metadata": {},
     "output_type": "display_data"
    },
    {
     "data": {
      "text/html": [
       "<span style=\"background-color: rgb(255,255,0,0.15219902619719505)\">[CLS]</span> <span style=\"background-color: rgb(255,255,0,1.6067947447299957)\">a</span> <span style=\"background-color: rgb(255,255,0,0.18486389890313148)\">by</span> <span style=\"background-color: rgb(255,255,0,0.09354916401207447)\">-</span> <span style=\"background-color: rgb(255,255,0,0.07333174347877502)\">the</span> <span style=\"background-color: rgb(255,255,0,0.04899169784039259)\">-</span> <span style=\"background-color: rgb(255,255,0,0.18786240369081497)\">numbers</span> <span style=\"background-color: rgb(255,255,0,0.016015032306313515)\">patient</span> <span style=\"background-color: rgb(255,255,0,0.1999163255095482)\">/</span> <span style=\"background-color: rgb(255,255,0,0.02398189390078187)\">doctor</span> <span style=\"background-color: rgb(255,255,0,1.3749061524868011)\">pic</span> <span style=\"background-color: rgb(255,255,0,0.713483914732933)\">that</span> <span style=\"background-color: rgb(255,255,0,1.0837814956903458)\">covers</span> <span style=\"background-color: rgb(255,255,0,0.11662401258945465)\">all</span> <span style=\"background-color: rgb(255,255,0,0.3561090677976608)\">the</span> <span style=\"background-color: rgb(255,255,0,0.1113275159150362)\">usual</span> <span style=\"background-color: rgb(255,255,0,0.5760320648550987)\">ground</span> <span style=\"background-color: rgb(255,255,0,3.0802294611930847)\">[SEP]</span>"
      ],
      "text/plain": [
       "<IPython.core.display.HTML object>"
      ]
     },
     "metadata": {},
     "output_type": "display_data"
    },
    {
     "data": {
      "text/html": [
       "<span style=\"background-color: rgb(255,255,0,0.22590845823287964)\">[CLS]</span> <span style=\"background-color: rgb(255,255,0,0.21602805703878403)\">a</span> <span style=\"background-color: rgb(255,255,0,0.10198686271905899)\">beg</span> <span style=\"background-color: rgb(255,255,0,0.1395141240209341)\">##uil</span> <span style=\"background-color: rgb(255,255,0,0.11403015814721584)\">##ing</span> <span style=\"background-color: rgb(255,255,0,0.10610316880047321)\">splash</span> <span style=\"background-color: rgb(255,255,0,0.27066655457019806)\">of</span> <span style=\"background-color: rgb(255,255,0,0.14926736243069172)\">paste</span> <span style=\"background-color: rgb(255,255,0,0.1777862384915352)\">##l</span> <span style=\"background-color: rgb(255,255,0,0.10084026493132114)\">colors</span> <span style=\"background-color: rgb(255,255,0,0.2622843533754349)\">and</span> <span style=\"background-color: rgb(255,255,0,0.4734956845641136)\">prank</span> <span style=\"background-color: rgb(255,255,0,0.24687577039003372)\">##ish</span> <span style=\"background-color: rgb(255,255,0,0.26106974110007286)\">comedy</span> <span style=\"background-color: rgb(255,255,0,0.23402534425258636)\">from</span> <span style=\"background-color: rgb(255,255,0,0.41982609778642654)\">disney</span> <span style=\"background-color: rgb(255,255,0,0.2508033812046051)\">.</span> <span style=\"background-color: rgb(255,255,0,6.249487996101379)\">[SEP]</span>"
      ],
      "text/plain": [
       "<IPython.core.display.HTML object>"
      ]
     },
     "metadata": {},
     "output_type": "display_data"
    },
    {
     "data": {
      "text/html": [
       "<span style=\"background-color: rgb(255,255,0,0.12318044900894165)\">[CLS]</span> <span style=\"background-color: rgb(255,255,0,0.11396189220249653)\">bog</span> <span style=\"background-color: rgb(255,255,0,0.07500928360968828)\">##dan</span> <span style=\"background-color: rgb(255,255,0,0.1363277155905962)\">##ovich</span> <span style=\"background-color: rgb(255,255,0,0.10869916528463364)\">tan</span> <span style=\"background-color: rgb(255,255,0,0.09324201382696629)\">##tal</span> <span style=\"background-color: rgb(255,255,0,0.07721922360360622)\">##izes</span> <span style=\"background-color: rgb(255,255,0,0.12842465192079544)\">by</span> <span style=\"background-color: rgb(255,255,0,0.13075328432023525)\">offering</span> <span style=\"background-color: rgb(255,255,0,0.13285364024341106)\">a</span> <span style=\"background-color: rgb(255,255,0,0.7871139049530029)\">pee</span> <span style=\"background-color: rgb(255,255,0,0.19875075668096542)\">##p</span> <span style=\"background-color: rgb(255,255,0,0.15777306631207466)\">show</span> <span style=\"background-color: rgb(255,255,0,0.2542242780327797)\">into</span> <span style=\"background-color: rgb(255,255,0,0.12312286533415318)\">the</span> <span style=\"background-color: rgb(255,255,0,0.2627192623913288)\">lives</span> <span style=\"background-color: rgb(255,255,0,0.13017399236559868)\">of</span> <span style=\"background-color: rgb(255,255,0,0.1512983813881874)\">the</span> <span style=\"background-color: rgb(255,255,0,0.5276859179139137)\">era</span> <span style=\"background-color: rgb(255,255,0,1.684459000825882)\">'</span> <span style=\"background-color: rgb(255,255,0,0.06696342024952173)\">s</span> <span style=\"background-color: rgb(255,255,0,0.09939055889844894)\">cr</span> <span style=\"background-color: rgb(255,255,0,0.0562653923407197)\">##eme</span> <span style=\"background-color: rgb(255,255,0,0.17331665381789207)\">de</span> <span style=\"background-color: rgb(255,255,0,0.17685217782855034)\">la</span> <span style=\"background-color: rgb(255,255,0,0.12236880138516426)\">cell</span> <span style=\"background-color: rgb(255,255,0,0.22378547117114067)\">##ulo</span> <span style=\"background-color: rgb(255,255,0,0.21509302780032158)\">##id</span> <span style=\"background-color: rgb(255,255,0,1.7069420218467712)\">.</span> <span style=\"background-color: rgb(255,255,0,1.762029379606247)\">[SEP]</span>"
      ],
      "text/plain": [
       "<IPython.core.display.HTML object>"
      ]
     },
     "metadata": {},
     "output_type": "display_data"
    },
    {
     "data": {
      "text/html": [
       "<span style=\"background-color: rgb(255,255,0,0.2256804145872593)\">[CLS]</span> <span style=\"background-color: rgb(255,255,0,0.23406470194458961)\">what</span> <span style=\"background-color: rgb(255,255,0,0.8243725448846817)\">the</span> <span style=\"background-color: rgb(255,255,0,1.0836255550384521)\">director</span> <span style=\"background-color: rgb(255,255,0,0.2190984971821308)\">ca</span> <span style=\"background-color: rgb(255,255,0,0.1225135289132595)\">n</span> <span style=\"background-color: rgb(255,255,0,1.0919871926307678)\">'</span> <span style=\"background-color: rgb(255,255,0,0.3604944050312042)\">t</span> <span style=\"background-color: rgb(255,255,0,0.3741944581270218)\">do</span> <span style=\"background-color: rgb(255,255,0,0.5033877491950989)\">is</span> <span style=\"background-color: rgb(255,255,0,0.6415744870901108)\">make</span> <span style=\"background-color: rgb(255,255,0,0.9136391431093216)\">either</span> <span style=\"background-color: rgb(255,255,0,0.12054831720888615)\">of</span> <span style=\"background-color: rgb(255,255,0,0.008904190617613494)\">val</span> <span style=\"background-color: rgb(255,255,0,0.009737059008330107)\">ki</span> <span style=\"background-color: rgb(255,255,0,0.013972462620586157)\">##lmer</span> <span style=\"background-color: rgb(255,255,0,0.008368527051061392)\">'</span> <span style=\"background-color: rgb(255,255,0,0.008740242337808013)\">s</span> <span style=\"background-color: rgb(255,255,0,0.11742888949811459)\">two</span> <span style=\"background-color: rgb(255,255,0,0.015905197942629457)\">persona</span> <span style=\"background-color: rgb(255,255,0,0.012589020188897848)\">##s</span> <span style=\"background-color: rgb(255,255,0,0.08440296165645123)\">interesting</span> <span style=\"background-color: rgb(255,255,0,0.2936973609030247)\">or</span> <span style=\"background-color: rgb(255,255,0,0.16692401841282845)\">worth</span> <span style=\"background-color: rgb(255,255,0,0.3336457163095474)\">caring</span> <span style=\"background-color: rgb(255,255,0,0.10115203447639942)\">about</span> <span style=\"background-color: rgb(255,255,0,1.1003286391496658)\">.</span> <span style=\"background-color: rgb(255,255,0,1.009022668004036)\">[SEP]</span>"
      ],
      "text/plain": [
       "<IPython.core.display.HTML object>"
      ]
     },
     "metadata": {},
     "output_type": "display_data"
    },
    {
     "data": {
      "text/html": [
       "<span style=\"background-color: rgb(255,255,0,0.2909707650542259)\">[CLS]</span> <span style=\"background-color: rgb(255,255,0,0.09972680360078812)\">one</span> <span style=\"background-color: rgb(255,255,0,0.07217956706881523)\">of</span> <span style=\"background-color: rgb(255,255,0,0.17112141475081444)\">those</span> <span style=\"background-color: rgb(255,255,0,0.08896510116755962)\">energetic</span> <span style=\"background-color: rgb(255,255,0,0.0905234832316637)\">surprises</span> <span style=\"background-color: rgb(255,255,0,0.12826895341277122)\">,</span> <span style=\"background-color: rgb(255,255,0,0.10317801497876644)\">an</span> <span style=\"background-color: rgb(255,255,0,0.15228078700602055)\">original</span> <span style=\"background-color: rgb(255,255,0,0.08462722413241863)\">that</span> <span style=\"background-color: rgb(255,255,0,0.09872108697891235)\">please</span> <span style=\"background-color: rgb(255,255,0,0.07968931458890438)\">##s</span> <span style=\"background-color: rgb(255,255,0,0.09709350764751434)\">almost</span> <span style=\"background-color: rgb(255,255,0,0.1093391701579094)\">everyone</span> <span style=\"background-color: rgb(255,255,0,0.05479719489812851)\">who</span> <span style=\"background-color: rgb(255,255,0,0.21051185205578804)\">sees</span> <span style=\"background-color: rgb(255,255,0,0.18062841147184372)\">it</span> <span style=\"background-color: rgb(255,255,0,3.912898898124695)\">.</span> <span style=\"background-color: rgb(255,255,0,3.9744773507118225)\">[SEP]</span>"
      ],
      "text/plain": [
       "<IPython.core.display.HTML object>"
      ]
     },
     "metadata": {},
     "output_type": "display_data"
    },
    {
     "data": {
      "text/html": [
       "<span style=\"background-color: rgb(255,255,0,0.2588876709342003)\">[CLS]</span> <span style=\"background-color: rgb(255,255,0,0.07720132358372211)\">it</span> <span style=\"background-color: rgb(255,255,0,0.05401286296546459)\">is</span> <span style=\"background-color: rgb(255,255,0,0.046165273524820805)\">great</span> <span style=\"background-color: rgb(255,255,0,0.11220885440707207)\">summer</span> <span style=\"background-color: rgb(255,255,0,0.04573844373226166)\">fun</span> <span style=\"background-color: rgb(255,255,0,0.06243904121220112)\">to</span> <span style=\"background-color: rgb(255,255,0,0.08253626525402069)\">watch</span> <span style=\"background-color: rgb(255,255,0,0.34505289047956467)\">arnold</span> <span style=\"background-color: rgb(255,255,0,0.09576465934515)\">and</span> <span style=\"background-color: rgb(255,255,0,0.042631495743989944)\">his</span> <span style=\"background-color: rgb(255,255,0,0.03770416136831045)\">buddy</span> <span style=\"background-color: rgb(255,255,0,0.241360142827034)\">gerald</span> <span style=\"background-color: rgb(255,255,0,0.13325938023626804)\">bounce</span> <span style=\"background-color: rgb(255,255,0,0.35239778459072113)\">off</span> <span style=\"background-color: rgb(255,255,0,0.06889934651553631)\">a</span> <span style=\"background-color: rgb(255,255,0,0.06653031799942255)\">qui</span> <span style=\"background-color: rgb(255,255,0,0.1786346174776554)\">##rky</span> <span style=\"background-color: rgb(255,255,0,0.11833523400127888)\">cast</span> <span style=\"background-color: rgb(255,255,0,0.08323418907821178)\">of</span> <span style=\"background-color: rgb(255,255,0,0.4744044691324234)\">characters</span> <span style=\"background-color: rgb(255,255,0,3.479602634906769)\">.</span> <span style=\"background-color: rgb(255,255,0,3.542998731136322)\">[SEP]</span>"
      ],
      "text/plain": [
       "<IPython.core.display.HTML object>"
      ]
     },
     "metadata": {},
     "output_type": "display_data"
    },
    {
     "data": {
      "text/html": [
       "<span style=\"background-color: rgb(255,255,0,0.59853445738554)\">[CLS]</span> <span style=\"background-color: rgb(255,255,0,0.9437308460474014)\">just</span> <span style=\"background-color: rgb(255,255,0,1.3010506331920624)\">one</span> <span style=\"background-color: rgb(255,255,0,1.0963623225688934)\">bad</span> <span style=\"background-color: rgb(255,255,0,2.1759936213493347)\">idea</span> <span style=\"background-color: rgb(255,255,0,0.8081139624118805)\">after</span> <span style=\"background-color: rgb(255,255,0,0.14261320233345032)\">another</span> <span style=\"background-color: rgb(255,255,0,1.2828628718852997)\">.</span> <span style=\"background-color: rgb(255,255,0,1.6507376730442047)\">[SEP]</span>"
      ],
      "text/plain": [
       "<IPython.core.display.HTML object>"
      ]
     },
     "metadata": {},
     "output_type": "display_data"
    }
   ],
   "source": [
    "print_results(batch_dev)"
   ]
  },
  {
   "cell_type": "code",
   "execution_count": 30,
   "metadata": {},
   "outputs": [],
   "source": [
    "def save():\n",
    "    output_dir = './output'\n",
    "    if not os.path.exists(output_dir):\n",
    "        os.makedirs(output_dir)\n",
    "    print(\"Saving model to {}\".format(output_dir))\n",
    "    model.save_pretrained(output_dir)\n",
    "    tokenizer.save_pretrained(output_dir)"
   ]
  },
  {
   "cell_type": "code",
   "execution_count": 31,
   "metadata": {},
   "outputs": [
    {
     "name": "stdout",
     "output_type": "stream",
     "text": [
      "Saving model to ./output\n"
     ]
    }
   ],
   "source": [
    "save()"
   ]
  },
  {
   "cell_type": "code",
   "execution_count": null,
   "metadata": {},
   "outputs": [],
   "source": []
  }
 ],
 "metadata": {
  "kernelspec": {
   "display_name": "Python 3",
   "language": "python",
   "name": "python3"
  },
  "language_info": {
   "codemirror_mode": {
    "name": "ipython",
    "version": 3
   },
   "file_extension": ".py",
   "mimetype": "text/x-python",
   "name": "python",
   "nbconvert_exporter": "python",
   "pygments_lexer": "ipython3",
   "version": "3.7.6"
  }
 },
 "nbformat": 4,
 "nbformat_minor": 4
}
