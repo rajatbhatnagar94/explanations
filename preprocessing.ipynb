{
 "cells": [
  {
   "cell_type": "code",
   "execution_count": 16,
   "metadata": {},
   "outputs": [],
   "source": [
    "import os\n",
    "import pandas as pd\n",
    "from sklearn.model_selection import train_test_split"
   ]
  },
  {
   "cell_type": "code",
   "execution_count": 2,
   "metadata": {},
   "outputs": [],
   "source": [
    "datasets = [\n",
    "#     {\n",
    "#         \"name\": \"Stanford treebank\",\n",
    "#         \"prefix\": \"stanford_treebank\",\n",
    "#         \"train_path\": \"/data/sam/stanford_treebank/sst_train.csv\",\n",
    "#         \"dev_path\": \"/data/sam/stanford_treebank/sst_dev.csv\",\n",
    "#         \"test_path\": \"/data/sam/stanford_treebank/sst_test.csv\",\n",
    "#         'classes': ['neg', 'pos']\n",
    "#     },\n",
    "    {\n",
    "        \"name\": \"Reddit Dataset\",\n",
    "        \"prefix\": \"reddit_dataset\",\n",
    "        \"train_path\": \"/data/rajat/ex_ml/reddit/input/train.csv\",\n",
    "        \"dev_path\": \"/data/rajat/ex_ml/reddit/input/dev.csv\",\n",
    "        \"test_path\": \"/data/rajat/ex_ml/reddit/input/test.csv\",\n",
    "        'classes': [0, 1]\n",
    "    }\n",
    "]"
   ]
  },
  {
   "cell_type": "code",
   "execution_count": 3,
   "metadata": {},
   "outputs": [],
   "source": [
    "def read_data():\n",
    "    train = pd.read_csv(datasets[0]['train_path'],index_col=0)\n",
    "    dev = pd.read_csv(datasets[0]['dev_path'],index_col=0)\n",
    "    test = pd.read_csv(datasets[0]['test_path'],index_col=0)\n",
    "    return train, dev, test\n",
    "train_data, dev, test = read_data()\n"
   ]
  },
  {
   "cell_type": "code",
   "execution_count": 5,
   "metadata": {},
   "outputs": [],
   "source": [
    "all_data = pd.concat([train_data, dev, test])"
   ]
  },
  {
   "cell_type": "code",
   "execution_count": 7,
   "metadata": {},
   "outputs": [
    {
     "data": {
      "text/plain": [
       "83179"
      ]
     },
     "execution_count": 7,
     "metadata": {},
     "output_type": "execute_result"
    }
   ],
   "source": [
    "len(all_data)"
   ]
  },
  {
   "cell_type": "code",
   "execution_count": 9,
   "metadata": {},
   "outputs": [],
   "source": [
    "new_data = all_data.drop_duplicates(subset='text')"
   ]
  },
  {
   "cell_type": "code",
   "execution_count": 10,
   "metadata": {},
   "outputs": [
    {
     "data": {
      "text/plain": [
       "54735"
      ]
     },
     "execution_count": 10,
     "metadata": {},
     "output_type": "execute_result"
    }
   ],
   "source": [
    "len(new_data)"
   ]
  },
  {
   "cell_type": "code",
   "execution_count": 14,
   "metadata": {},
   "outputs": [
    {
     "data": {
      "text/html": [
       "<div>\n",
       "<style scoped>\n",
       "    .dataframe tbody tr th:only-of-type {\n",
       "        vertical-align: middle;\n",
       "    }\n",
       "\n",
       "    .dataframe tbody tr th {\n",
       "        vertical-align: top;\n",
       "    }\n",
       "\n",
       "    .dataframe thead th {\n",
       "        text-align: right;\n",
       "    }\n",
       "</style>\n",
       "<table border=\"1\" class=\"dataframe\">\n",
       "  <thead>\n",
       "    <tr style=\"text-align: right;\">\n",
       "      <th></th>\n",
       "      <th>id</th>\n",
       "      <th>classification</th>\n",
       "      <th>text</th>\n",
       "    </tr>\n",
       "  </thead>\n",
       "  <tbody>\n",
       "    <tr>\n",
       "      <th>77412</th>\n",
       "      <td>44796</td>\n",
       "      <td>1</td>\n",
       "      <td>lol good god you guys are fucking retarded ple...</td>\n",
       "    </tr>\n",
       "    <tr>\n",
       "      <th>51290</th>\n",
       "      <td>18674</td>\n",
       "      <td>1</td>\n",
       "      <td>oh boy trump supporters retards</td>\n",
       "    </tr>\n",
       "    <tr>\n",
       "      <th>61231</th>\n",
       "      <td>28615</td>\n",
       "      <td>1</td>\n",
       "      <td>end your life u pussy</td>\n",
       "    </tr>\n",
       "    <tr>\n",
       "      <th>70046</th>\n",
       "      <td>37430</td>\n",
       "      <td>1</td>\n",
       "      <td>just stop nobody knows what happened yet you t...</td>\n",
       "    </tr>\n",
       "    <tr>\n",
       "      <th>56464</th>\n",
       "      <td>23848</td>\n",
       "      <td>1</td>\n",
       "      <td>dont talk to me ever again you stupid apish re...</td>\n",
       "    </tr>\n",
       "    <tr>\n",
       "      <th>...</th>\n",
       "      <td>...</td>\n",
       "      <td>...</td>\n",
       "      <td>...</td>\n",
       "    </tr>\n",
       "    <tr>\n",
       "      <th>47941</th>\n",
       "      <td>15325</td>\n",
       "      <td>1</td>\n",
       "      <td>just fucking disgusting http www frontpagemag ...</td>\n",
       "    </tr>\n",
       "    <tr>\n",
       "      <th>56777</th>\n",
       "      <td>24161</td>\n",
       "      <td>1</td>\n",
       "      <td>although i voted for johnson you re a fucking ...</td>\n",
       "    </tr>\n",
       "    <tr>\n",
       "      <th>48606</th>\n",
       "      <td>15990</td>\n",
       "      <td>1</td>\n",
       "      <td>no fuck you cuck</td>\n",
       "    </tr>\n",
       "    <tr>\n",
       "      <th>69094</th>\n",
       "      <td>36478</td>\n",
       "      <td>1</td>\n",
       "      <td>i fucking hate people who give the right answe...</td>\n",
       "    </tr>\n",
       "    <tr>\n",
       "      <th>63043</th>\n",
       "      <td>30427</td>\n",
       "      <td>1</td>\n",
       "      <td>a fucking cis white male</td>\n",
       "    </tr>\n",
       "  </tbody>\n",
       "</table>\n",
       "<p>22320 rows × 3 columns</p>\n",
       "</div>"
      ],
      "text/plain": [
       "          id  classification  \\\n",
       "77412  44796               1   \n",
       "51290  18674               1   \n",
       "61231  28615               1   \n",
       "70046  37430               1   \n",
       "56464  23848               1   \n",
       "...      ...             ...   \n",
       "47941  15325               1   \n",
       "56777  24161               1   \n",
       "48606  15990               1   \n",
       "69094  36478               1   \n",
       "63043  30427               1   \n",
       "\n",
       "                                                    text  \n",
       "77412  lol good god you guys are fucking retarded ple...  \n",
       "51290                    oh boy trump supporters retards  \n",
       "61231                              end your life u pussy  \n",
       "70046  just stop nobody knows what happened yet you t...  \n",
       "56464  dont talk to me ever again you stupid apish re...  \n",
       "...                                                  ...  \n",
       "47941  just fucking disgusting http www frontpagemag ...  \n",
       "56777  although i voted for johnson you re a fucking ...  \n",
       "48606                                   no fuck you cuck  \n",
       "69094  i fucking hate people who give the right answe...  \n",
       "63043                           a fucking cis white male  \n",
       "\n",
       "[22320 rows x 3 columns]"
      ]
     },
     "execution_count": 14,
     "metadata": {},
     "output_type": "execute_result"
    }
   ],
   "source": [
    "new_data[new_data['classification'] == 1]"
   ]
  },
  {
   "cell_type": "code",
   "execution_count": 19,
   "metadata": {},
   "outputs": [],
   "source": [
    "equal_new_data = new_data[new_data['classification'] == 0][0:22320].append(new_data[new_data['classification'] == 1])\n"
   ]
  },
  {
   "cell_type": "code",
   "execution_count": 21,
   "metadata": {},
   "outputs": [],
   "source": [
    "equal_new_data.to_csv('/data/rajat/datasets/reddit/all.csv', header=True)"
   ]
  },
  {
   "cell_type": "code",
   "execution_count": 23,
   "metadata": {},
   "outputs": [],
   "source": [
    "df = equal_new_data"
   ]
  },
  {
   "cell_type": "code",
   "execution_count": 24,
   "metadata": {},
   "outputs": [],
   "source": [
    "input_dir='/data/rajat/datasets/reddit/'\n",
    "train, test = train_test_split(df, test_size=0.2)\n",
    "dev, test = train_test_split(test, test_size=0.5)\n",
    "train.to_csv('{0}train.csv'.format(input_dir), header=True)\n",
    "test.to_csv('{0}test.csv'.format(input_dir), header=True)\n",
    "dev.to_csv('{0}dev.csv'.format(input_dir), header=True)\n"
   ]
  },
  {
   "cell_type": "code",
   "execution_count": null,
   "metadata": {},
   "outputs": [],
   "source": []
  }
 ],
 "metadata": {
  "kernelspec": {
   "display_name": "Python 3",
   "language": "python",
   "name": "python3"
  },
  "language_info": {
   "codemirror_mode": {
    "name": "ipython",
    "version": 3
   },
   "file_extension": ".py",
   "mimetype": "text/x-python",
   "name": "python",
   "nbconvert_exporter": "python",
   "pygments_lexer": "ipython3",
   "version": "3.7.6"
  }
 },
 "nbformat": 4,
 "nbformat_minor": 4
}
